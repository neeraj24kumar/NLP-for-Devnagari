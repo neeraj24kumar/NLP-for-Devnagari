{
  "nbformat": 4,
  "nbformat_minor": 0,
  "metadata": {
    "colab": {
      "provenance": []
    },
    "kernelspec": {
      "name": "python3",
      "display_name": "Python 3"
    },
    "language_info": {
      "name": "python"
    }
  },
  "cells": [
    {
      "cell_type": "markdown",
      "source": [
        "# Natural Language Processing for Devnagari text using Python"
      ],
      "metadata": {
        "id": "nao9Ohbs4NlR"
      }
    },
    {
      "cell_type": "code",
      "execution_count": 1,
      "metadata": {
        "colab": {
          "base_uri": "https://localhost:8080/"
        },
        "id": "LLAjeAz7NAjO",
        "outputId": "0704b4f6-da2e-4a1f-c4ee-6fdc22ede923"
      },
      "outputs": [
        {
          "output_type": "stream",
          "name": "stdout",
          "text": [
            "Requirement already satisfied: nltk in /usr/local/lib/python3.11/dist-packages (3.9.1)\n",
            "Requirement already satisfied: click in /usr/local/lib/python3.11/dist-packages (from nltk) (8.1.8)\n",
            "Requirement already satisfied: joblib in /usr/local/lib/python3.11/dist-packages (from nltk) (1.4.2)\n",
            "Requirement already satisfied: regex>=2021.8.3 in /usr/local/lib/python3.11/dist-packages (from nltk) (2024.11.6)\n",
            "Requirement already satisfied: tqdm in /usr/local/lib/python3.11/dist-packages (from nltk) (4.67.1)\n"
          ]
        }
      ],
      "source": [
        "!pip install nltk"
      ]
    },
    {
      "cell_type": "code",
      "source": [
        "import nltk"
      ],
      "metadata": {
        "id": "Vtd_Za2aNcIg"
      },
      "execution_count": 2,
      "outputs": []
    },
    {
      "cell_type": "code",
      "source": [
        "nltk.download('all')"
      ],
      "metadata": {
        "colab": {
          "base_uri": "https://localhost:8080/"
        },
        "id": "5vsZ3h1SNkff",
        "outputId": "f76f7a28-6b68-4b82-d386-cf7fdbf7d8d2"
      },
      "execution_count": 3,
      "outputs": [
        {
          "output_type": "stream",
          "name": "stderr",
          "text": [
            "[nltk_data] Downloading collection 'all'\n",
            "[nltk_data]    | \n",
            "[nltk_data]    | Downloading package abc to /root/nltk_data...\n",
            "[nltk_data]    |   Unzipping corpora/abc.zip.\n",
            "[nltk_data]    | Downloading package alpino to /root/nltk_data...\n",
            "[nltk_data]    |   Unzipping corpora/alpino.zip.\n",
            "[nltk_data]    | Downloading package averaged_perceptron_tagger to\n",
            "[nltk_data]    |     /root/nltk_data...\n",
            "[nltk_data]    |   Unzipping taggers/averaged_perceptron_tagger.zip.\n",
            "[nltk_data]    | Downloading package averaged_perceptron_tagger_eng to\n",
            "[nltk_data]    |     /root/nltk_data...\n",
            "[nltk_data]    |   Unzipping\n",
            "[nltk_data]    |       taggers/averaged_perceptron_tagger_eng.zip.\n",
            "[nltk_data]    | Downloading package averaged_perceptron_tagger_ru to\n",
            "[nltk_data]    |     /root/nltk_data...\n",
            "[nltk_data]    |   Unzipping\n",
            "[nltk_data]    |       taggers/averaged_perceptron_tagger_ru.zip.\n",
            "[nltk_data]    | Downloading package averaged_perceptron_tagger_rus to\n",
            "[nltk_data]    |     /root/nltk_data...\n",
            "[nltk_data]    |   Unzipping\n",
            "[nltk_data]    |       taggers/averaged_perceptron_tagger_rus.zip.\n",
            "[nltk_data]    | Downloading package basque_grammars to\n",
            "[nltk_data]    |     /root/nltk_data...\n",
            "[nltk_data]    |   Unzipping grammars/basque_grammars.zip.\n",
            "[nltk_data]    | Downloading package bcp47 to /root/nltk_data...\n",
            "[nltk_data]    | Downloading package biocreative_ppi to\n",
            "[nltk_data]    |     /root/nltk_data...\n",
            "[nltk_data]    |   Unzipping corpora/biocreative_ppi.zip.\n",
            "[nltk_data]    | Downloading package bllip_wsj_no_aux to\n",
            "[nltk_data]    |     /root/nltk_data...\n",
            "[nltk_data]    |   Unzipping models/bllip_wsj_no_aux.zip.\n",
            "[nltk_data]    | Downloading package book_grammars to\n",
            "[nltk_data]    |     /root/nltk_data...\n",
            "[nltk_data]    |   Unzipping grammars/book_grammars.zip.\n",
            "[nltk_data]    | Downloading package brown to /root/nltk_data...\n",
            "[nltk_data]    |   Unzipping corpora/brown.zip.\n",
            "[nltk_data]    | Downloading package brown_tei to /root/nltk_data...\n",
            "[nltk_data]    |   Unzipping corpora/brown_tei.zip.\n",
            "[nltk_data]    | Downloading package cess_cat to /root/nltk_data...\n",
            "[nltk_data]    |   Unzipping corpora/cess_cat.zip.\n",
            "[nltk_data]    | Downloading package cess_esp to /root/nltk_data...\n",
            "[nltk_data]    |   Unzipping corpora/cess_esp.zip.\n",
            "[nltk_data]    | Downloading package chat80 to /root/nltk_data...\n",
            "[nltk_data]    |   Unzipping corpora/chat80.zip.\n",
            "[nltk_data]    | Downloading package city_database to\n",
            "[nltk_data]    |     /root/nltk_data...\n",
            "[nltk_data]    |   Unzipping corpora/city_database.zip.\n",
            "[nltk_data]    | Downloading package cmudict to /root/nltk_data...\n",
            "[nltk_data]    |   Unzipping corpora/cmudict.zip.\n",
            "[nltk_data]    | Downloading package comparative_sentences to\n",
            "[nltk_data]    |     /root/nltk_data...\n",
            "[nltk_data]    |   Unzipping corpora/comparative_sentences.zip.\n",
            "[nltk_data]    | Downloading package comtrans to /root/nltk_data...\n",
            "[nltk_data]    | Downloading package conll2000 to /root/nltk_data...\n",
            "[nltk_data]    |   Unzipping corpora/conll2000.zip.\n",
            "[nltk_data]    | Downloading package conll2002 to /root/nltk_data...\n",
            "[nltk_data]    |   Unzipping corpora/conll2002.zip.\n",
            "[nltk_data]    | Downloading package conll2007 to /root/nltk_data...\n",
            "[nltk_data]    | Downloading package crubadan to /root/nltk_data...\n",
            "[nltk_data]    |   Unzipping corpora/crubadan.zip.\n",
            "[nltk_data]    | Downloading package dependency_treebank to\n",
            "[nltk_data]    |     /root/nltk_data...\n",
            "[nltk_data]    |   Unzipping corpora/dependency_treebank.zip.\n",
            "[nltk_data]    | Downloading package dolch to /root/nltk_data...\n",
            "[nltk_data]    |   Unzipping corpora/dolch.zip.\n",
            "[nltk_data]    | Downloading package europarl_raw to\n",
            "[nltk_data]    |     /root/nltk_data...\n",
            "[nltk_data]    |   Unzipping corpora/europarl_raw.zip.\n",
            "[nltk_data]    | Downloading package extended_omw to\n",
            "[nltk_data]    |     /root/nltk_data...\n",
            "[nltk_data]    | Downloading package floresta to /root/nltk_data...\n",
            "[nltk_data]    |   Unzipping corpora/floresta.zip.\n",
            "[nltk_data]    | Downloading package framenet_v15 to\n",
            "[nltk_data]    |     /root/nltk_data...\n",
            "[nltk_data]    |   Unzipping corpora/framenet_v15.zip.\n",
            "[nltk_data]    | Downloading package framenet_v17 to\n",
            "[nltk_data]    |     /root/nltk_data...\n",
            "[nltk_data]    |   Unzipping corpora/framenet_v17.zip.\n",
            "[nltk_data]    | Downloading package gazetteers to /root/nltk_data...\n",
            "[nltk_data]    |   Unzipping corpora/gazetteers.zip.\n",
            "[nltk_data]    | Downloading package genesis to /root/nltk_data...\n",
            "[nltk_data]    |   Unzipping corpora/genesis.zip.\n",
            "[nltk_data]    | Downloading package gutenberg to /root/nltk_data...\n",
            "[nltk_data]    |   Unzipping corpora/gutenberg.zip.\n",
            "[nltk_data]    | Downloading package ieer to /root/nltk_data...\n",
            "[nltk_data]    |   Unzipping corpora/ieer.zip.\n",
            "[nltk_data]    | Downloading package inaugural to /root/nltk_data...\n",
            "[nltk_data]    |   Unzipping corpora/inaugural.zip.\n",
            "[nltk_data]    | Downloading package indian to /root/nltk_data...\n",
            "[nltk_data]    |   Unzipping corpora/indian.zip.\n",
            "[nltk_data]    | Downloading package jeita to /root/nltk_data...\n",
            "[nltk_data]    | Downloading package kimmo to /root/nltk_data...\n",
            "[nltk_data]    |   Unzipping corpora/kimmo.zip.\n",
            "[nltk_data]    | Downloading package knbc to /root/nltk_data...\n",
            "[nltk_data]    | Downloading package large_grammars to\n",
            "[nltk_data]    |     /root/nltk_data...\n",
            "[nltk_data]    |   Unzipping grammars/large_grammars.zip.\n",
            "[nltk_data]    | Downloading package lin_thesaurus to\n",
            "[nltk_data]    |     /root/nltk_data...\n",
            "[nltk_data]    |   Unzipping corpora/lin_thesaurus.zip.\n",
            "[nltk_data]    | Downloading package mac_morpho to /root/nltk_data...\n",
            "[nltk_data]    |   Unzipping corpora/mac_morpho.zip.\n",
            "[nltk_data]    | Downloading package machado to /root/nltk_data...\n",
            "[nltk_data]    | Downloading package masc_tagged to /root/nltk_data...\n",
            "[nltk_data]    | Downloading package maxent_ne_chunker to\n",
            "[nltk_data]    |     /root/nltk_data...\n",
            "[nltk_data]    |   Unzipping chunkers/maxent_ne_chunker.zip.\n",
            "[nltk_data]    | Downloading package maxent_ne_chunker_tab to\n",
            "[nltk_data]    |     /root/nltk_data...\n",
            "[nltk_data]    |   Unzipping chunkers/maxent_ne_chunker_tab.zip.\n",
            "[nltk_data]    | Downloading package maxent_treebank_pos_tagger to\n",
            "[nltk_data]    |     /root/nltk_data...\n",
            "[nltk_data]    |   Unzipping taggers/maxent_treebank_pos_tagger.zip.\n",
            "[nltk_data]    | Downloading package maxent_treebank_pos_tagger_tab to\n",
            "[nltk_data]    |     /root/nltk_data...\n",
            "[nltk_data]    |   Unzipping\n",
            "[nltk_data]    |       taggers/maxent_treebank_pos_tagger_tab.zip.\n",
            "[nltk_data]    | Downloading package moses_sample to\n",
            "[nltk_data]    |     /root/nltk_data...\n",
            "[nltk_data]    |   Unzipping models/moses_sample.zip.\n",
            "[nltk_data]    | Downloading package movie_reviews to\n",
            "[nltk_data]    |     /root/nltk_data...\n",
            "[nltk_data]    |   Unzipping corpora/movie_reviews.zip.\n",
            "[nltk_data]    | Downloading package mte_teip5 to /root/nltk_data...\n",
            "[nltk_data]    |   Unzipping corpora/mte_teip5.zip.\n",
            "[nltk_data]    | Downloading package mwa_ppdb to /root/nltk_data...\n",
            "[nltk_data]    |   Unzipping misc/mwa_ppdb.zip.\n",
            "[nltk_data]    | Downloading package names to /root/nltk_data...\n",
            "[nltk_data]    |   Unzipping corpora/names.zip.\n",
            "[nltk_data]    | Downloading package nombank.1.0 to /root/nltk_data...\n",
            "[nltk_data]    | Downloading package nonbreaking_prefixes to\n",
            "[nltk_data]    |     /root/nltk_data...\n",
            "[nltk_data]    |   Unzipping corpora/nonbreaking_prefixes.zip.\n",
            "[nltk_data]    | Downloading package nps_chat to /root/nltk_data...\n",
            "[nltk_data]    |   Unzipping corpora/nps_chat.zip.\n",
            "[nltk_data]    | Downloading package omw to /root/nltk_data...\n",
            "[nltk_data]    | Downloading package omw-1.4 to /root/nltk_data...\n",
            "[nltk_data]    | Downloading package opinion_lexicon to\n",
            "[nltk_data]    |     /root/nltk_data...\n",
            "[nltk_data]    |   Unzipping corpora/opinion_lexicon.zip.\n",
            "[nltk_data]    | Downloading package panlex_swadesh to\n",
            "[nltk_data]    |     /root/nltk_data...\n",
            "[nltk_data]    | Downloading package paradigms to /root/nltk_data...\n",
            "[nltk_data]    |   Unzipping corpora/paradigms.zip.\n",
            "[nltk_data]    | Downloading package pe08 to /root/nltk_data...\n",
            "[nltk_data]    |   Unzipping corpora/pe08.zip.\n",
            "[nltk_data]    | Downloading package perluniprops to\n",
            "[nltk_data]    |     /root/nltk_data...\n",
            "[nltk_data]    |   Unzipping misc/perluniprops.zip.\n",
            "[nltk_data]    | Downloading package pil to /root/nltk_data...\n",
            "[nltk_data]    |   Unzipping corpora/pil.zip.\n",
            "[nltk_data]    | Downloading package pl196x to /root/nltk_data...\n",
            "[nltk_data]    |   Unzipping corpora/pl196x.zip.\n",
            "[nltk_data]    | Downloading package porter_test to /root/nltk_data...\n",
            "[nltk_data]    |   Unzipping stemmers/porter_test.zip.\n",
            "[nltk_data]    | Downloading package ppattach to /root/nltk_data...\n",
            "[nltk_data]    |   Unzipping corpora/ppattach.zip.\n",
            "[nltk_data]    | Downloading package problem_reports to\n",
            "[nltk_data]    |     /root/nltk_data...\n",
            "[nltk_data]    |   Unzipping corpora/problem_reports.zip.\n",
            "[nltk_data]    | Downloading package product_reviews_1 to\n",
            "[nltk_data]    |     /root/nltk_data...\n",
            "[nltk_data]    |   Unzipping corpora/product_reviews_1.zip.\n",
            "[nltk_data]    | Downloading package product_reviews_2 to\n",
            "[nltk_data]    |     /root/nltk_data...\n",
            "[nltk_data]    |   Unzipping corpora/product_reviews_2.zip.\n",
            "[nltk_data]    | Downloading package propbank to /root/nltk_data...\n",
            "[nltk_data]    | Downloading package pros_cons to /root/nltk_data...\n",
            "[nltk_data]    |   Unzipping corpora/pros_cons.zip.\n",
            "[nltk_data]    | Downloading package ptb to /root/nltk_data...\n",
            "[nltk_data]    |   Unzipping corpora/ptb.zip.\n",
            "[nltk_data]    | Downloading package punkt to /root/nltk_data...\n",
            "[nltk_data]    |   Unzipping tokenizers/punkt.zip.\n",
            "[nltk_data]    | Downloading package punkt_tab to /root/nltk_data...\n",
            "[nltk_data]    |   Unzipping tokenizers/punkt_tab.zip.\n",
            "[nltk_data]    | Downloading package qc to /root/nltk_data...\n",
            "[nltk_data]    |   Unzipping corpora/qc.zip.\n",
            "[nltk_data]    | Downloading package reuters to /root/nltk_data...\n",
            "[nltk_data]    | Downloading package rslp to /root/nltk_data...\n",
            "[nltk_data]    |   Unzipping stemmers/rslp.zip.\n",
            "[nltk_data]    | Downloading package rte to /root/nltk_data...\n",
            "[nltk_data]    |   Unzipping corpora/rte.zip.\n",
            "[nltk_data]    | Downloading package sample_grammars to\n",
            "[nltk_data]    |     /root/nltk_data...\n",
            "[nltk_data]    |   Unzipping grammars/sample_grammars.zip.\n",
            "[nltk_data]    | Downloading package semcor to /root/nltk_data...\n",
            "[nltk_data]    | Downloading package senseval to /root/nltk_data...\n",
            "[nltk_data]    |   Unzipping corpora/senseval.zip.\n",
            "[nltk_data]    | Downloading package sentence_polarity to\n",
            "[nltk_data]    |     /root/nltk_data...\n",
            "[nltk_data]    |   Unzipping corpora/sentence_polarity.zip.\n",
            "[nltk_data]    | Downloading package sentiwordnet to\n",
            "[nltk_data]    |     /root/nltk_data...\n",
            "[nltk_data]    |   Unzipping corpora/sentiwordnet.zip.\n",
            "[nltk_data]    | Downloading package shakespeare to /root/nltk_data...\n",
            "[nltk_data]    |   Unzipping corpora/shakespeare.zip.\n",
            "[nltk_data]    | Downloading package sinica_treebank to\n",
            "[nltk_data]    |     /root/nltk_data...\n",
            "[nltk_data]    |   Unzipping corpora/sinica_treebank.zip.\n",
            "[nltk_data]    | Downloading package smultron to /root/nltk_data...\n",
            "[nltk_data]    |   Unzipping corpora/smultron.zip.\n",
            "[nltk_data]    | Downloading package snowball_data to\n",
            "[nltk_data]    |     /root/nltk_data...\n",
            "[nltk_data]    | Downloading package spanish_grammars to\n",
            "[nltk_data]    |     /root/nltk_data...\n",
            "[nltk_data]    |   Unzipping grammars/spanish_grammars.zip.\n",
            "[nltk_data]    | Downloading package state_union to /root/nltk_data...\n",
            "[nltk_data]    |   Unzipping corpora/state_union.zip.\n",
            "[nltk_data]    | Downloading package stopwords to /root/nltk_data...\n",
            "[nltk_data]    |   Unzipping corpora/stopwords.zip.\n",
            "[nltk_data]    | Downloading package subjectivity to\n",
            "[nltk_data]    |     /root/nltk_data...\n",
            "[nltk_data]    |   Unzipping corpora/subjectivity.zip.\n",
            "[nltk_data]    | Downloading package swadesh to /root/nltk_data...\n",
            "[nltk_data]    |   Unzipping corpora/swadesh.zip.\n",
            "[nltk_data]    | Downloading package switchboard to /root/nltk_data...\n",
            "[nltk_data]    |   Unzipping corpora/switchboard.zip.\n",
            "[nltk_data]    | Downloading package tagsets to /root/nltk_data...\n",
            "[nltk_data]    |   Unzipping help/tagsets.zip.\n",
            "[nltk_data]    | Downloading package tagsets_json to\n",
            "[nltk_data]    |     /root/nltk_data...\n",
            "[nltk_data]    |   Unzipping help/tagsets_json.zip.\n",
            "[nltk_data]    | Downloading package timit to /root/nltk_data...\n",
            "[nltk_data]    |   Unzipping corpora/timit.zip.\n",
            "[nltk_data]    | Downloading package toolbox to /root/nltk_data...\n",
            "[nltk_data]    |   Unzipping corpora/toolbox.zip.\n",
            "[nltk_data]    | Downloading package treebank to /root/nltk_data...\n",
            "[nltk_data]    |   Unzipping corpora/treebank.zip.\n",
            "[nltk_data]    | Downloading package twitter_samples to\n",
            "[nltk_data]    |     /root/nltk_data...\n",
            "[nltk_data]    |   Unzipping corpora/twitter_samples.zip.\n",
            "[nltk_data]    | Downloading package udhr to /root/nltk_data...\n",
            "[nltk_data]    |   Unzipping corpora/udhr.zip.\n",
            "[nltk_data]    | Downloading package udhr2 to /root/nltk_data...\n",
            "[nltk_data]    |   Unzipping corpora/udhr2.zip.\n",
            "[nltk_data]    | Downloading package unicode_samples to\n",
            "[nltk_data]    |     /root/nltk_data...\n",
            "[nltk_data]    |   Unzipping corpora/unicode_samples.zip.\n",
            "[nltk_data]    | Downloading package universal_tagset to\n",
            "[nltk_data]    |     /root/nltk_data...\n",
            "[nltk_data]    |   Unzipping taggers/universal_tagset.zip.\n",
            "[nltk_data]    | Downloading package universal_treebanks_v20 to\n",
            "[nltk_data]    |     /root/nltk_data...\n",
            "[nltk_data]    | Downloading package vader_lexicon to\n",
            "[nltk_data]    |     /root/nltk_data...\n",
            "[nltk_data]    | Downloading package verbnet to /root/nltk_data...\n",
            "[nltk_data]    |   Unzipping corpora/verbnet.zip.\n",
            "[nltk_data]    | Downloading package verbnet3 to /root/nltk_data...\n",
            "[nltk_data]    |   Unzipping corpora/verbnet3.zip.\n",
            "[nltk_data]    | Downloading package webtext to /root/nltk_data...\n",
            "[nltk_data]    |   Unzipping corpora/webtext.zip.\n",
            "[nltk_data]    | Downloading package wmt15_eval to /root/nltk_data...\n",
            "[nltk_data]    |   Unzipping models/wmt15_eval.zip.\n",
            "[nltk_data]    | Downloading package word2vec_sample to\n",
            "[nltk_data]    |     /root/nltk_data...\n",
            "[nltk_data]    |   Unzipping models/word2vec_sample.zip.\n",
            "[nltk_data]    | Downloading package wordnet to /root/nltk_data...\n",
            "[nltk_data]    | Downloading package wordnet2021 to /root/nltk_data...\n",
            "[nltk_data]    | Downloading package wordnet2022 to /root/nltk_data...\n",
            "[nltk_data]    |   Unzipping corpora/wordnet2022.zip.\n",
            "[nltk_data]    | Downloading package wordnet31 to /root/nltk_data...\n",
            "[nltk_data]    | Downloading package wordnet_ic to /root/nltk_data...\n",
            "[nltk_data]    |   Unzipping corpora/wordnet_ic.zip.\n",
            "[nltk_data]    | Downloading package words to /root/nltk_data...\n",
            "[nltk_data]    |   Unzipping corpora/words.zip.\n",
            "[nltk_data]    | Downloading package ycoe to /root/nltk_data...\n",
            "[nltk_data]    |   Unzipping corpora/ycoe.zip.\n",
            "[nltk_data]    | \n",
            "[nltk_data]  Done downloading collection all\n"
          ]
        },
        {
          "output_type": "execute_result",
          "data": {
            "text/plain": [
              "True"
            ]
          },
          "metadata": {},
          "execution_count": 3
        }
      ]
    },
    {
      "cell_type": "code",
      "source": [
        "from nltk import FreqDist, bigrams\n",
        "from nltk.probability import ConditionalFreqDist\n",
        "from nltk.text import Text\n",
        "import matplotlib.pyplot as plt\n",
        "\n",
        "import warnings\n",
        "warnings.filterwarnings('ignore')\n",
        "\n",
        "# Load the font .ttf file for langauage support\n",
        "import matplotlib.font_manager as fm\n",
        "font_path = '/content/NotoSansDevanagari-VariableFont_wdth,wght.ttf'\n",
        "fm.fontManager.addfont(font_path)\n",
        "plt.rcParams['font.family'] = 'Noto Sans Devanagari'"
      ],
      "metadata": {
        "id": "1tnRZINPRmn5"
      },
      "execution_count": 4,
      "outputs": []
    },
    {
      "cell_type": "code",
      "source": [
        "# Load the Bhojpuri text from the file\n",
        "with open('/content/पीला_वॉलपेपर_भोजपुरी.txt', 'r', encoding='utf-8') as file:\n",
        "    text = file.read()"
      ],
      "metadata": {
        "id": "Lp7RbqB2SpLR"
      },
      "execution_count": 5,
      "outputs": []
    },
    {
      "cell_type": "code",
      "source": [
        "print(text)"
      ],
      "metadata": {
        "colab": {
          "base_uri": "https://localhost:8080/"
        },
        "id": "pF3u3f4Zek44",
        "outputId": "bf45360f-5e68-4457-f9fb-30925e20106a"
      },
      "execution_count": 6,
      "outputs": [
        {
          "output_type": "stream",
          "name": "stdout",
          "text": [
            "पीला वॉलपेपर के बा\n",
            "\n",
            "शार्लोट पर्किन्स गिलमैन के लिखल ह\n",
            "\n",
            "\n",
            "बहुत कम होला कि जॉन आ हमरा जइसन खाली आम लोग सुरक्षित होखे\n",
            "गर्मी खातिर पैतृक हॉल बनावल गइल बा.\n",
            "\n",
            "एगो औपनिवेशिक हवेली, एगो वंशानुगत संपत्ति, हम कहब कि एगो भूतिया घर,\n",
            "आ रोमांटिक फेलिसिटी के ऊंचाई पर पहुँच जाईं-लेकिन ऊहो पूछल होखी\n",
            "किस्मत के बहुत कुछ!\n",
            "\n",
            "तबो हम गर्व से घोषणा करब कि एहमें कुछ क्वीयर बा.\n",
            "\n",
            "ना त एतना सस्ता में काहे दिहल जाव? आ काहे एतना दिन से खड़ा बानी\n",
            "बिना किराये के बा?\n",
            "\n",
            "जॉन हमरा पर हँसेले, बेशक, लेकिन बियाह में अयीसन उम्मीद होखेला।\n",
            "\n",
            "जॉन चरम सीमा में व्यावहारिक बाड़े। ओकरा विश्वास के कवनो धैर्य नइखे, आ...\n",
            "अंधविश्वास के तीव्र भयावहता, आ ऊ कवनो बात पर खुल के मजाक उड़ावेला\n",
            "जवन चीजन के महसूस ना कइल जाव आ ना देखल जाव आ आंकड़ा में ना राखल जाव.\n",
            "\n",
            "यूहन्ना एगो चिकित्सक हवें, आ शायद—(हम ई बात कवनो जिंदा आत्मा से ना कहब,\n",
            "बेशक, बाकिर ई मरल कागज ह आ हमरा खातिर बहुते राहत बा\n",
            "मन)—शायद इहे एगो कारण बा कि हम जल्दी ठीक ना होखेनी।\n",
            "\n",
            "देखत बाड़ऽ, ओकरा विश्वास नइखे कि हम बेमार बानी!\n",
            "\n",
            "आ केहू का कर सकेला?\n",
            "\n",
            "अगर कवनो उच्च पद के चिकित्सक, आ आपन खुद के पति, दोस्तन के भरोसा दिआवे\n",
            "आ रिश्तेदारन के कि वास्तव में एक के साथ कुछुओ बात नइखे लेकिन...\n",
            "अस्थायी तंत्रिका अवसाद- हल्का हिस्टीरिकल प्रवृत्ति-एक का होला\n",
            "करे के बा?\n",
            "\n",
            "हमार भाई भी चिकित्सक हउवें, आ उच्च पद के भी, आ ऊ कहत बाड़े\n",
            "उहे बात बा।\n",
            "\n",
            "त हम फॉस्फेट भा फॉस्फाइट लेत बानी-जवन होखे, आ टॉनिक, आ...\n",
            "यात्रा, आ हवा, आ व्यायाम, आ “काम” करे से बिल्कुल मना कइल गइल बा.\n",
            "जबले हम फेर से ठीक ना हो जाईं.\n",
            "\n",
            "निजी तौर प हम ओ लोग के विचार से असहमत बानी।\n",
            "\n",
            "निजी तौर प हमार मानना ​​बा कि सहज काम, उत्साह अवुरी बदलाव के संगे,\n",
            "हमरा के भलाई करीत।\n",
            "\n",
            "बाकिर आदमी के का करे के बा?\n",
            "\n",
            "ओह लोग के बावजूद हम कुछ समय खातिर जरूर लिखनी; बाकिर ई हमरा के एगो बढ़िया थका देला\n",
            "सौदा—एह बारे में अतना धूर्त होखे के पड़ी, ना त भारी विरोध से भेंट होखे के पड़ी.\n",
            "\n",
            "हम कबो-कबो फैंसी करेनी कि हमरा हालत में अगर हमरा विरोध कम रहित आ...\n",
            "अधिका समाज आ प्रोत्साहन-लेकिन जॉन सबसे खराब काम कहत बाड़े जवन हम कर सकेनी\n",
            "ह अपना हालत के बारे में सोचे के, अवुरी हम कबूल करतानी कि एकरा से हमरा हमेशा एहसास होखेला\n",
            "खराब।\n",
            "\n",
            "त छोड़ के घर के बात करब।\n",
            "\n",
            "सबसे सुन्दर जगह बा! ई काफी अकेले बा, से बढ़िया से पीछे खड़ा बा\n",
            "सड़क, गाँव से काफी तीन मील दूर। हमरा के सोचे पर मजबूर कर देला\n",
            "अंग्रेजी जगह जवना के बारे में रउरा पढ़त बानी, काहे कि हेज आ देवाल बा आ...\n",
            "ताला वाला गेट, आ माली लोग खातिर ढेर अलग-अलग छोट-छोट घर\n",
            "आ लोग के भी।\n",
            "\n",
            "एगो स्वादिष्ट बगइचा बा! अइसन बगइचा हम कबो ना देखले रहनी-बड़का आ छायादार,\n",
            "बक्सा के सीमा वाला रास्ता से भरल, आ अंगूर से ढंकल लमहर आर्बर से लाइन कइल\n",
            "जवना के नीचे सीट बा।\n",
            "\n",
            "ग्रीनहाउस भी रहे, लेकिन अब सब टूट गईल बा।\n",
            "\n",
            "कुछ कानूनी परेशानी रहे, हमरा विश्वास बा, वारिस लोग के बारे में कुछ अवुरी...\n",
            "सह-वारिस लोग के; वइसे भी जगह बरिसन से खाली बा।\n",
            "\n",
            "जवन हमरा भूत-प्रेत के बिगाड़ देला, हमरा डर लागत बा; बाकिर हमरा एकर कवनो परवाह नइखे—उहाँ बा\n",
            "घर के बारे में कुछ अजीब बात—हम महसूस कर सकेनी।\n",
            "\n",
            "इहाँ तक कि हम एक दिन चाँदनी के साँझ जॉन से अयीसन कहले रहनी, लेकिन उ जवन हमरा लागल उहे कहले\n",
            "एगो ड्राफ्ट रहे, आ खिड़की बंद कर दिहलस।\n",
            "\n",
            "जॉन से कबो-कबो बेवजह नाराज हो जानी। हमरा पूरा विश्वास बा कि पहिले कबो ना करत रहनी\n",
            "एतना संवेदनशील होखे के चाहीं। हमरा लागता कि एकर कारण ए घबराहट के स्थिति बा।\n",
            "\n",
            "बाकिर जॉन कहत बाड़न कि अगर हमरा अइसन लागी त हम उचित आत्मसंयम के उपेक्षा करब; त हम...\n",
            "अपना के काबू में करे खातिर कष्ट उठाईं,—कम से कम ओकरा से पहिले,—आ इहे हमरा के बनावेला\n",
            "बहुत थक गईल बानी।\n",
            "\n",
            "हमरा तनी हमार कमरा पसंद नइखे। हमरा नीचे एगो चाहीं जवन पर खुलल होखे\n",
            "पियाज़ा आ पूरा खिड़की पर गुलाब के फूल रहे, आ अतना सुंदर पुरान जमाना के\n",
            "चिंट्ज फांसी के शिकार हो गइल बा! लेकिन यूहन्ना एकर बारे में ना सुनले।\n",
            "\n",
            "उ कहले कि सिर्फ एगो खिड़की बा अवुरी दु बिस्तर खाती जगह नईखे, अवुरी ना\n",
            "ओकरा खातिर कमरा के लगे अगर ऊ दोसरा के ले जाव.\n",
            "\n",
            "ऊ बहुते सावधान आ प्यार करे वाला हउवें आ शायदे हमरा के बिना खास के हलचल करे देसु\n",
            "दिशा।\n",
            "\n",
            "दिन के हर घंटा के शेड्यूल पर्चे हमरा लगे बा; ऊ सब ले लेला\n",
            "हमरा से परवाह बा, आ एहसे हम एकरा के अधिका महत्व ना देबे खातिर बेसब्री से कृतघ्न महसूस करत बानी.\n",
            "\n",
            "उ कहले कि हम इहाँ सिर्फ हमरा खाता प आईल बानी, कि हमरा परफेक्ट होखे के बा\n",
            "आराम आ जवन हवा मिल सकत रहे। उ कहले कि, आपके व्यायाम आपके...\n",
            "ताकत, हमार प्रियतम,” ऊ कहले, “आ तोहार खाना कुछ तहरा भूख पर;\n",
            "बाकिर हवा के रउरा हर समय सोख सकेनी.” त हम नर्सरी ले गइनी, पर...\n",
            "घर के ऊपर बा।\n",
            "\n",
            "ई एगो बड़हन, हवादार कमरा ह, पूरा मंजिल करीब बा, जवना के खिड़की अइसन लउकत बा\n",
            "हर रास्ता, आ हवा आ धूप के भरमार। पहिले नर्सरी रहे आ फेर\n",
            "खेल के मैदान आ व्यायामशाला, हमरा जज करे के चाहीं; काहे कि खिड़की पर सलाख लागल बा\n",
            "छोट लइकन खातिर, आ देवालन में अंगूठी आ चीज बा।\n",
            "\n",
            "रंग आ कागज अइसन लागत बा जइसे कवनो लड़िकन के स्कूल एकर इस्तेमाल कइले होखे. ई ह\n",
            "उतारल-कागज-हमार बिछौना के माथा के चारो ओर बड़हन-बड़हन पैच में,\n",
            "लगभग जहाँ तक हम पहुँच सकेनी, आ के दूसरा ओर एगो बढ़िया जगह पर\n",
            "कमरा नीचे नीचे बा। एकरा से खराब कागज हम अपना जिनिगी में कबो ना देखले रहनी।\n",
            "\n",
            "हर कलात्मक प्रतिबद्ध ओह फइलल आडंबरपूर्ण पैटर्न में से एगो\n",
            "पाप के बा।\n",
            "\n",
            "ई एतना नीरस बा कि फॉलोइंग में आँख के भ्रमित कर देला, एतना उच्चारण होला कि...\n",
            "लगातार चिढ़ावत रहेनी, आ पढ़ाई के भड़कावत रहेनी, आ जब लंगड़ा के पीछे पड़ जानी त\n",
            "अनिश्चित वक्रता तनी दूरी तक अचानक प्रतिबद्ध हो जाला\n",
            "आत्महत्या—अपमानजनक कोण पर डूब जाला, अपना के तबाह कर देला\n",
            "अनसुना विरोधाभास के बात बा।\n",
            "\n",
            "रंग भगावे वाला होला, लगभग विद्रोही होला; एगो धधकत, अशुद्ध\n",
            "पीयर, धीरे-धीरे घूमत सूरज के रोशनी से अजीब तरह से फीका हो गइल।\n",
            "\n",
            "ई कुछ जगह नीरस बाकिर लूरिड संतरा होला, जवना में एगो बीमार सल्फर टिंट होला\n",
            "दोसरा लोग के कहल जाला.\n",
            "\n",
            "कवनो आश्चर्य ना कि लइका लोग एकरा से नफरत करत रहे! अगर करे के पड़ी त खुदे एकरा से नफरत करे के चाहीं\n",
            "एह कमरा में लंबा समय तक रहेला।\n",
            "\n",
            "उहाँ जॉन आवेला, आ हमरा ई बात छोड़ देबे के पड़ी,—उनुका हमरा से एगो लिखे से नफरत बा\n",
            "शब्द।\n",
            "\n",
            "हमनी के इहाँ दु सप्ताह हो गईल बा, अवुरी हमरा पहिले लिखे के मन ना भईल रहे,\n",
            "ओह पहिला दिन से ही।\n",
            "\n",
            "हम अब खिड़की के लगे बइठल बानी, ऊपर एह अत्याचारी नर्सरी में, आ उहाँ\n",
            "के कमी के छोड़ के हमरा लेखन में जेतना बाधा आवे वाला कवनो बात नइखे\n",
            "जोर।\n",
            "\n",
            "जॉन दिन भर दूर रहेले, अवुरी कुछ रात तक जब उनुकर मामला गंभीर होखेला।\n",
            "\n",
            "हमरा खुशी बा कि हमार केस गंभीर नइखे!\n",
            "\n",
            "बाकिर ई घबराहट के परेशानी भयानक निराशाजनक होला.\n",
            "\n",
            "जॉन के पता नइखे कि हम सचमुच केतना कष्ट उठावत बानी। ऊ जानत बा कि कवनो नइखे\n",
            "दुख उठावे के कारण बा, आ ऊ ओकरा के संतुष्ट कर देला.\n",
            "\n",
            "बेशक ई खाली घबराहट ह. ई हमरा पर जरूर तौलत ​​बा एहसे हमार ना करे के\n",
            "कवनो भी तरह से कर्तव्य!\n",
            "\n",
            "हमार मतलब रहे कि जॉन खातिर अतना मदद करीं, अतना असली आराम आ आराम, आ...\n",
            "इहाँ हम पहिलहीं से तुलनात्मक बोझ बानी!\n",
            "\n",
            "केहू के विश्वास ना होई कि हम जवन कम बानी ओकरा के करे के कतना प्रयास बा\n",
            "सक्षम—सज-धज के आ मनोरंजन करे, आ चीजन के क्रमबद्ध करे में।\n",
            "\n",
            "ई सौभाग्य बा कि मैरी बच्चा के साथे एतना बढ़िया बाड़ी। अइसन प्यारा लइका!\n",
            "\n",
            "आ तबहियो हम ओकरा साथे नइखीं रह सकत, एहसे हमरा अतना घबराहट हो जाला.\n",
            "\n",
            "हमरा लागता कि जॉन अपना जीवन में कबो घबराहट में ना रहले। ऊ हमरा पर अतना के बारे में हँसेला\n",
            "ई वॉलपेपर बा!\n",
            "\n",
            "पहिले त उनकर मतलब रहे कि कमरा के कागज फिर से बनावल जाव, लेकिन बाद में उ कहले कि हम\n",
            "एकरा के हमरा पर हावी होखे देत रहे, आ कि एकरा से खराब कुछुओ ना रहे एगो\n",
            "अइसन आडंबर के राह देबे से बेसी घबराहट वाला मरीज.\n",
            "\n",
            "उ कहले कि वॉलपेपर बदलला के बाद इ भारी होई\n",
            "बेडस्टेड, आ फेर सलाख वाला खिड़की, आ फेर माथा पर ऊ गेट\n",
            "सीढ़ी के, वगैरह वगैरह.\n",
            "\n",
            "ऊ कहले, “तू जानत बाड़ऽ कि ऊ जगह तोहार भलाई कर रहल बा आ सचहूँ, प्रिय, हम\n",
            "खाली तीन महीना के किराया खातिर घर के मरम्मत के परवाह ना करीं.”\n",
            "\n",
            "हम कहनी, “तब कर हम नीचे चल जाइब, अतना सुंदर कमरा बा\n",
            "ऊहाॅंं।\"\n",
            "\n",
            "तब उ हमरा के अपना कोरा में लेके हमरा के धन्य छोट हंस कहले, आ...\n",
            "कहलस कि हम चाहब त कोठरी में उतर जइहें, आ ओकरा के सफेदी करवा दीहें\n",
            "मोलभाव के बात बा।\n",
            "\n",
            "बाकिर ऊ बिछौना-खिड़की आ चीजन के बारे में काफी सही कहत बाड़े।\n",
            "\n",
            "ई ओतने हवादार आ आरामदायक कमरा ह जतना केहू के जरूरत चाहत होखे, आ, के...\n",
            "बेशक, हम एतना मूर्ख ना होखब कि ओकरा के सिर्फ एगो...\n",
            "सनक के भाव बा।\n",
            "\n",
            "हमरा त सचमुच बड़का कमरा के काफी शौक हो रहल बा, सब लेकिन एतना भयानक\n",
            "कागज।\n",
            "\n",
            "एक खिड़की से हमरा बगइचा लउकत बा, ऊ रहस्यमयी गहिराह छायादार\n",
            "आर्बर, उधम मचावे वाला पुरान जमाना के फूल, आ झाड़ी आ गंभीर पेड़।\n",
            "\n",
            "एगो अउरी से हमरा खाड़ी के प्यारा नजारा मिलेला आ तनी निजी\n",
            "एस्टेट से संबंधित घाट के बा। एगो सुन्दर छायादार लेन बा जवन...\n",
            "घर से नीचे दौड़त बा। हमरा हमेशा फैंसी होला कि हम लोग के भीतर घुसत देखत बानी\n",
            "ई असंख्य रास्ता आ आर्बर, बाकिर जॉन हमरा के चेतवले बाड़न कि मत दीं\n",
            "कम से कम फैंसी करे के तरीका। ऊ कहत बाड़न कि हमरा कल्पनाशक्ति से आ...\n",
            "कहानी बनावे के आदत हमरा जइसन घबराहट के कमजोरी के ओर ले जाइल तय बा\n",
            "हर तरह के उत्साहित आडंबर, आ कि हमरा आपन इच्छा आ भलाई के इस्तेमाल करे के चाहीं\n",
            "प्रवृत्ति के जांच करे खातिर भाव। त हम कोशिश करत बानी.\n",
            "\n",
            "हमरा कबो-कबो लागेला कि अगर हम तनी ठीक रहतीं त तनी लिख लेतीं\n",
            "प्रेस के विचार से राहत देत रहे आ हमरा के आराम देत रहे।\n",
            "\n",
            "बाकिर हमरा लागेला कि कोशिश कइला पर हम काफी थक जानी।\n",
            "\n",
            "हमरा बारे में कवनो सलाह आ साथी ना होखल अतना हतोत्साहित करे वाला बा\n",
            "काम। जब हम सचमुच ठीक हो जाईब त जॉन कहतारे कि हम चचेरा भाई हेनरी से पूछब अवुरी...\n",
            "जूलिया एगो लंबा यात्रा खातिर नीचे; बाकिर ऊ कहत बाड़न कि जइसहीं डाल देत रहले\n",
            "हमरा तकिया-केस में आतिशबाजी जइसे कि हमरा लगे ऊ उत्तेजक लोग होखे दीं\n",
            "अब के बारे में।\n",
            "\n",
            "काश हम जल्दी ठीक हो सकत रहनी।\n",
            "\n",
            "बाकिर हमरा ओह बारे में ना सोचे के चाहीं. ई कागज हमरा के अइसे देखत बा जइसे ओकरा मालूम होखे\n",
            "एकर कतना शातिर प्रभाव पड़ल!\n",
            "\n",
            "एगो बार-बार आवे वाला जगह बा जहाँ पैटर्न टूटल गर्दन निहन लोल जाला\n",
            "आ दू गो बल्ब नियर आँख रउरा के उल्टा टकटकी लगा के देखत बा.\n",
            "\n",
            "एकरा अभद्रता से सकारात्मक रूप से नाराज हो जानी आ...\n",
            "अनन्तता के भाव बा। ऊपर नीचे आ बगल में रेंगत बाड़े, आ ऊ बेतुका लोग,\n",
            "बिना झपकत आँख हर जगह बा। एक जगह बा जहाँ दू चौड़ाई बा\n",
            "मेल ना खात रहे, आ आँख सब लाइन के ऊपर नीचे चल जाला, एक तनी\n",
            "दूसरा से ऊँच बा।\n",
            "\n",
            "कवनो निर्जीव चीज में एतना अभिव्यक्ति हम पहिले कबो ना देखले रहनी, आ हमनी के सब केहू\n",
            "जानत बानी कि ओह लोग के केतना अभिव्यक्ति बा! बचपन में जागल लेटत रहनी आ...\n",
            "खाली देवाल आ सादा से अधिका मनोरंजन आ आतंक मिलल\n",
            "फर्नीचर जवन अधिकतर लइकन के खिलौना-स्टोर में मिल सकेला.\n",
            "\n",
            "हमरा इयाद बा कि हमनी के बड़का पुरान ब्यूरो के घुंडी कतना दयालुता से आँखि मिचौनी करत रहे\n",
            "बा, आ एगो कुर्सी रहे जवन हमेशा एगो मजबूत दोस्त लागत रहे।\n",
            "\n",
            "हमरा लागत रहे कि अगर बाकी कवनो बात बहुते भयंकर लागत बा त हम\n",
            "हमेशा ओह कुर्सी पर हॉप कर सकत रहले आ सुरक्षित रह सकत रहले.\n",
            "\n",
            "एह कमरा के फर्नीचर असमंजस से भी खराब नइखे, हालांकि, काहे कि...\n",
            "हमनी के नीचे से सब कुछ ले आवे के रहे। हमरा लागता कि जब एकर इस्तेमाल के रूप में भईल रहे\n",
            "एगो प्लेरूम ओह लोग के नर्सरी के चीजन के बाहर निकाले के रहे, आ कवनो आश्चर्य नइखे! आई. के बा\n",
            "कबो अइसन तबाही ना देखले जइसन एहिजा के लइका-लइकी कइले बाड़े.\n",
            "\n",
            "वॉलपेपर, जइसन कि हम पहिले कहले रहीं, धब्बा-धब्बा फाटल बा, आ चिपकल बा\n",
            "भाई से भी करीबी—उनका लगे दृढ़ता के साथे-साथे...\n",
            "नफरत के भाव रहे।\n",
            "\n",
            "फेर फर्श के खरोंच के गॉग आ फाटल जाला, प्लास्टर\n",
            "खुदे इहाँ-उहाँ खोदल गइल बा, आ ई बड़हन भारी बिछौना, जवन बा\n",
            "कमरा में जवन मिलल बा, लागत बा कि जइसे युद्धन से गुजरल होखे।\n",
            "\n",
            "बाकिर हमरा तनी दिक्कत नइखे-सिर्फ कागज।\n",
            "\n",
            "उहाँ जॉन के बहिन आवेले। अतना प्रिय लइकी जइसन बा, आ एतना सावधान\n",
            "हमरा के! हमरा ओकरा के हमरा के लिखत ना मिले देबे के चाहीं.\n",
            "\n",
            "ऊ एगो परफेक्ट, आ उत्साही हाउसकीपर हई, आ एहसे बढ़िया के उमेद नइखे\n",
            "पेशा। हमरा पूरा विश्वास बा कि उनुका लागत बा कि इहे लेखन हमरा के बनवले बा\n",
            "बेमार!\n",
            "\n",
            "बाकिर जब ऊ बाहर होखीहें त हम लिख सकीलें, आ एह सब से बहुते दूर देख सकीलें\n",
            "खिड़की के बा।\n",
            "\n",
            "सड़क के आज्ञा देवे वाला एगो बा, एगो प्यारा, छायादार, घुमावदार सड़क,\n",
            "आ अइसन जवन बस देश के ऊपर से नजर डालत बा. एगो प्यारा देश भी,\n",
            "महान एल्म आ मखमली घास के मैदान से भरल।\n",
            "\n",
            "एह वॉलपेपर में एक तरह के उप-पैटर्न एगो अलग शेड में बा, क\n",
            "खास तौर पर चिढ़ावे वाला, काहे कि रउरा एकरा के कुछ खास रोशनी में ही देख सकेनी,\n",
            "आ तब साफ ना भइल.\n",
            "\n",
            "बाकिर जवना जगहन पर ई फीका नइखे, आ जहाँ सूरज बस अतने बा, हम...\n",
            "एगो अजीब, भड़काऊ, निराकार तरह के आकृति देख सकेला, जवन लागत बा\n",
            "ओह मूर्खतापूर्ण आ उभरत सामने के डिजाइन के पीछे के बारे में सुलग।\n",
            "\n",
            "सीढ़ी पर बहिन बाड़ी!\n",
            "\n",
            "खैर, चौथा जुलाई के दिन खतम हो गइल बा! जनता गइल बा आ हम थक गइल बानी\n",
            "बहरी। जॉन के लागल कि शायद हमरा तनी कंपनी देख के भलाई होई, त हमनी के...\n",
            "बस माई आ नेल्ली आ लइकन के एक हफ्ता खातिर नीचे रखले रहनी।\n",
            "\n",
            "बेशक हम कवनो काम ना कइनी। जेनी अब सब कुछ देखत बाड़ी।\n",
            "\n",
            "बाकिर ई हमरा के सब एके जइसन थका दिहलसि.\n",
            "\n",
            "जॉन कहतारे कि अगर हम तेजी से ना उठाईब त उ हमरा के वेयर मिशेल के लगे भेज दिहे\n",
            "गिरावट में भइल.\n",
            "\n",
            "बाकिर हमरा ओहिजा जाए के मन बिल्कुल नइखे. हमार एगो दोस्त रहले जे उनुका में रहले\n",
            "हाथ एक बेर, आ ऊ कहेले कि ऊ ठीक जॉन आ हमरा भाई जइसन बा, खाली अधिका\n",
            "एही से!\n",
            "\n",
            "एकरा अलावे एतना दूर तक जाए के अयीसन उपक्रम बा।\n",
            "\n",
            "हमरा नइखे लागत कि एकरा खातिर हाथ पलटला के लायक रहे\n",
            "कुछुओ, आ हम भयावह रूप से चिंतित आ खिसियाइल हो रहल बानी.\n",
            "\n",
            "हम कवनो बात पर रोवेनी, आ अधिकतर समय रोवेनी।\n",
            "\n",
            "बेशक हम तब ना जब जॉन इहाँ होखे, भा केहू अउरी, बलुक जब हम होखीं\n",
            "अकेले।\n",
            "\n",
            "आ हम अकेले बानी बहुते बढ़िया सौदा अभी. जॉन के शहर में बहुत बार रखल जाला द्वारा\n",
            "गंभीर मामिला में, आ जेनी बढ़िया बाड़ी आ जब हम चाहत बानी त हमरा के अकेले छोड़ देत बाड़ी.\n",
            "\n",
            "त हम तनी बगइचा में चलत बानी भा ओह प्यारा लेन से नीचे, बइठ के...\n",
            "गुलाब के नीचे बरामदा, आ इहाँ बढ़िया से ऊपर लेट जा।\n",
            "\n",
            "वॉलपेपर के बावजूद कमरा के बहुत शौक हो रहल बा। शायद\n",
            "वॉलपेपर के चलते।\n",
            "\n",
            "ई हमरा मन में बसल बा त!\n",
            "\n",
            "हम इहाँ एह महान अचल बिछौना पर लेट गइल बानी-ई कील ठोकल बा, हमरा विश्वास बा-आ...\n",
            "ओह पैटर्न के लगभग घंटा के हिसाब से पालन करीं. जिमनास्टिक जइसन बढ़िया बा, हम\n",
            "रउरा के भरोसा दिआवत बानी. हम शुरू करत बानी, हम कहब, नीचे से, नीचे कोना में ओवर\n",
            "उहाँ जहाँ एकरा के छूवल नइखे गइल, आ हम हजारवाँ खातिर तय करत बानी\n",
            "समय कि हम ओह बेमतलब के पैटर्न के कवनो ना कवनो तरह के क\n",
            "अंतिम बात।\n",
            "\n",
            "डिजाइन के सिद्धांत के बारे में हमरा तनी मालूम बा, अवुरी हमरा मालूम बा कि इ चीज़ रहे\n",
            "विकिरण, भा बारी-बारी से, भा दोहराव के कवनो नियम पर व्यवस्था ना कइल गइल,\n",
            "भा समरूपता, भा कवनो दोसर बात जवना के बारे में हम कबो सुनले रहीं.\n",
            "\n",
            "एकरा के दोहरावल जाला, बेशक, चौड़ाई से, बाकिर दोसरा तरह से ना.\n",
            "\n",
            "एक तरह से देखल जाव त हर चौड़ाई अकेले खड़ा बा, फूलल वक्रता आ...\n",
            "पनपेला-प्रलाप ट्रेमेंस के साथ एक तरह के “नीच रोमनस्क्यू”-जा जाला\n",
            "फूहड़पन के अलग-थलग स्तंभ में ऊपर नीचे लहरात।\n",
            "\n",
            "लेकिन, दूसरा ओर, उ लोग तिरछा जुड़ जाला, अवुरी फइलल\n",
            "रूपरेखा ऑप्टिक हॉरर के महान तिरछा लहरन में भाग जाला, जइसे कि बहुत कुछ\n",
            "पूरा पीछा करत लहरात समुद्री शैवाल।\n",
            "\n",
            "पूरा बात क्षैतिज रूप से भी चलेला, कम से कम अयीसन लागता, अवुरी हम\n",
            "ओहमें एकर जाए के क्रम के भेद करे के कोशिश में अपना के थका देत बानी\n",
            "दिशा।\n",
            "\n",
            "ई लोग फ्रीज खातिर क्षैतिज चौड़ाई के इस्तेमाल कइले बा आ ई अउरी जोड़ देला\n",
            "अद्भुत बात से भ्रम के स्थिति पैदा हो गईल।\n",
            "\n",
            "कमरा के एगो छोर बा जहाँ लगभग बरकरार बा, आ उहाँ, जब\n",
            "क्रॉस-लाइट फीका हो जाला आ कम धूप सीधे ओकरा पर चमकेला, हम कर सकेनी\n",
            "लगभग फैंसी विकिरण आखिरकार,—अंतहीन विचित्रता अइसन लागत बा\n",
            "एगो आम केंद्र के आसपास बन जाला आ बराबर के सिर से डुबकी लगा के भाग जाला\n",
            "विकर्षण के काम होला.\n",
            "\n",
            "एकर पालन करत हमरा थक जाला। झपकी ले लेब, हमरा अनुमान बा।\n",
            "\n",
            "पता ना काहे ई लिखे के चाहीं.\n",
            "\n",
            "हम नइखी चाहत।\n",
            "\n",
            "हमरा त अपना के सक्षम नइखे लागत.\n",
            "\n",
            "आ हमरा मालूम बा कि जॉन के ई बेतुका लागी. बाकिर जवन महसूस करत बानी ऊ जरूर कहब आ...\n",
            "कवनो ना कवनो तरीका से सोचीं—ई त अतना राहत बा!\n",
            "\n",
            "बाकिर कोशिश राहत से अधिका होखे लागल बा.\n",
            "\n",
            "आधा समय अब ​​हम भयानक आलसी बानी, आ कबो एतना लेट जानी।\n",
            "\n",
            "जॉन कहत बाड़न कि हमरा आपन ताकत ना गँवावे के चाहीं, आ हमरा से कॉड-लिवर ऑयल लेबे के कहत बाड़न आ...\n",
            "ढेर सारा टॉनिक आ चीज, एले आ शराब के कुछ ना कहल जाव आ दुर्लभ\n",
            "मांस।\n",
            "\n",
            "प्रिय जॉन के बा! ऊ हमरा से बहुते प्यार करेला, आ हमरा के बेमार राखे से नफरत करेला. हम कोशिश कइनी\n",
            "पिछला दिने ओकरा से असली गंभीरता से उचित बात करे के, आ बतावे के\n",
            "ओकरा के कइसे काश ऊ हमरा के जाए देत रहले आ चचेरा भाई हेनरी के दौरा करसु आ...\n",
            "जूलिया के नाम से जानल जाला।\n",
            "\n",
            "बाकिर ऊ कहले कि हम ना जा पवनी, ना मिलला के बाद बर्दाश्त कर पवनी\n",
            "ऊहाॅंं; आ हम अपना खातिर बहुते बढ़िया केस ना बनवनी, काहे कि हम रहनी\n",
            "हम खतम होखे से पहिले रोवत रहनी।\n",
            "\n",
            "हमरा खातिर ई एगो बड़हन प्रयास होखे लागल बा कि हम सीधा सोचीं. बस इहे बा\n",
            "घबराहट के कमजोरी, हमरा लागता।\n",
            "\n",
            "आ प्रिय जॉन हमरा के अपना कोरा में बटोर लिहले, आ बस हमरा के ऊपर ले गइले\n",
            "आ हमरा के बिछौना पर लेट के हमरा लगे बइठ के हमरा के तब तक पढ़ले जबले कि ई हमार थका ना दिहलस\n",
            "कपार।\n",
            "\n",
            "ऊ कहले कि हम उनकर प्रिय हईं आ उनकर आराम आ उनकर सब कुछ, आ कि हम\n",
            "ओकरा खातिर आपन ख्याल राखे के पड़ी, आ बढ़िया से राखे के पड़ी.\n",
            "\n",
            "ऊ कहत बाड़न कि हमरा अलावे केहू हमरा के एहसे बाहर निकाले में मदद ना कर सके, कि हमरा आपन इस्तेमाल जरूर करे के पड़ी\n",
            "इच्छाशक्ति आ आत्मसंयम आ हमरा साथे कवनो मूर्खतापूर्ण आडंबर ना भागे दीं.\n",
            "\n",
            "एके गो आराम बा, बच्चा ठीक बा आ खुश बा, आ जरूरी नइखे\n",
            "भयानक वॉलपेपर के साथ एह नर्सरी पर कब्जा कर लीं।\n",
            "\n",
            "अगर हम एकर इस्तेमाल ना कइले रहतीं त ऊ धन्य लइका करित! कतना भाग्यशाली बा\n",
            "साफ बचि के निकल गयिल! काहे, हमरा आपन लइका ना रहित, एगो प्रभावशाली छोट\n",
            "बात, दुनिया खातिर अइसन कमरा में रहे के चाहीं।\n",
            "\n",
            "हम एकरा बारे में पहिले कबो ना सोचले रहनी, लेकिन इ भाग्यशाली बा कि जॉन हमरा के इहाँ रखले बाड़े\n",
            "आखिर में त बा. हम एकरा के बच्चा से कतना आसानी से बर्दाश्त क सकतानी, देखतानी।\n",
            "\n",
            "बेशक हम अब कबो ओह लोग के एकर जिक्र ना करेनी,—हम बहुते बुद्धिमान बानी,—लेकिन हम...\n",
            "एकरा सब पर एके जइसन नजर राखीं.\n",
            "\n",
            "ओह कागज में अइसन बात बा जवन हमरा छोड़ के केहू नइखे जानत, भा कबो ना जानत होई.\n",
            "\n",
            "ओह बाहरी पैटर्न के पीछे मद्धिम आकृति रोज साफ हो जाला।\n",
            "\n",
            "ई हमेशा एके आकार के होला, खाली बहुत संख्या में होला।\n",
            "\n",
            "आ ई अइसन बा जइसे कवनो मेहरारू झुक के ओकरा पीछे रेंग के घूमत बिया\n",
            "परकार। हमरा तनी नीक नइखे लागत. हम सोचत बानी—हम सोचे लगनी—हम जॉन के कामना करेनी\n",
            "हमरा के इहाँ से दूर ले जास!\n",
            "\n",
            "जॉन से हमार केस के बारे में बात कईल एतना मुश्किल बा, काहे कि उ बहुत बुद्धिमान बाड़े,\n",
            "आ एहसे कि ऊ हमरा से अतना प्यार करेला.\n",
            "\n",
            "बाकिर काल्हु रात एकरा के आजमा के देखनी.\n",
            "\n",
            "चाँदनी के रोशनी रहे। चाँद चारो ओर में चमकेला, ठीक ओसही जइसे सूरज चमकेला।\n",
            "\n",
            "हमरा कबो-कबो देख के नफरत होला, ई अतना धीरे-धीरे रेंगत रहेला, आ हमेशा भीतर आ जाला\n",
            "कवनो खिड़की भा दोसरा खिड़की.\n",
            "\n",
            "जॉन सुतल रहले आ हमरा उनका के जगावे से नफरत रहे, एहसे हम स्थिर रहनी आ देखत रहनी\n",
            "ओह लहरदार वॉलपेपर पर चाँदनी जबले हमरा खौफनाक ना लागल.\n",
            "\n",
            "पीछे के फीका आकृति जइसे पैटर्न के हिला देत रहे, ठीक ओसही जइसे ऊ\n",
            "बाहर निकलल चाहत रहे।\n",
            "\n",
            "हम मंद मंद उठ के महसूस करे चल गइनी आ देखनी कि कागज जरूर हिलल बा कि ना, आ...\n",
            "जब हम वापस अइनी त जॉन जागल रहले।\n",
            "\n",
            "“का बा छोटकी बच्ची?” उ कहले। “अइसन घूमत मत जा\n",
            "कि—रउरा ठंडा हो जाई।”\n",
            "\n",
            "हमरा लागल कि ई बात करे के बढ़िया समय बा, त हम उनका से कहनी कि हम सचमुच बानी\n",
            "इहाँ फायदा ना होखे, आ कि हम चाहत रहनी कि ऊ हमरा के ले जास।\n",
            "\n",
            "“काहे डार्लिंग!” ऊ कहले, “हमार पट्टा तीन हफ्ता में खतम हो जाई, आ हम\n",
            "पहिले कइसे छोड़ल जाव, ई नइखे लउकत.\n",
            "\n",
            "उ कहले कि, मरम्मत घर में नईखे होखत, अवुरी हम शहर से बाहर नईखी निकल सकत\n",
            "अभी अभी-अभी। बेशक अगर रउरा कवनो खतरा में रहित त हम कर सकत रहनी आ करब, बाकिर...\n",
            "तू सचमुच बेहतर बाड़ू प्रियतम, चाहे देख सकेनी भा ना। हम त क...\n",
            "डाक्टर, प्रिय, आ हम जानत बानी। मांस-रंग पा रहल बाड़ू, तोहार...\n",
            "भूख के भाव बेहतर हो जाला। हमरा तहरा बारे में सचमुच बहुत सहज लागत बा.”\n",
            "\n",
            "हम कहनी, “हमरा वजन तनी अधिका नइखे, ना ओतना; आ हमार भूख हो सकेला\n",
            "साँझ के बेहतर होखे के चाहीं, जब रउरा एहिजा होखीं, बाकिर ई त खराब होला\n",
            "सबेरे जब तू दूर होखबऽ.”\n",
            "\n",
            "“उनकर छोटका दिल के आशीर्वाद दीं!” ऊ बड़का गले लगा के कहले; “उहो ओतने बेमार हो जइहें\n",
            "जइसे कि उनुका मन करे! बाकिर अब चलीं जा के चमकत घड़ी सुधारल जाव\n",
            "सुतऽ, आ सबेरे एकरा बारे में बतियाईं!”\n",
            "\n",
            "“आ तू ना जइबऽ?” हम उदास होके पूछनी।\n",
            "\n",
            "“काहे, कइसे करब, प्रियतम? अभी तीन हफ्ता अउरी बा आ ओकरा बाद हमनी के करब जा\n",
            "कुछ दिन के एगो बढ़िया छोट यात्रा करीं जबकि जेनी के घर मिल रहल बा\n",
            "तइयार। सचहूं प्रियतम, तू त बढ़िया बाड़ू!”\n",
            "\n",
            "“शरीर में बेहतर शायद”—हम शुरू कइनी, आ छोट रुक गइनी, काहे कि ऊ उठ के बइठ गइलन\n",
            "सीधा आ हमरा ओर अतना कठोर, निंदा भरल नजर से देखलस कि हम...\n",
            "दोसर शब्द ना कह पवले.\n",
            "\n",
            "ऊ कहले, “हमार प्रियतम, हम तोहरा से निहोरा करत बानी, हमरा खातिर आ हमनी के लइका खातिर\n",
            "खातिर, साथ ही साथ अपना खातिर भी, कि रउआ कबो एक पल खातिर ना देब\n",
            "ऊ विचार रउरा दिमाग में घुस जाला! एतना खतरनाक कुछुओ नईखे, त...\n",
            "आकर्षक, राउर जइसन स्वभाव के। ई एगो झूठ आ मूर्खतापूर्ण बा\n",
            "फैंसी। जब हम कहब त का रउरा हमरा पर वैद्य के रूप में भरोसा ना कर सकेनी?”\n",
            "\n",
            "त बेशक हम ओह स्कोर पर अउरी ना कहनी, आ हम पहिले सुत गइल रहीं\n",
            "लाम। उनुका लागल कि हम पहिले सुतल बानी, बाकिर हम ना सुतल रहनी,—हम खातिर लेट गइल रहनी\n",
            "घंटन तय करे के कोशिश करत कि ऊ सामने के पैटर्न आ पीछे के पैटर्न\n",
            "सचहूँ एक संगे भा अलग-अलग हिलत-डुलत रहे।\n",
            "\n",
            "अइसन पैटर्न पर दिन के उजाला से क्रम के कमी होला, क\n",
            "कानून के अवहेलना, जवन कि एगो सामान्य दिमाग खातिर लगातार चिढ़ावे वाला होला.\n",
            "\n",
            "रंग काफी घिनौना बा, आ काफी अविश्वसनीय बा, आ भड़काऊ बा\n",
            "काफी बा, लेकिन पैटर्न यातना देवे वाला बा।\n",
            "\n",
            "रउरा लागत बा कि रउरा एहमें महारत हासिल कर लिहले बानी बाकिर ठीक ओइसहीं जइसे रउरा बढ़िया से काम शुरू हो जाला\n",
            "फॉलो करत, ई एगो बैक समरसाल्ट घुमावेला आ उहाँ रउआ बानी। तोहरा के थप्पड़ मारत बा\n",
            "चेहरा पर, तोहरा के गिरा देला, आ तोहरा के रौंद देला। ई त एगो बुरा जइसन बा\n",
            "सपना।\n",
            "\n",
            "बाहरी पैटर्न फूलदार अरबेस्क के होला, जवन कवक के याद दिला देला।\n",
            "अगर रउरा जोड़न में एगो टॉडस्टूल के कल्पना कर सकीलें त के एगो अंतहीन तार\n",
            "टॉडस्टूल, अंतहीन घुमाव में अंकुरित आ अंकुरित,—काहे, माने कि\n",
            "कुछ अइसने बा.\n",
            "\n",
            "माने कि कबो-कबो!\n",
            "\n",
            "एह पेपर में एगो चिन्हित विशिष्टता बा, जवन बात केहू के नइखे लागत\n",
            "नोटिस करे खातिर बाकिर खुदे, आ ऊ ई कि जइसे-जइसे रोशनी बदलत जाला, ओइसे-ओइसे बदलत रहेला.\n",
            "\n",
            "जब पूरब के खिड़की से सूरज गोली मार के अंदर आवेला-हम हमेशा ओह पर नजर राखेनी\n",
            "पहिला लमहर, सीधा किरण-ई एतना जल्दी बदल जाला कि हम कबो पूरा तरह से ना बदल सकेनी\n",
            "एकरा पर विश्वास करीं.\n",
            "\n",
            "एही से हम एकरा के हमेशा देखत रहेनी।\n",
            "\n",
            "चाँदनी से—चाँद भर रात में चमकेला जब चाँद होला—हम\n",
            "ना जानत होई कि उहे कागज ह।\n",
            "\n",
            "रात में कवनो तरह के रोशनी में, गोधूलि बेला में, मोमबत्ती के रोशनी में, दीया के रोशनी में, आ...\n",
            "सबसे खराब चाँदनी से, ई बार बन जाला! बाहरी पैटर्न से हमार मतलब बा,\n",
            "आ ओकरा पीछे के मेहरारू जतना सादा हो सकेला.\n",
            "\n",
            "हमरा बहुत दिन से इ ना बुझाइल कि उ बात का बा जवन देखावत रहे\n",
            "पीछे,—ऊ मद्धिम उप-पैटर्न,—लेकिन अब हमरा पूरा भरोसा बा कि ई एगो मेहरारू हई।\n",
            "\n",
            "दिन के उजाला से ऊ वश में हो जाली, चुपचाप। हमरा फैंसी बा कि ई पैटर्न ह जवन राखेला\n",
            "ओकरा के त अबहियों. ई त अतना अचरज के बात बा। ई हमरा के घंटा दर घंटा चुप करावेला।\n",
            "\n",
            "हम अब कबो एतना लेट जानी। जॉन कहत बाड़न कि ई हमरा खातिर बढ़िया बा, आ सुते के भी\n",
            "जवन हम कर सकीले।\n",
            "\n",
            "सचहूं, उ आदत के शुरुआत हमरा के एक घंटा बाद लेटवा देले रहले\n",
            "हर भोजन के बारे में बतावल गइल बा.\n",
            "\n",
            "ई बहुते खराब आदत ह, हमरा पूरा भरोसा बा, काहे कि, देखत बाड़ऽ, हमरा नींद ना आवेला.\n",
            "\n",
            "आ ऊ धोखा के खेती करेला, काहे कि हम ओह लोग के ना कहेनी कि हम जागल बानी,—अरे, ना!\n",
            "\n",
            "असल बात ई बा कि हमरा जॉन से तनी डर लागत बा.\n",
            "\n",
            "ऊ कबो-कबो बहुते क्वीयर लागेला, आ जेनी के भी एगो बेवजह बा\n",
            "देखीं।\n",
            "\n",
            "ई हमरा बीच-बीच में, ठीक वैज्ञानिक परिकल्पना के रूप में, कि...\n",
            "शायद कागज के बात बा!\n",
            "\n",
            "हम जॉन के देखले बानी जब उनुका मालूम ना रहे कि हम देखत बानी, अवुरी भीतर आ गईल बानी\n",
            "कमरा में अचानक सबसे मासूम बहाना बना के, आ हम ओकरा के पकड़ लेले बानी\n",
            "कई बेर कागज के देखत! आ जेनी के भी। हम जेनी के पकड़ लेहनी\n",
            "एक बेर ओकरा पर हाथ रख के।\n",
            "\n",
            "उनुका मालूम ना रहे कि हम कमरा में बानी, अवुरी जब हम उनुका से चुपचाप पूछनी त क...\n",
            "बहुत शांत आवाज, सबसे संयमित तरीका से, का उ\n",
            "कागज से करत रहली जइसे ऊ पकड़ल गइल होखे\n",
            "चोरी करत, आ काफी खिसियाइल लउकल—हमरा से पूछलस कि ओकरा के अतना काहे डेरावे के चाहीं!\n",
            "\n",
            "तब कहली कि कागज से हर चीज के दाग लागल बा, कि उ...\n",
            "हमरा सब कपड़ा आ जॉन के कपड़ा पर पीला रंग के स्मूच मिल गइल रहे आ ऊ चाहत रहली\n",
            "हमनी के अउरी सावधान रहतीं जा!\n",
            "\n",
            "का ई बात मासूम ना लागत रहे? बाकिर हमरा मालूम बा कि ऊ ओह पैटर्न के अध्ययन करत रहली,\n",
            "आ हम तय कइले बानी कि एकर पता हमरा छोड़ के केहू के ना मिली!\n",
            "\n",
            "जिनिगी पहिले से बहुते अधिका रोमांचक हो गइल बा अब. देखत बाड़ऽ हमरा लगे बा\n",
            "कुछ अउरी उम्मीद करे के, इंतजार करे के, देखे के। हम त साँचहू खात बानी\n",
            "बेहतर, आ हमरा से अधिका चुप बानी।\n",
            "\n",
            "जॉन हमरा के सुधारत देख के एतना खुश बाड़े! ऊ तनी हँसले दोसरा के\n",
            "दिन, आ कहलस कि हम अपना वॉलपेपर के बावजूद पनपत लागत बानी.\n",
            "\n",
            "हम हँसत-हँसत बंद कर दिहनी। हमरा कवनो इरादा ना रहे कि हम उनुका के बताईं कि अयीसन बा\n",
            "वॉलपेपर के वजह से—उ हमरा के मजाक उड़ावत रहले। हो सकेला कि ऊ चाहत भी होखे\n",
            "हमरा के ले जा।\n",
            "\n",
            "जबले पता ना चल जाई तबले अब ना जाए के चाहत बानी. एक हफ्ता बा\n",
            "अधिका, आ हमरा लागत बा कि ई काफी हो जाई.\n",
            "\n",
            "हम कबो एतना बेहतर महसूस कर रहल बानी! रात में ढेर नींद ना आवेला, काहे कि अइसन बा\n",
            "विकास देखे में एतना दिलचस्प बा; बाकिर हम त बढ़िया से सुतत बानी\n",
            "दिन के समय में।\n",
            "\n",
            "दिन में ई थकाऊ आ भ्रमित करे वाला होला।\n",
            "\n",
            "फंगस पर हमेशा नया अंकुर होला, आ पीला रंग के नया शेड सब होला\n",
            "एकरा ऊपर बा। हम ओह लोग के गिनती नइखीं कर सकत, हालांकि हम कोशिश कइले बानी\n",
            "कर्तव्यनिष्ठा से कइल गइल बा.\n",
            "\n",
            "ई सबसे अजीब पीला बा, ऊ वॉलपेपर! ई हमरा के सब के बारे में सोचे पर मजबूर कर देला\n",
            "जवन पीयर चीज हम कबो देखले रहनी-बटरकप जइसन सुन्दर ना, बाकिर...\n",
            "पुरान गंदा, खराब पीयर चीजन के।\n",
            "\n",
            "बाकिर ओह कागज में कुछ अउरी बा- गंध! हम एकरा पर नजर गइनी\n",
            "जवना पल हम कमरा में आ गईनी, लेकिन एतना हवा अवुरी धूप के संगे उ रहे\n",
            "बुरा नईखे। अब हमनी के एक हफ्ता से कोहरा आ बरखा हो गइल बा, आ का...\n",
            "खिड़की खुलल बा भा ना, गंध इहाँ बा।\n",
            "\n",
            "घर भर में रेंगत रहेला।\n",
            "\n",
            "हमरा ई डाइनिंग-रूम में मंडरा के, पार्लर में स्कुलिंग करत, लुकाइल मिलत बा\n",
            "हॉल में, सीढ़ी पर हमरा खातिर इंतजार में पड़ल।\n",
            "\n",
            "हमरा बाल में घुस जाला।\n",
            "\n",
            "सवारी करे गइला पर भी अगर अचानक माथा घुमा के आश्चर्यचकित कर देब\n",
            "ऊ—उहाँ ऊ गंध बा!\n",
            "\n",
            "अइसन अजीब गंध भी, उहो! एकरा के विश्लेषण करे के कोशिश में घंटन बिता देले बानी,\n",
            "एकरा से कइसन गंध आवत रहे, एकरा के खोजे खातिर।\n",
            "\n",
            "ई खराब नइखे-पहिले त, आ बहुते कोमल, बाकिर बिल्कुल सूक्ष्म, अधिकतर\n",
            "स्थायी गंध हमरा कबो मिलल रहे।\n",
            "\n",
            "एह नम मौसम में ई भयानक होला। रात में जाग के पा लेनी\n",
            "हमरा ऊपर लटकल बा।\n",
            "\n",
            "पहिले त हमरा के परेशान करत रहे। हम गंभीरता से सोचनी कि जरा दीं...\n",
            "घर—गंध तक पहुँचे खातिर।\n",
            "\n",
            "बाकिर अब एकर आदत पड़ गइल बा. बस एके गो बात हम सोच सकत बानी कि ई अइसन बा\n",
            "कागज के रंग ह! एगो पीयर गंध आवत रहे।\n",
            "\n",
            "एह देवाल पर, नीचे, मोपबोर्ड के लगे एगो बहुत मजेदार निशान बा। एगो\n",
            "लकीर जवन कमरा के चारों ओर चलेला। के हर टुकड़ा के पीछे जाला\n",
            "फर्नीचर, बिस्तर के छोड़ के, एगो लमहर, सीधा, इहाँ तक कि चिकना, जइसे कि ओकरा लगे होखे\n",
            "बार-बार रगड़ल गइल बा.\n",
            "\n",
            "सोचतानी कि ई कइसे भइल आ के कइलसि, आ कवना काम खातिर कइल.\n",
            "गोल-गोल-गोल-गोल-गोल-गोल-चक्कर आ जाला!\n",
            "\n",
            "सचमुच आखिरकार कुछ पता चल गईल बा।\n",
            "\n",
            "रात में एतना देखला के माध्यम से, जब अतना बदल जाला, त आखिरकार हमरा लगे बा\n",
            "पता चल गईल।\n",
            "\n",
            "सामने के पैटर्न जरूर हिलेला-आ कवनो आश्चर्य नइखे! पीछे के मेहरारू ओकरा के हिला देले!\n",
            "\n",
            "कबो हमरा लागेला कि पीछे बहुते मेहरारू बाड़ी सँ, त कबो\n",
            "खाली एगो, आ ऊ तेजी से इधर-उधर रेंगत रहेली, आ ओकर रेंगत सब कुछ हिला देला\n",
            "ऊपर।\n",
            "\n",
            "फेर बहुते चमकदार जगहन पर ऊ स्थिर रहेली, आ बहुते छायादार जगहन पर\n",
            "स्पॉट ऊ बस सलाख के पकड़ के जोर से हिला देले।\n",
            "\n",
            "आ ऊ हर समय ओह माध्यम से चढ़े के कोशिश में रहेली. बाकिर केहू चढ़ ना पावल\n",
            "ओह पैटर्न के माध्यम से—ई अतना गला रेत देला; हमरा लागता कि एही से एकरा में अयीसन भईल बा\n",
            "कई गो सिर के बा।\n",
            "\n",
            "ऊ लोग गुजर जाला, आ फेर पैटर्न ओह लोग के गला रेत के मुड़ जाला\n",
            "उल्टा-पुल्टा, आ आँख गोर कर देला!\n",
            "\n",
            "अगर ऊ माथा ढंकल जाव भा उतारल जाव त आधा अतना खराब ना रहित.\n",
            "\n",
            "हमरा लागता कि उ मेहरारू दिन में निकल जाले!\n",
            "\n",
            "आ हम बताइब कि काहे—निजी तौर पर—हम ओकरा के देखले बानी!\n",
            "\n",
            "हम अपना हर खिड़की से ओकरा के देख सकत बानी!\n",
            "\n",
            "ई उहे मेहरारू हई, हमरा मालूम बा, काहे कि ऊ हमेशा रेंगत रहेले, आ अधिकतर\n",
            "मेहरारू दिन के उजाला से रेंगत ना।\n",
            "\n",
            "हम ओकरा के ओह लमहर छायादार लेन पर देखत बानी, ऊपर नीचे रेंगत। हम ओकरा के अंदर देखत बानी\n",
            "ऊ करिया अंगूर के आर्बर, बगइचा के चारो ओर रेंगत।\n",
            "\n",
            "हम ओकरा के ओह लमहर सड़क पर पेड़न के नीचे देखत बानी, रेंगत-रेंगत, आ जब क\n",
            "गाड़ी आवेला ऊ ब्लैकबेरी के बेल के नीचे लुका जाले।\n",
            "\n",
            "हम ओकरा के तनी दोष नइखीं देत. पकड़ल गइल बहुते अपमानजनक होखी\n",
            "दिन के उजाला से रेंगत बा!\n",
            "\n",
            "दिन के उजाला से रेंगला पर हमेशा दरवाजा पर ताला लगा देनी। हम त ना कर सकीं\n",
            "रात, काहे कि हमरा मालूम बा कि जॉन के एके बेर में कुछ शक हो जाई.\n",
            "\n",
            "आ जॉन अब अतना क्वीयर हो गइल बाड़न, कि हम ओकरा के चिढ़ावल नइखीं चाहत. हमार कामना बा कि उनुकर...\n",
            "एगो अउरी कमरा ले लेत! एकरा अलावे हम नइखी चाहत कि केहू के ऊ मिल जाव\n",
            "रात में निकलल मेहरारू बाकिर खुदे.\n",
            "\n",
            "हम अक्सर सोचेनी कि का हम उनुका के एके बेर में सभ खिड़की से बाहर देख सकीले।\n",
            "\n",
            "लेकिन, जेतना तेजी से मुड़ सकेनी, एक बेर में एक से बाहर ही देख सकेनी।\n",
            "\n",
            "आ भले हम हमेशा ओकरा के देखत बानी ऊ हमरा से बेसी तेजी से रेंग सकेली\n",
            "पलट!\n",
            "\n",
            "हम ओकरा के कबो-कबो खुला देश में दूर, रेंगत जइसे...\n",
            "तेज हवा में बादल के छाया निहन तेज।\n",
            "\n",
            "काश ऊ टॉप पैटर्न अंडर वन से उतरल जा सकत रहे! हमार मतलब बा\n",
            "एकरा के आजमावे खातिर, धीरे-धीरे।\n",
            "\n",
            "एगो अउरी मजेदार बात पता चल गईल बा, लेकिन अबकी बेर ना बताईब!\n",
            "लोग पर जादा भरोसा कइला से कवनो फायदा ना होखे.\n",
            "\n",
            "अबहीं दू दिन अउरी बा कि ई कागज उतारल जाव आ हमरा विश्वास बा कि जॉन\n",
            "के नोटिस होखे लागल बा। उनकर आँख में जवन लुक बा ऊ हमरा पसंद नइखे।\n",
            "\n",
            "आ हम सुनले बानी कि ऊ जेनी से हमरा बारे में बहुते प्रोफेशनल सवाल पूछत रहले.\n",
            "उनुका लगे बहुत बढ़िया रिपोर्ट देवे के रहे।\n",
            "\n",
            "कहली कि दिन में हम बढ़िया से सुतल रहनी।\n",
            "\n",
            "जॉन जानत बा कि रात में हमरा नींद बहुत बढ़िया ना आवेला, सब कुछ खातिर हम एतना चुप बानी!\n",
            "\n",
            "उ हमरा से भी तरह-तरह के सवाल पूछले, अवुरी बहुत होखे के नाटक कईले\n",
            "प्यार करे वाला आ दयालु।\n",
            "\n",
            "जइसे हम ओकरा माध्यम से ना देख पवनी!\n",
            "\n",
            "तबो हमरा कवनो आश्चर्य नइखे कि ऊ अतना काम करेला, तीन गो ले एह कागज के नीचे सुतल\n",
            "महीना भर के बा।\n",
            "\n",
            "एकरा में खाली हमरा रुचि बा, लेकिन हमरा पूरा भरोसा बा कि जॉन अवुरी जेनी गुप्त रूप से बाड़े\n",
            "एकरा से प्रभावित हो गइल बा.\n",
            "\n",
            "हुर्राह के बा! ई आखिरी दिन ह, बाकिर ई काफी बा। जॉन के शहर में रहे के बा\n",
            "रात भर, आ आजु साँझ ले बाहर ना निकली.\n",
            "\n",
            "जेनी हमरा साथे सुते के चाहत रहली- धूर्त बात! बाकिर हम कहनी कि हमरा करे के चाहीं\n",
            "निस्संदेह अकेले एक रात खातिर बेहतर आराम करीं।\n",
            "\n",
            "ऊ चतुराई रहे, काहे कि साँचहू हम तनी अकेले ना रहनी! जइसहीं भइल\n",
            "चाँदनी, आ ऊ बेचारा रेंगत आ पैटर्न के हिलावे लागल, हम\n",
            "उठ के ओकर मदद करे खातिर दौड़ल।\n",
            "\n",
            "हम खींचनी आ ऊ हिल गइल, हम हिल गइनी आ ऊ खींचली, आ सबेरे से पहिले हम\n",
            "ओह कागज के गज भर के छिलका लेले रहे।\n",
            "\n",
            "एगो पट्टी लगभग हमरा माथा के बराबर ऊँच आ आधा कमरा के चारों ओर।\n",
            "\n",
            "आ फेर जब घाम आइल आ ऊ भयानक पैटर्न हमरा पर हँसे लागल\n",
            "हम घोषणा कइनी कि आज एकरा के खतम कर देब!\n",
            "\n",
            "हम काल्ह दूर चल जाइब, आ उ लोग हमार सब फर्नीचर फेरु से नीचे ले जा रहल बा\n",
            "पहिले जइसन चीजन के छोड़ दिहल जाव.\n",
            "\n",
            "जेनी अचरज से देवाल के ओर देखली, लेकिन हम खुशी से कहनी कि हम...\n",
            "शातिर बात पर शुद्ध द्वेष से कइले रहले.\n",
            "\n",
            "ऊ हँस के कहली कि खुदे करे में कवनो दिक्कत ना होई बाकिर हमरा ना करे के पड़ी\n",
            "थक जाला।\n",
            "\n",
            "ओह बेर ऊ अपना के कइसे धोखा देले रहली!\n",
            "\n",
            "बाकिर हम एहिजा बानी, आ एह कागज के हमरा छोड़ के कवनो आदमी ना छूवेला-जीवित ना!\n",
            "\n",
            "ऊ हमरा के कमरा से बाहर निकाले के कोशिश कइली-ई त बहुते पेटेंट रहे! बाकिर हम कहनी\n",
            "अब अतना शांत आ खाली आ साफ रहे कि हमरा विश्वास हो गइल कि हम लेट जाईं\n",
            "फेरु से आ सुत के जतना हो सकत रहे; आ रात के खाना खातिर भी हमरा के ना जगावे के—हम करब\n",
            "जब नींद खुलल त फोन कइनी।\n",
            "\n",
            "त अब ऊ चल गइल बाड़ी आ नौकर-चाकर चल गइल बाड़ी सँ आ सामान खतम हो गइल बाड़ी सँ.\n",
            "आ कुछुओ नइखे रहि गइल सिवाय ऊ बड़हन बिछौना के कील ठोकल, जवना के...\n",
            "कैनवास के गद्दा हमनी के ओकरा पर मिलल।\n",
            "\n",
            "हम आज रात नीचे सुतब, आ काल्ह नाव के घरे ले जाइब।\n",
            "\n",
            "कमरा में काफी मजा आवेला, अब उ फेर से नंगा हो गईल बा।\n",
            "\n",
            "कइसे ऊ लइका इहाँ के बारे में फाड़ दिहले!\n",
            "\n",
            "ई बेडस्टेड काफी चीराइल बा!\n",
            "\n",
            "बाकिर हमरा काम में लागे के पड़ी.\n",
            "\n",
            "दरवाजा पर ताला लगा के चाभी नीचे सामने के रास्ता में फेंक देले बानी।\n",
            "\n",
            "हम बाहर ना जाए के चाहत बानी, आ ना चाहत बानी कि केहू भीतर आ जाव, जबले\n",
            "जॉन आवेला।\n",
            "\n",
            "हम ओकरा के अचरज में डालल चाहत बानी.\n",
            "\n",
            "इहाँ ऊपर एगो रस्सी बा जवन जेनी के भी ना मिलल। अगर ऊ मेहरारू...\n",
            "जरूर निकल जाला, आ दूर होखे के कोशिश करेला, हम ओकरा के बान्ह सकेनी!\n",
            "\n",
            "लेकिन भूला गईनी कि बिना कवनो खड़ा होखे के हम दूर तक ना पहुंच पवनी!\n",
            "\n",
            "ई बिछौना ना हिल पाई!\n",
            "\n",
            "हम ओकरा के उठा के धकेले के कोशिश कईनी जब तक कि हम लंगड़ा ना हो गईनी, अवुरी फेर एतना खिसिया गईनी कि हम\n",
            "एक कोना पर तनी-मनी टुकड़ा काट दिहलस—लेकिन दाँत में दर्द भइल।\n",
            "\n",
            "फेर हम फर्श पर खड़ा होके जवन कागज तक पहुँच सकत रहनी, ओकरा के छील देनी। इ\n",
            "भयानक रूप से चिपक जाला आ पैटर्न बस एकर मजा लेत बा! ओह सब के गला रेत दिहल गइल\n",
            "सिर आ बल्ब नियर आँख आ लहरात फंगस के बढ़ती बस साथ चिल्लात बा\n",
            "मजाक उड़ावल जाला!\n",
            "\n",
            "हम एतना खिसिया रहल बानी कि कुछ हताश कर देनी। से कूद के बाहर निकले खातिर\n",
            "खिड़की सराहनीय व्यायाम होई, लेकिन सलाख भी बहुत मजबूत बा\n",
            "कोशिश करीं।\n",
            "\n",
            "एकरा अलावे हम त ना करित। बेशक ना। हम त काफी बढ़िया से जानत बानी कि एक कदम\n",
            "जइसे कि अनुचित बा आ गलतफहमी हो सकेला.\n",
            "\n",
            "हमरा खिड़की से बाहर भी देखल पसंद नइखे—ओह में से एतना बा\n",
            "रेंगत मेहरारू लोग, आ ऊ लोग एतना तेजी से रेंगत रहेली।\n",
            "\n",
            "सोचतानी कि का ऊ सब ओह वॉलपेपर से हमरा जइसन निकलल बा?\n",
            "\n",
            "बाकिर हम अब अपना बढ़िया से छिपल रस्सी से सुरक्षित रूप से जकड़ल बानी—रउरा हमरा के ना मिलत बा\n",
            "सड़क पर निकलल उहाँ के!\n",
            "\n",
            "हमरा लागत बा कि जब पैटर्न आई त ओकरा पीछे वापस जाए के पड़ी\n",
            "रात के, आ ऊ कठिन बा!\n",
            "\n",
            "एह बढ़िया कमरा में बाहर होके हमरा जइसन रेंग के घूमल अतना सुखद बा\n",
            "कृप्या!\n",
            "\n",
            "बाहर जाए के मन नइखे करत। हम ना करब, भले जेनी हमरा से कहे।\n",
            "\n",
            "काहे कि बाहर जमीन पर रेंग के रहे के पड़ेला, आ सब कुछ हरियर बा\n",
            "पीला रंग के जगह पर बा।\n",
            "\n",
            "बाकिर एहिजा हम फर्श पर सुचारू रूप से रेंग सकेनी, आ हमार कंधा बस फिट हो जाला\n",
            "देवाल के चारों ओर ओह लमहर स्मूच में, एहसे हम आपन रास्ता ना भटक सकीं.\n",
            "\n",
            "काहे, दुआर पर जॉन बाड़े!\n",
            "\n",
            "कवनो फायदा नइखे जवान, खोलल नइखे जा सकत!\n",
            "\n",
            "कइसे ऊ फोन आ पाउंड करेला!\n",
            "\n",
            "अब ऊ कुल्हाड़ी खातिर रोवत बा.\n",
            "\n",
            "ऊ सुन्दर दुआर के तोड़ दिहल लाज के बात होई!\n",
            "\n",
            "“जॉन डियर!” हम सबसे कोमल आवाज में कहनी, “चाबी नीचे बा\n",
            "सामने के सीढ़ी, केला के पत्ता के नीचे!”\n",
            "\n",
            "जवन कुछ पल खातिर उनका के चुप करा दिहलस।\n",
            "\n",
            "तब ऊ कहलस—बहुत चुपचाप साँचहू, “दरवाजा खोलऽ, हमार प्रियतम!”\n",
            "\n",
            "“हम ना कर सकीं” हम कहनी, “चाभी एगो केला के नीचे सामने के दरवाजा के लगे नीचे बा\n",
            "पतई!\"\n",
            "\n",
            "आ फेर हम फेर से कहनी, कई बेर, बहुते धीरे से आ धीरे से, आ...\n",
            "एतना बेर कहत रहले कि ओकरा जाके देखे के पड़ल, आ ओकरा मिल गइल, बेशक,\n",
            "आ भीतर आ गइलन ऊ दुआर का लगे कुछ देर रुक गइलन.\n",
            "\n",
            "“का बात बा?” ऊ रोवत रहले. “भगवान के खातिर, का कर रहल बाड़ू!”\n",
            "\n",
            "हम त ठीक ओसही रेंगत रहनी, लेकिन हम अपना कंधा के ऊपर से उनुका ओर देखनी।\n",
            "\n",
            "हम कहनी, “हम आखिरकार बाहर निकल गइल बानी, तोहरा आ जेन के बावजूद! आ हम त...\n",
            "अधिकतर कागज खींच लिहलस, त हमरा के वापस ना रख सकेनी!”\n",
            "\n",
            "अब ऊ आदमी बेहोश काहे होखे के चाहत रहे? बाकिर ऊ त कइलन, आ ठीक हमरा पार\n",
            "देवाल के किनारे रास्ता, जवना से हर बेर ओकरा ऊपर रेंगत रहे के पड़े!\n",
            "\n"
          ]
        }
      ]
    },
    {
      "cell_type": "code",
      "source": [
        "type(text)"
      ],
      "metadata": {
        "colab": {
          "base_uri": "https://localhost:8080/"
        },
        "id": "_cnzrqYTenI8",
        "outputId": "16767e85-0836-4c6f-941a-456f8152a78a"
      },
      "execution_count": 7,
      "outputs": [
        {
          "output_type": "execute_result",
          "data": {
            "text/plain": [
              "str"
            ]
          },
          "metadata": {},
          "execution_count": 7
        }
      ]
    },
    {
      "cell_type": "code",
      "source": [
        "len(text)"
      ],
      "metadata": {
        "colab": {
          "base_uri": "https://localhost:8080/"
        },
        "id": "g5RUzMq1exw5",
        "outputId": "72177e49-0dc7-4ddf-b373-6d74440eca7d"
      },
      "execution_count": 8,
      "outputs": [
        {
          "output_type": "execute_result",
          "data": {
            "text/plain": [
              "31769"
            ]
          },
          "metadata": {},
          "execution_count": 8
        }
      ]
    },
    {
      "cell_type": "markdown",
      "source": [
        "**Tokenization**"
      ],
      "metadata": {
        "id": "a_V0j9ShgEYP"
      }
    },
    {
      "cell_type": "code",
      "source": [
        "tokens = nltk.word_tokenize(text)\n",
        "text_nltk = Text(tokens)\n",
        "print(\"Text: \\n\", text_nltk)\n",
        "print(\"Toknized Text: \\n\", tokens)"
      ],
      "metadata": {
        "colab": {
          "base_uri": "https://localhost:8080/"
        },
        "id": "qkoAn44jf1wR",
        "outputId": "458d3605-dd6a-4f58-92b7-237a5c544a0f"
      },
      "execution_count": 9,
      "outputs": [
        {
          "output_type": "stream",
          "name": "stdout",
          "text": [
            "Text: \n",
            " <Text: पीला वॉलपेपर के बा शार्लोट पर्किन्स गिलमैन के...>\n",
            "Toknized Text: \n",
            " ['पीला', 'वॉलपेपर', 'के', 'बा', 'शार्लोट', 'पर्किन्स', 'गिलमैन', 'के', 'लिखल', 'ह', 'बहुत', 'कम', 'होला', 'कि', 'जॉन', 'आ', 'हमरा', 'जइसन', 'खाली', 'आम', 'लोग', 'सुरक्षित', 'होखे', 'गर्मी', 'खातिर', 'पैतृक', 'हॉल', 'बनावल', 'गइल', 'बा', '.', 'एगो', 'औपनिवेशिक', 'हवेली', ',', 'एगो', 'वंशानुगत', 'संपत्ति', ',', 'हम', 'कहब', 'कि', 'एगो', 'भूतिया', 'घर', ',', 'आ', 'रोमांटिक', 'फेलिसिटी', 'के', 'ऊंचाई', 'पर', 'पहुँच', 'जाईं-लेकिन', 'ऊहो', 'पूछल', 'होखी', 'किस्मत', 'के', 'बहुत', 'कुछ', '!', 'तबो', 'हम', 'गर्व', 'से', 'घोषणा', 'करब', 'कि', 'एहमें', 'कुछ', 'क्वीयर', 'बा', '.', 'ना', 'त', 'एतना', 'सस्ता', 'में', 'काहे', 'दिहल', 'जाव', '?', 'आ', 'काहे', 'एतना', 'दिन', 'से', 'खड़ा', 'बानी', 'बिना', 'किराये', 'के', 'बा', '?', 'जॉन', 'हमरा', 'पर', 'हँसेले', ',', 'बेशक', ',', 'लेकिन', 'बियाह', 'में', 'अयीसन', 'उम्मीद', 'होखेला।', 'जॉन', 'चरम', 'सीमा', 'में', 'व्यावहारिक', 'बाड़े।', 'ओकरा', 'विश्वास', 'के', 'कवनो', 'धैर्य', 'नइखे', ',', 'आ', '...', 'अंधविश्वास', 'के', 'तीव्र', 'भयावहता', ',', 'आ', 'ऊ', 'कवनो', 'बात', 'पर', 'खुल', 'के', 'मजाक', 'उड़ावेला', 'जवन', 'चीजन', 'के', 'महसूस', 'ना', 'कइल', 'जाव', 'आ', 'ना', 'देखल', 'जाव', 'आ', 'आंकड़ा', 'में', 'ना', 'राखल', 'जाव', '.', 'यूहन्ना', 'एगो', 'चिकित्सक', 'हवें', ',', 'आ', 'शायद—', '(', 'हम', 'ई', 'बात', 'कवनो', 'जिंदा', 'आत्मा', 'से', 'ना', 'कहब', ',', 'बेशक', ',', 'बाकिर', 'ई', 'मरल', 'कागज', 'ह', 'आ', 'हमरा', 'खातिर', 'बहुते', 'राहत', 'बा', 'मन', ')', '—शायद', 'इहे', 'एगो', 'कारण', 'बा', 'कि', 'हम', 'जल्दी', 'ठीक', 'ना', 'होखेनी।', 'देखत', 'बाड़ऽ', ',', 'ओकरा', 'विश्वास', 'नइखे', 'कि', 'हम', 'बेमार', 'बानी', '!', 'आ', 'केहू', 'का', 'कर', 'सकेला', '?', 'अगर', 'कवनो', 'उच्च', 'पद', 'के', 'चिकित्सक', ',', 'आ', 'आपन', 'खुद', 'के', 'पति', ',', 'दोस्तन', 'के', 'भरोसा', 'दिआवे', 'आ', 'रिश्तेदारन', 'के', 'कि', 'वास्तव', 'में', 'एक', 'के', 'साथ', 'कुछुओ', 'बात', 'नइखे', 'लेकिन', '...', 'अस्थायी', 'तंत्रिका', 'अवसाद-', 'हल्का', 'हिस्टीरिकल', 'प्रवृत्ति-एक', 'का', 'होला', 'करे', 'के', 'बा', '?', 'हमार', 'भाई', 'भी', 'चिकित्सक', 'हउवें', ',', 'आ', 'उच्च', 'पद', 'के', 'भी', ',', 'आ', 'ऊ', 'कहत', 'बाड़े', 'उहे', 'बात', 'बा।', 'त', 'हम', 'फॉस्फेट', 'भा', 'फॉस्फाइट', 'लेत', 'बानी-जवन', 'होखे', ',', 'आ', 'टॉनिक', ',', 'आ', '...', 'यात्रा', ',', 'आ', 'हवा', ',', 'आ', 'व्यायाम', ',', 'आ', '“', 'काम', '”', 'करे', 'से', 'बिल्कुल', 'मना', 'कइल', 'गइल', 'बा', '.', 'जबले', 'हम', 'फेर', 'से', 'ठीक', 'ना', 'हो', 'जाईं', '.', 'निजी', 'तौर', 'प', 'हम', 'ओ', 'लोग', 'के', 'विचार', 'से', 'असहमत', 'बानी।', 'निजी', 'तौर', 'प', 'हमार', 'मानना', '\\u200b\\u200bबा', 'कि', 'सहज', 'काम', ',', 'उत्साह', 'अवुरी', 'बदलाव', 'के', 'संगे', ',', 'हमरा', 'के', 'भलाई', 'करीत।', 'बाकिर', 'आदमी', 'के', 'का', 'करे', 'के', 'बा', '?', 'ओह', 'लोग', 'के', 'बावजूद', 'हम', 'कुछ', 'समय', 'खातिर', 'जरूर', 'लिखनी', ';', 'बाकिर', 'ई', 'हमरा', 'के', 'एगो', 'बढ़िया', 'थका', 'देला', 'सौदा—एह', 'बारे', 'में', 'अतना', 'धूर्त', 'होखे', 'के', 'पड़ी', ',', 'ना', 'त', 'भारी', 'विरोध', 'से', 'भेंट', 'होखे', 'के', 'पड़ी', '.', 'हम', 'कबो-कबो', 'फैंसी', 'करेनी', 'कि', 'हमरा', 'हालत', 'में', 'अगर', 'हमरा', 'विरोध', 'कम', 'रहित', 'आ', '...', 'अधिका', 'समाज', 'आ', 'प्रोत्साहन-लेकिन', 'जॉन', 'सबसे', 'खराब', 'काम', 'कहत', 'बाड़े', 'जवन', 'हम', 'कर', 'सकेनी', 'ह', 'अपना', 'हालत', 'के', 'बारे', 'में', 'सोचे', 'के', ',', 'अवुरी', 'हम', 'कबूल', 'करतानी', 'कि', 'एकरा', 'से', 'हमरा', 'हमेशा', 'एहसास', 'होखेला', 'खराब।', 'त', 'छोड़', 'के', 'घर', 'के', 'बात', 'करब।', 'सबसे', 'सुन्दर', 'जगह', 'बा', '!', 'ई', 'काफी', 'अकेले', 'बा', ',', 'से', 'बढ़िया', 'से', 'पीछे', 'खड़ा', 'बा', 'सड़क', ',', 'गाँव', 'से', 'काफी', 'तीन', 'मील', 'दूर।', 'हमरा', 'के', 'सोचे', 'पर', 'मजबूर', 'कर', 'देला', 'अंग्रेजी', 'जगह', 'जवना', 'के', 'बारे', 'में', 'रउरा', 'पढ़त', 'बानी', ',', 'काहे', 'कि', 'हेज', 'आ', 'देवाल', 'बा', 'आ', '...', 'ताला', 'वाला', 'गेट', ',', 'आ', 'माली', 'लोग', 'खातिर', 'ढेर', 'अलग-अलग', 'छोट-छोट', 'घर', 'आ', 'लोग', 'के', 'भी।', 'एगो', 'स्वादिष्ट', 'बगइचा', 'बा', '!', 'अइसन', 'बगइचा', 'हम', 'कबो', 'ना', 'देखले', 'रहनी-बड़का', 'आ', 'छायादार', ',', 'बक्सा', 'के', 'सीमा', 'वाला', 'रास्ता', 'से', 'भरल', ',', 'आ', 'अंगूर', 'से', 'ढंकल', 'लमहर', 'आर्बर', 'से', 'लाइन', 'कइल', 'जवना', 'के', 'नीचे', 'सीट', 'बा।', 'ग्रीनहाउस', 'भी', 'रहे', ',', 'लेकिन', 'अब', 'सब', 'टूट', 'गईल', 'बा।', 'कुछ', 'कानूनी', 'परेशानी', 'रहे', ',', 'हमरा', 'विश्वास', 'बा', ',', 'वारिस', 'लोग', 'के', 'बारे', 'में', 'कुछ', 'अवुरी', '...', 'सह-वारिस', 'लोग', 'के', ';', 'वइसे', 'भी', 'जगह', 'बरिसन', 'से', 'खाली', 'बा।', 'जवन', 'हमरा', 'भूत-प्रेत', 'के', 'बिगाड़', 'देला', ',', 'हमरा', 'डर', 'लागत', 'बा', ';', 'बाकिर', 'हमरा', 'एकर', 'कवनो', 'परवाह', 'नइखे—उहाँ', 'बा', 'घर', 'के', 'बारे', 'में', 'कुछ', 'अजीब', 'बात—हम', 'महसूस', 'कर', 'सकेनी।', 'इहाँ', 'तक', 'कि', 'हम', 'एक', 'दिन', 'चाँदनी', 'के', 'साँझ', 'जॉन', 'से', 'अयीसन', 'कहले', 'रहनी', ',', 'लेकिन', 'उ', 'जवन', 'हमरा', 'लागल', 'उहे', 'कहले', 'एगो', 'ड्राफ्ट', 'रहे', ',', 'आ', 'खिड़की', 'बंद', 'कर', 'दिहलस।', 'जॉन', 'से', 'कबो-कबो', 'बेवजह', 'नाराज', 'हो', 'जानी।', 'हमरा', 'पूरा', 'विश्वास', 'बा', 'कि', 'पहिले', 'कबो', 'ना', 'करत', 'रहनी', 'एतना', 'संवेदनशील', 'होखे', 'के', 'चाहीं।', 'हमरा', 'लागता', 'कि', 'एकर', 'कारण', 'ए', 'घबराहट', 'के', 'स्थिति', 'बा।', 'बाकिर', 'जॉन', 'कहत', 'बाड़न', 'कि', 'अगर', 'हमरा', 'अइसन', 'लागी', 'त', 'हम', 'उचित', 'आत्मसंयम', 'के', 'उपेक्षा', 'करब', ';', 'त', 'हम', '...', 'अपना', 'के', 'काबू', 'में', 'करे', 'खातिर', 'कष्ट', 'उठाईं', ',', '—कम', 'से', 'कम', 'ओकरा', 'से', 'पहिले', ',', '—आ', 'इहे', 'हमरा', 'के', 'बनावेला', 'बहुत', 'थक', 'गईल', 'बानी।', 'हमरा', 'तनी', 'हमार', 'कमरा', 'पसंद', 'नइखे।', 'हमरा', 'नीचे', 'एगो', 'चाहीं', 'जवन', 'पर', 'खुलल', 'होखे', 'पियाज़ा', 'आ', 'पूरा', 'खिड़की', 'पर', 'गुलाब', 'के', 'फूल', 'रहे', ',', 'आ', 'अतना', 'सुंदर', 'पुरान', 'जमाना', 'के', 'चिंट्ज', 'फांसी', 'के', 'शिकार', 'हो', 'गइल', 'बा', '!', 'लेकिन', 'यूहन्ना', 'एकर', 'बारे', 'में', 'ना', 'सुनले।', 'उ', 'कहले', 'कि', 'सिर्फ', 'एगो', 'खिड़की', 'बा', 'अवुरी', 'दु', 'बिस्तर', 'खाती', 'जगह', 'नईखे', ',', 'अवुरी', 'ना', 'ओकरा', 'खातिर', 'कमरा', 'के', 'लगे', 'अगर', 'ऊ', 'दोसरा', 'के', 'ले', 'जाव', '.', 'ऊ', 'बहुते', 'सावधान', 'आ', 'प्यार', 'करे', 'वाला', 'हउवें', 'आ', 'शायदे', 'हमरा', 'के', 'बिना', 'खास', 'के', 'हलचल', 'करे', 'देसु', 'दिशा।', 'दिन', 'के', 'हर', 'घंटा', 'के', 'शेड्यूल', 'पर्चे', 'हमरा', 'लगे', 'बा', ';', 'ऊ', 'सब', 'ले', 'लेला', 'हमरा', 'से', 'परवाह', 'बा', ',', 'आ', 'एहसे', 'हम', 'एकरा', 'के', 'अधिका', 'महत्व', 'ना', 'देबे', 'खातिर', 'बेसब्री', 'से', 'कृतघ्न', 'महसूस', 'करत', 'बानी', '.', 'उ', 'कहले', 'कि', 'हम', 'इहाँ', 'सिर्फ', 'हमरा', 'खाता', 'प', 'आईल', 'बानी', ',', 'कि', 'हमरा', 'परफेक्ट', 'होखे', 'के', 'बा', 'आराम', 'आ', 'जवन', 'हवा', 'मिल', 'सकत', 'रहे।', 'उ', 'कहले', 'कि', ',', 'आपके', 'व्यायाम', 'आपके', '...', 'ताकत', ',', 'हमार', 'प्रियतम', ',', '”', 'ऊ', 'कहले', ',', '“', 'आ', 'तोहार', 'खाना', 'कुछ', 'तहरा', 'भूख', 'पर', ';', 'बाकिर', 'हवा', 'के', 'रउरा', 'हर', 'समय', 'सोख', 'सकेनी.', '”', 'त', 'हम', 'नर्सरी', 'ले', 'गइनी', ',', 'पर', '...', 'घर', 'के', 'ऊपर', 'बा।', 'ई', 'एगो', 'बड़हन', ',', 'हवादार', 'कमरा', 'ह', ',', 'पूरा', 'मंजिल', 'करीब', 'बा', ',', 'जवना', 'के', 'खिड़की', 'अइसन', 'लउकत', 'बा', 'हर', 'रास्ता', ',', 'आ', 'हवा', 'आ', 'धूप', 'के', 'भरमार।', 'पहिले', 'नर्सरी', 'रहे', 'आ', 'फेर', 'खेल', 'के', 'मैदान', 'आ', 'व्यायामशाला', ',', 'हमरा', 'जज', 'करे', 'के', 'चाहीं', ';', 'काहे', 'कि', 'खिड़की', 'पर', 'सलाख', 'लागल', 'बा', 'छोट', 'लइकन', 'खातिर', ',', 'आ', 'देवालन', 'में', 'अंगूठी', 'आ', 'चीज', 'बा।', 'रंग', 'आ', 'कागज', 'अइसन', 'लागत', 'बा', 'जइसे', 'कवनो', 'लड़िकन', 'के', 'स्कूल', 'एकर', 'इस्तेमाल', 'कइले', 'होखे', '.', 'ई', 'ह', 'उतारल-कागज-हमार', 'बिछौना', 'के', 'माथा', 'के', 'चारो', 'ओर', 'बड़हन-बड़हन', 'पैच', 'में', ',', 'लगभग', 'जहाँ', 'तक', 'हम', 'पहुँच', 'सकेनी', ',', 'आ', 'के', 'दूसरा', 'ओर', 'एगो', 'बढ़िया', 'जगह', 'पर', 'कमरा', 'नीचे', 'नीचे', 'बा।', 'एकरा', 'से', 'खराब', 'कागज', 'हम', 'अपना', 'जिनिगी', 'में', 'कबो', 'ना', 'देखले', 'रहनी।', 'हर', 'कलात्मक', 'प्रतिबद्ध', 'ओह', 'फइलल', 'आडंबरपूर्ण', 'पैटर्न', 'में', 'से', 'एगो', 'पाप', 'के', 'बा।', 'ई', 'एतना', 'नीरस', 'बा', 'कि', 'फॉलोइंग', 'में', 'आँख', 'के', 'भ्रमित', 'कर', 'देला', ',', 'एतना', 'उच्चारण', 'होला', 'कि', '...', 'लगातार', 'चिढ़ावत', 'रहेनी', ',', 'आ', 'पढ़ाई', 'के', 'भड़कावत', 'रहेनी', ',', 'आ', 'जब', 'लंगड़ा', 'के', 'पीछे', 'पड़', 'जानी', 'त', 'अनिश्चित', 'वक्रता', 'तनी', 'दूरी', 'तक', 'अचानक', 'प्रतिबद्ध', 'हो', 'जाला', 'आत्महत्या—अपमानजनक', 'कोण', 'पर', 'डूब', 'जाला', ',', 'अपना', 'के', 'तबाह', 'कर', 'देला', 'अनसुना', 'विरोधाभास', 'के', 'बात', 'बा।', 'रंग', 'भगावे', 'वाला', 'होला', ',', 'लगभग', 'विद्रोही', 'होला', ';', 'एगो', 'धधकत', ',', 'अशुद्ध', 'पीयर', ',', 'धीरे-धीरे', 'घूमत', 'सूरज', 'के', 'रोशनी', 'से', 'अजीब', 'तरह', 'से', 'फीका', 'हो', 'गइल।', 'ई', 'कुछ', 'जगह', 'नीरस', 'बाकिर', 'लूरिड', 'संतरा', 'होला', ',', 'जवना', 'में', 'एगो', 'बीमार', 'सल्फर', 'टिंट', 'होला', 'दोसरा', 'लोग', 'के', 'कहल', 'जाला', '.', 'कवनो', 'आश्चर्य', 'ना', 'कि', 'लइका', 'लोग', 'एकरा', 'से', 'नफरत', 'करत', 'रहे', '!', 'अगर', 'करे', 'के', 'पड़ी', 'त', 'खुदे', 'एकरा', 'से', 'नफरत', 'करे', 'के', 'चाहीं', 'एह', 'कमरा', 'में', 'लंबा', 'समय', 'तक', 'रहेला।', 'उहाँ', 'जॉन', 'आवेला', ',', 'आ', 'हमरा', 'ई', 'बात', 'छोड़', 'देबे', 'के', 'पड़ी', ',', '—उनुका', 'हमरा', 'से', 'एगो', 'लिखे', 'से', 'नफरत', 'बा', 'शब्द।', 'हमनी', 'के', 'इहाँ', 'दु', 'सप्ताह', 'हो', 'गईल', 'बा', ',', 'अवुरी', 'हमरा', 'पहिले', 'लिखे', 'के', 'मन', 'ना', 'भईल', 'रहे', ',', 'ओह', 'पहिला', 'दिन', 'से', 'ही।', 'हम', 'अब', 'खिड़की', 'के', 'लगे', 'बइठल', 'बानी', ',', 'ऊपर', 'एह', 'अत्याचारी', 'नर्सरी', 'में', ',', 'आ', 'उहाँ', 'के', 'कमी', 'के', 'छोड़', 'के', 'हमरा', 'लेखन', 'में', 'जेतना', 'बाधा', 'आवे', 'वाला', 'कवनो', 'बात', 'नइखे', 'जोर।', 'जॉन', 'दिन', 'भर', 'दूर', 'रहेले', ',', 'अवुरी', 'कुछ', 'रात', 'तक', 'जब', 'उनुकर', 'मामला', 'गंभीर', 'होखेला।', 'हमरा', 'खुशी', 'बा', 'कि', 'हमार', 'केस', 'गंभीर', 'नइखे', '!', 'बाकिर', 'ई', 'घबराहट', 'के', 'परेशानी', 'भयानक', 'निराशाजनक', 'होला', '.', 'जॉन', 'के', 'पता', 'नइखे', 'कि', 'हम', 'सचमुच', 'केतना', 'कष्ट', 'उठावत', 'बानी।', 'ऊ', 'जानत', 'बा', 'कि', 'कवनो', 'नइखे', 'दुख', 'उठावे', 'के', 'कारण', 'बा', ',', 'आ', 'ऊ', 'ओकरा', 'के', 'संतुष्ट', 'कर', 'देला', '.', 'बेशक', 'ई', 'खाली', 'घबराहट', 'ह', '.', 'ई', 'हमरा', 'पर', 'जरूर', 'तौलत', '\\u200b\\u200bबा', 'एहसे', 'हमार', 'ना', 'करे', 'के', 'कवनो', 'भी', 'तरह', 'से', 'कर्तव्य', '!', 'हमार', 'मतलब', 'रहे', 'कि', 'जॉन', 'खातिर', 'अतना', 'मदद', 'करीं', ',', 'अतना', 'असली', 'आराम', 'आ', 'आराम', ',', 'आ', '...', 'इहाँ', 'हम', 'पहिलहीं', 'से', 'तुलनात्मक', 'बोझ', 'बानी', '!', 'केहू', 'के', 'विश्वास', 'ना', 'होई', 'कि', 'हम', 'जवन', 'कम', 'बानी', 'ओकरा', 'के', 'करे', 'के', 'कतना', 'प्रयास', 'बा', 'सक्षम—सज-धज', 'के', 'आ', 'मनोरंजन', 'करे', ',', 'आ', 'चीजन', 'के', 'क्रमबद्ध', 'करे', 'में।', 'ई', 'सौभाग्य', 'बा', 'कि', 'मैरी', 'बच्चा', 'के', 'साथे', 'एतना', 'बढ़िया', 'बाड़ी।', 'अइसन', 'प्यारा', 'लइका', '!', 'आ', 'तबहियो', 'हम', 'ओकरा', 'साथे', 'नइखीं', 'रह', 'सकत', ',', 'एहसे', 'हमरा', 'अतना', 'घबराहट', 'हो', 'जाला', '.', 'हमरा', 'लागता', 'कि', 'जॉन', 'अपना', 'जीवन', 'में', 'कबो', 'घबराहट', 'में', 'ना', 'रहले।', 'ऊ', 'हमरा', 'पर', 'अतना', 'के', 'बारे', 'में', 'हँसेला', 'ई', 'वॉलपेपर', 'बा', '!', 'पहिले', 'त', 'उनकर', 'मतलब', 'रहे', 'कि', 'कमरा', 'के', 'कागज', 'फिर', 'से', 'बनावल', 'जाव', ',', 'लेकिन', 'बाद', 'में', 'उ', 'कहले', 'कि', 'हम', 'एकरा', 'के', 'हमरा', 'पर', 'हावी', 'होखे', 'देत', 'रहे', ',', 'आ', 'कि', 'एकरा', 'से', 'खराब', 'कुछुओ', 'ना', 'रहे', 'एगो', 'अइसन', 'आडंबर', 'के', 'राह', 'देबे', 'से', 'बेसी', 'घबराहट', 'वाला', 'मरीज', '.', 'उ', 'कहले', 'कि', 'वॉलपेपर', 'बदलला', 'के', 'बाद', 'इ', 'भारी', 'होई', 'बेडस्टेड', ',', 'आ', 'फेर', 'सलाख', 'वाला', 'खिड़की', ',', 'आ', 'फेर', 'माथा', 'पर', 'ऊ', 'गेट', 'सीढ़ी', 'के', ',', 'वगैरह', 'वगैरह', '.', 'ऊ', 'कहले', ',', '“', 'तू', 'जानत', 'बाड़ऽ', 'कि', 'ऊ', 'जगह', 'तोहार', 'भलाई', 'कर', 'रहल', 'बा', 'आ', 'सचहूँ', ',', 'प्रिय', ',', 'हम', 'खाली', 'तीन', 'महीना', 'के', 'किराया', 'खातिर', 'घर', 'के', 'मरम्मत', 'के', 'परवाह', 'ना', 'करीं.', '”', 'हम', 'कहनी', ',', '“', 'तब', 'कर', 'हम', 'नीचे', 'चल', 'जाइब', ',', 'अतना', 'सुंदर', 'कमरा', 'बा', 'ऊहाॅंं।', \"''\", 'तब', 'उ', 'हमरा', 'के', 'अपना', 'कोरा', 'में', 'लेके', 'हमरा', 'के', 'धन्य', 'छोट', 'हंस', 'कहले', ',', 'आ', '...', 'कहलस', 'कि', 'हम', 'चाहब', 'त', 'कोठरी', 'में', 'उतर', 'जइहें', ',', 'आ', 'ओकरा', 'के', 'सफेदी', 'करवा', 'दीहें', 'मोलभाव', 'के', 'बात', 'बा।', 'बाकिर', 'ऊ', 'बिछौना-खिड़की', 'आ', 'चीजन', 'के', 'बारे', 'में', 'काफी', 'सही', 'कहत', 'बाड़े।', 'ई', 'ओतने', 'हवादार', 'आ', 'आरामदायक', 'कमरा', 'ह', 'जतना', 'केहू', 'के', 'जरूरत', 'चाहत', 'होखे', ',', 'आ', ',', 'के', '...', 'बेशक', ',', 'हम', 'एतना', 'मूर्ख', 'ना', 'होखब', 'कि', 'ओकरा', 'के', 'सिर्फ', 'एगो', '...', 'सनक', 'के', 'भाव', 'बा।', 'हमरा', 'त', 'सचमुच', 'बड़का', 'कमरा', 'के', 'काफी', 'शौक', 'हो', 'रहल', 'बा', ',', 'सब', 'लेकिन', 'एतना', 'भयानक', 'कागज।', 'एक', 'खिड़की', 'से', 'हमरा', 'बगइचा', 'लउकत', 'बा', ',', 'ऊ', 'रहस्यमयी', 'गहिराह', 'छायादार', 'आर्बर', ',', 'उधम', 'मचावे', 'वाला', 'पुरान', 'जमाना', 'के', 'फूल', ',', 'आ', 'झाड़ी', 'आ', 'गंभीर', 'पेड़।', 'एगो', 'अउरी', 'से', 'हमरा', 'खाड़ी', 'के', 'प्यारा', 'नजारा', 'मिलेला', 'आ', 'तनी', 'निजी', 'एस्टेट', 'से', 'संबंधित', 'घाट', 'के', 'बा।', 'एगो', 'सुन्दर', 'छायादार', 'लेन', 'बा', 'जवन', '...', 'घर', 'से', 'नीचे', 'दौड़त', 'बा।', 'हमरा', 'हमेशा', 'फैंसी', 'होला', 'कि', 'हम', 'लोग', 'के', 'भीतर', 'घुसत', 'देखत', 'बानी', 'ई', 'असंख्य', 'रास्ता', 'आ', 'आर्बर', ',', 'बाकिर', 'जॉन', 'हमरा', 'के', 'चेतवले', 'बाड़न', 'कि', 'मत', 'दीं', 'कम', 'से', 'कम', 'फैंसी', 'करे', 'के', 'तरीका।', 'ऊ', 'कहत', 'बाड़न', 'कि', 'हमरा', 'कल्पनाशक्ति', 'से', 'आ', '...', 'कहानी', 'बनावे', 'के', 'आदत', 'हमरा', 'जइसन', 'घबराहट', 'के', 'कमजोरी', 'के', 'ओर', 'ले', 'जाइल', 'तय', 'बा', 'हर', 'तरह', 'के', 'उत्साहित', 'आडंबर', ',', 'आ', 'कि', 'हमरा', 'आपन', 'इच्छा', 'आ', 'भलाई', 'के', 'इस्तेमाल', 'करे', 'के', 'चाहीं', 'प्रवृत्ति', 'के', 'जांच', 'करे', 'खातिर', 'भाव।', 'त', 'हम', 'कोशिश', 'करत', 'बानी', '.', 'हमरा', 'कबो-कबो', 'लागेला', 'कि', 'अगर', 'हम', 'तनी', 'ठीक', 'रहतीं', 'त', 'तनी', 'लिख', 'लेतीं', 'प्रेस', 'के', 'विचार', 'से', 'राहत', 'देत', 'रहे', 'आ', 'हमरा', 'के', 'आराम', 'देत', 'रहे।', 'बाकिर', 'हमरा', 'लागेला', 'कि', 'कोशिश', 'कइला', 'पर', 'हम', 'काफी', 'थक', 'जानी।', 'हमरा', 'बारे', 'में', 'कवनो', 'सलाह', 'आ', 'साथी', 'ना', 'होखल', 'अतना', 'हतोत्साहित', 'करे', 'वाला', 'बा', 'काम।', 'जब', 'हम', 'सचमुच', 'ठीक', 'हो', 'जाईब', 'त', 'जॉन', 'कहतारे', 'कि', 'हम', 'चचेरा', 'भाई', 'हेनरी', 'से', 'पूछब', 'अवुरी', '...', 'जूलिया', 'एगो', 'लंबा', 'यात्रा', 'खातिर', 'नीचे', ';', 'बाकिर', 'ऊ', 'कहत', 'बाड़न', 'कि', 'जइसहीं', 'डाल', 'देत', 'रहले', 'हमरा', 'तकिया-केस', 'में', 'आतिशबाजी', 'जइसे', 'कि', 'हमरा', 'लगे', 'ऊ', 'उत्तेजक', 'लोग', 'होखे', 'दीं', 'अब', 'के', 'बारे', 'में।', 'काश', 'हम', 'जल्दी', 'ठीक', 'हो', 'सकत', 'रहनी।', 'बाकिर', 'हमरा', 'ओह', 'बारे', 'में', 'ना', 'सोचे', 'के', 'चाहीं', '.', 'ई', 'कागज', 'हमरा', 'के', 'अइसे', 'देखत', 'बा', 'जइसे', 'ओकरा', 'मालूम', 'होखे', 'एकर', 'कतना', 'शातिर', 'प्रभाव', 'पड़ल', '!', 'एगो', 'बार-बार', 'आवे', 'वाला', 'जगह', 'बा', 'जहाँ', 'पैटर्न', 'टूटल', 'गर्दन', 'निहन', 'लोल', 'जाला', 'आ', 'दू', 'गो', 'बल्ब', 'नियर', 'आँख', 'रउरा', 'के', 'उल्टा', 'टकटकी', 'लगा', 'के', 'देखत', 'बा', '.', 'एकरा', 'अभद्रता', 'से', 'सकारात्मक', 'रूप', 'से', 'नाराज', 'हो', 'जानी', 'आ', '...', 'अनन्तता', 'के', 'भाव', 'बा।', 'ऊपर', 'नीचे', 'आ', 'बगल', 'में', 'रेंगत', 'बाड़े', ',', 'आ', 'ऊ', 'बेतुका', 'लोग', ',', 'बिना', 'झपकत', 'आँख', 'हर', 'जगह', 'बा।', 'एक', 'जगह', 'बा', 'जहाँ', 'दू', 'चौड़ाई', 'बा', 'मेल', 'ना', 'खात', 'रहे', ',', 'आ', 'आँख', 'सब', 'लाइन', 'के', 'ऊपर', 'नीचे', 'चल', 'जाला', ',', 'एक', 'तनी', 'दूसरा', 'से', 'ऊँच', 'बा।', 'कवनो', 'निर्जीव', 'चीज', 'में', 'एतना', 'अभिव्यक्ति', 'हम', 'पहिले', 'कबो', 'ना', 'देखले', 'रहनी', ',', 'आ', 'हमनी', 'के', 'सब', 'केहू', 'जानत', 'बानी', 'कि', 'ओह', 'लोग', 'के', 'केतना', 'अभिव्यक्ति', 'बा', '!', 'बचपन', 'में', 'जागल', 'लेटत', 'रहनी', 'आ', '...', 'खाली', 'देवाल', 'आ', 'सादा', 'से', 'अधिका', 'मनोरंजन', 'आ', 'आतंक', 'मिलल', 'फर्नीचर', 'जवन', 'अधिकतर', 'लइकन', 'के', 'खिलौना-स्टोर', 'में', 'मिल', 'सकेला', '.', 'हमरा', 'इयाद', 'बा', 'कि', 'हमनी', 'के', 'बड़का', 'पुरान', 'ब्यूरो', 'के', 'घुंडी', 'कतना', 'दयालुता', 'से', 'आँखि', 'मिचौनी', 'करत', 'रहे', 'बा', ',', 'आ', 'एगो', 'कुर्सी', 'रहे', 'जवन', 'हमेशा', 'एगो', 'मजबूत', 'दोस्त', 'लागत', 'रहे।', 'हमरा', 'लागत', 'रहे', 'कि', 'अगर', 'बाकी', 'कवनो', 'बात', 'बहुते', 'भयंकर', 'लागत', 'बा', 'त', 'हम', 'हमेशा', 'ओह', 'कुर्सी', 'पर', 'हॉप', 'कर', 'सकत', 'रहले', 'आ', 'सुरक्षित', 'रह', 'सकत', 'रहले', '.', 'एह', 'कमरा', 'के', 'फर्नीचर', 'असमंजस', 'से', 'भी', 'खराब', 'नइखे', ',', 'हालांकि', ',', 'काहे', 'कि', '...', 'हमनी', 'के', 'नीचे', 'से', 'सब', 'कुछ', 'ले', 'आवे', 'के', 'रहे।', 'हमरा', 'लागता', 'कि', 'जब', 'एकर', 'इस्तेमाल', 'के', 'रूप', 'में', 'भईल', 'रहे', 'एगो', 'प्लेरूम', 'ओह', 'लोग', 'के', 'नर्सरी', 'के', 'चीजन', 'के', 'बाहर', 'निकाले', 'के', 'रहे', ',', 'आ', 'कवनो', 'आश्चर्य', 'नइखे', '!', 'आई', '.', 'के', 'बा', 'कबो', 'अइसन', 'तबाही', 'ना', 'देखले', 'जइसन', 'एहिजा', 'के', 'लइका-लइकी', 'कइले', 'बाड़े', '.', 'वॉलपेपर', ',', 'जइसन', 'कि', 'हम', 'पहिले', 'कहले', 'रहीं', ',', 'धब्बा-धब्बा', 'फाटल', 'बा', ',', 'आ', 'चिपकल', 'बा', 'भाई', 'से', 'भी', 'करीबी—उनका', 'लगे', 'दृढ़ता', 'के', 'साथे-साथे', '...', 'नफरत', 'के', 'भाव', 'रहे।', 'फेर', 'फर्श', 'के', 'खरोंच', 'के', 'गॉग', 'आ', 'फाटल', 'जाला', ',', 'प्लास्टर', 'खुदे', 'इहाँ-उहाँ', 'खोदल', 'गइल', 'बा', ',', 'आ', 'ई', 'बड़हन', 'भारी', 'बिछौना', ',', 'जवन', 'बा', 'कमरा', 'में', 'जवन', 'मिलल', 'बा', ',', 'लागत', 'बा', 'कि', 'जइसे', 'युद्धन', 'से', 'गुजरल', 'होखे।', 'बाकिर', 'हमरा', 'तनी', 'दिक्कत', 'नइखे-सिर्फ', 'कागज।', 'उहाँ', 'जॉन', 'के', 'बहिन', 'आवेले।', 'अतना', 'प्रिय', 'लइकी', 'जइसन', 'बा', ',', 'आ', 'एतना', 'सावधान', 'हमरा', 'के', '!', 'हमरा', 'ओकरा', 'के', 'हमरा', 'के', 'लिखत', 'ना', 'मिले', 'देबे', 'के', 'चाहीं', '.', 'ऊ', 'एगो', 'परफेक्ट', ',', 'आ', 'उत्साही', 'हाउसकीपर', 'हई', ',', 'आ', 'एहसे', 'बढ़िया', 'के', 'उमेद', 'नइखे', 'पेशा।', 'हमरा', 'पूरा', 'विश्वास', 'बा', 'कि', 'उनुका', 'लागत', 'बा', 'कि', 'इहे', 'लेखन', 'हमरा', 'के', 'बनवले', 'बा', 'बेमार', '!', 'बाकिर', 'जब', 'ऊ', 'बाहर', 'होखीहें', 'त', 'हम', 'लिख', 'सकीलें', ',', 'आ', 'एह', 'सब', 'से', 'बहुते', 'दूर', 'देख', 'सकीलें', 'खिड़की', 'के', 'बा।', 'सड़क', 'के', 'आज्ञा', 'देवे', 'वाला', 'एगो', 'बा', ',', 'एगो', 'प्यारा', ',', 'छायादार', ',', 'घुमावदार', 'सड़क', ',', 'आ', 'अइसन', 'जवन', 'बस', 'देश', 'के', 'ऊपर', 'से', 'नजर', 'डालत', 'बा', '.', 'एगो', 'प्यारा', 'देश', 'भी', ',', 'महान', 'एल्म', 'आ', 'मखमली', 'घास', 'के', 'मैदान', 'से', 'भरल।', 'एह', 'वॉलपेपर', 'में', 'एक', 'तरह', 'के', 'उप-पैटर्न', 'एगो', 'अलग', 'शेड', 'में', 'बा', ',', 'क', 'खास', 'तौर', 'पर', 'चिढ़ावे', 'वाला', ',', 'काहे', 'कि', 'रउरा', 'एकरा', 'के', 'कुछ', 'खास', 'रोशनी', 'में', 'ही', 'देख', 'सकेनी', ',', 'आ', 'तब', 'साफ', 'ना', 'भइल', '.', 'बाकिर', 'जवना', 'जगहन', 'पर', 'ई', 'फीका', 'नइखे', ',', 'आ', 'जहाँ', 'सूरज', 'बस', 'अतने', 'बा', ',', 'हम', '...', 'एगो', 'अजीब', ',', 'भड़काऊ', ',', 'निराकार', 'तरह', 'के', 'आकृति', 'देख', 'सकेला', ',', 'जवन', 'लागत', 'बा', 'ओह', 'मूर्खतापूर्ण', 'आ', 'उभरत', 'सामने', 'के', 'डिजाइन', 'के', 'पीछे', 'के', 'बारे', 'में', 'सुलग।', 'सीढ़ी', 'पर', 'बहिन', 'बाड़ी', '!', 'खैर', ',', 'चौथा', 'जुलाई', 'के', 'दिन', 'खतम', 'हो', 'गइल', 'बा', '!', 'जनता', 'गइल', 'बा', 'आ', 'हम', 'थक', 'गइल', 'बानी', 'बहरी।', 'जॉन', 'के', 'लागल', 'कि', 'शायद', 'हमरा', 'तनी', 'कंपनी', 'देख', 'के', 'भलाई', 'होई', ',', 'त', 'हमनी', 'के', '...', 'बस', 'माई', 'आ', 'नेल्ली', 'आ', 'लइकन', 'के', 'एक', 'हफ्ता', 'खातिर', 'नीचे', 'रखले', 'रहनी।', 'बेशक', 'हम', 'कवनो', 'काम', 'ना', 'कइनी।', 'जेनी', 'अब', 'सब', 'कुछ', 'देखत', 'बाड़ी।', 'बाकिर', 'ई', 'हमरा', 'के', 'सब', 'एके', 'जइसन', 'थका', 'दिहलसि', '.', 'जॉन', 'कहतारे', 'कि', 'अगर', 'हम', 'तेजी', 'से', 'ना', 'उठाईब', 'त', 'उ', 'हमरा', 'के', 'वेयर', 'मिशेल', 'के', 'लगे', 'भेज', 'दिहे', 'गिरावट', 'में', 'भइल', '.', 'बाकिर', 'हमरा', 'ओहिजा', 'जाए', 'के', 'मन', 'बिल्कुल', 'नइखे', '.', 'हमार', 'एगो', 'दोस्त', 'रहले', 'जे', 'उनुका', 'में', 'रहले', 'हाथ', 'एक', 'बेर', ',', 'आ', 'ऊ', 'कहेले', 'कि', 'ऊ', 'ठीक', 'जॉन', 'आ', 'हमरा', 'भाई', 'जइसन', 'बा', ',', 'खाली', 'अधिका', 'एही', 'से', '!', 'एकरा', 'अलावे', 'एतना', 'दूर', 'तक', 'जाए', 'के', 'अयीसन', 'उपक्रम', 'बा।', 'हमरा', 'नइखे', 'लागत', 'कि', 'एकरा', 'खातिर', 'हाथ', 'पलटला', 'के', 'लायक', 'रहे', 'कुछुओ', ',', 'आ', 'हम', 'भयावह', 'रूप', 'से', 'चिंतित', 'आ', 'खिसियाइल', 'हो', 'रहल', 'बानी', '.', 'हम', 'कवनो', 'बात', 'पर', 'रोवेनी', ',', 'आ', 'अधिकतर', 'समय', 'रोवेनी।', 'बेशक', 'हम', 'तब', 'ना', 'जब', 'जॉन', 'इहाँ', 'होखे', ',', 'भा', 'केहू', 'अउरी', ',', 'बलुक', 'जब', 'हम', 'होखीं', 'अकेले।', 'आ', 'हम', 'अकेले', 'बानी', 'बहुते', 'बढ़िया', 'सौदा', 'अभी', '.', 'जॉन', 'के', 'शहर', 'में', 'बहुत', 'बार', 'रखल', 'जाला', 'द्वारा', 'गंभीर', 'मामिला', 'में', ',', 'आ', 'जेनी', 'बढ़िया', 'बाड़ी', 'आ', 'जब', 'हम', 'चाहत', 'बानी', 'त', 'हमरा', 'के', 'अकेले', 'छोड़', 'देत', 'बाड़ी', '.', 'त', 'हम', 'तनी', 'बगइचा', 'में', 'चलत', 'बानी', 'भा', 'ओह', 'प्यारा', 'लेन', 'से', 'नीचे', ',', 'बइठ', 'के', '...', 'गुलाब', 'के', 'नीचे', 'बरामदा', ',', 'आ', 'इहाँ', 'बढ़िया', 'से', 'ऊपर', 'लेट', 'जा।', 'वॉलपेपर', 'के', 'बावजूद', 'कमरा', 'के', 'बहुत', 'शौक', 'हो', 'रहल', 'बा।', 'शायद', 'वॉलपेपर', 'के', 'चलते।', 'ई', 'हमरा', 'मन', 'में', 'बसल', 'बा', 'त', '!', 'हम', 'इहाँ', 'एह', 'महान', 'अचल', 'बिछौना', 'पर', 'लेट', 'गइल', 'बानी-ई', 'कील', 'ठोकल', 'बा', ',', 'हमरा', 'विश्वास', 'बा-आ', '...', 'ओह', 'पैटर्न', 'के', 'लगभग', 'घंटा', 'के', 'हिसाब', 'से', 'पालन', 'करीं', '.', 'जिमनास्टिक', 'जइसन', 'बढ़िया', 'बा', ',', 'हम', 'रउरा', 'के', 'भरोसा', 'दिआवत', 'बानी', '.', 'हम', 'शुरू', 'करत', 'बानी', ',', 'हम', 'कहब', ',', 'नीचे', 'से', ',', 'नीचे', 'कोना', 'में', 'ओवर', 'उहाँ', 'जहाँ', 'एकरा', 'के', 'छूवल', 'नइखे', 'गइल', ',', 'आ', 'हम', 'हजारवाँ', 'खातिर', 'तय', 'करत', 'बानी', 'समय', 'कि', 'हम', 'ओह', 'बेमतलब', 'के', 'पैटर्न', 'के', 'कवनो', 'ना', 'कवनो', 'तरह', 'के', 'क', 'अंतिम', 'बात।', 'डिजाइन', 'के', 'सिद्धांत', 'के', 'बारे', 'में', 'हमरा', 'तनी', 'मालूम', 'बा', ',', 'अवुरी', 'हमरा', 'मालूम', 'बा', 'कि', 'इ', 'चीज़', 'रहे', 'विकिरण', ',', 'भा', 'बारी-बारी', 'से', ',', 'भा', 'दोहराव', 'के', 'कवनो', 'नियम', 'पर', 'व्यवस्था', 'ना', 'कइल', 'गइल', ',', 'भा', 'समरूपता', ',', 'भा', 'कवनो', 'दोसर', 'बात', 'जवना', 'के', 'बारे', 'में', 'हम', 'कबो', 'सुनले', 'रहीं', '.', 'एकरा', 'के', 'दोहरावल', 'जाला', ',', 'बेशक', ',', 'चौड़ाई', 'से', ',', 'बाकिर', 'दोसरा', 'तरह', 'से', 'ना', '.', 'एक', 'तरह', 'से', 'देखल', 'जाव', 'त', 'हर', 'चौड़ाई', 'अकेले', 'खड़ा', 'बा', ',', 'फूलल', 'वक्रता', 'आ', '...', 'पनपेला-प्रलाप', 'ट्रेमेंस', 'के', 'साथ', 'एक', 'तरह', 'के', '“', 'नीच', 'रोमनस्क्यू', '”', '-जा', 'जाला', 'फूहड़पन', 'के', 'अलग-थलग', 'स्तंभ', 'में', 'ऊपर', 'नीचे', 'लहरात।', 'लेकिन', ',', 'दूसरा', 'ओर', ',', 'उ', 'लोग', 'तिरछा', 'जुड़', 'जाला', ',', 'अवुरी', 'फइलल', 'रूपरेखा', 'ऑप्टिक', 'हॉरर', 'के', 'महान', 'तिरछा', 'लहरन', 'में', 'भाग', 'जाला', ',', 'जइसे', 'कि', 'बहुत', 'कुछ', 'पूरा', 'पीछा', 'करत', 'लहरात', 'समुद्री', 'शैवाल।', 'पूरा', 'बात', 'क्षैतिज', 'रूप', 'से', 'भी', 'चलेला', ',', 'कम', 'से', 'कम', 'अयीसन', 'लागता', ',', 'अवुरी', 'हम', 'ओहमें', 'एकर', 'जाए', 'के', 'क्रम', 'के', 'भेद', 'करे', 'के', 'कोशिश', 'में', 'अपना', 'के', 'थका', 'देत', 'बानी', 'दिशा।', 'ई', 'लोग', 'फ्रीज', 'खातिर', 'क्षैतिज', 'चौड़ाई', 'के', 'इस्तेमाल', 'कइले', 'बा', 'आ', 'ई', 'अउरी', 'जोड़', 'देला', 'अद्भुत', 'बात', 'से', 'भ्रम', 'के', 'स्थिति', 'पैदा', 'हो', 'गईल।', 'कमरा', 'के', 'एगो', 'छोर', 'बा', 'जहाँ', 'लगभग', 'बरकरार', 'बा', ',', 'आ', 'उहाँ', ',', 'जब', 'क्रॉस-लाइट', 'फीका', 'हो', 'जाला', 'आ', 'कम', 'धूप', 'सीधे', 'ओकरा', 'पर', 'चमकेला', ',', 'हम', 'कर', 'सकेनी', 'लगभग', 'फैंसी', 'विकिरण', 'आखिरकार', ',', '—अंतहीन', 'विचित्रता', 'अइसन', 'लागत', 'बा', 'एगो', 'आम', 'केंद्र', 'के', 'आसपास', 'बन', 'जाला', 'आ', 'बराबर', 'के', 'सिर', 'से', 'डुबकी', 'लगा', 'के', 'भाग', 'जाला', 'विकर्षण', 'के', 'काम', 'होला', '.', 'एकर', 'पालन', 'करत', 'हमरा', 'थक', 'जाला।', 'झपकी', 'ले', 'लेब', ',', 'हमरा', 'अनुमान', 'बा।', 'पता', 'ना', 'काहे', 'ई', 'लिखे', 'के', 'चाहीं', '.', 'हम', 'नइखी', 'चाहत।', 'हमरा', 'त', 'अपना', 'के', 'सक्षम', 'नइखे', 'लागत', '.', 'आ', 'हमरा', 'मालूम', 'बा', 'कि', 'जॉन', 'के', 'ई', 'बेतुका', 'लागी', '.', 'बाकिर', 'जवन', 'महसूस', 'करत', 'बानी', 'ऊ', 'जरूर', 'कहब', 'आ', '...', 'कवनो', 'ना', 'कवनो', 'तरीका', 'से', 'सोचीं—ई', 'त', 'अतना', 'राहत', 'बा', '!', 'बाकिर', 'कोशिश', 'राहत', 'से', 'अधिका', 'होखे', 'लागल', 'बा', '.', 'आधा', 'समय', 'अब', '\\u200b\\u200bहम', 'भयानक', 'आलसी', 'बानी', ',', 'आ', 'कबो', 'एतना', 'लेट', 'जानी।', 'जॉन', 'कहत', 'बाड़न', 'कि', 'हमरा', 'आपन', 'ताकत', 'ना', 'गँवावे', 'के', 'चाहीं', ',', 'आ', 'हमरा', 'से', 'कॉड-लिवर', 'ऑयल', 'लेबे', 'के', 'कहत', 'बाड़न', 'आ', '...', 'ढेर', 'सारा', 'टॉनिक', 'आ', 'चीज', ',', 'एले', 'आ', 'शराब', 'के', 'कुछ', 'ना', 'कहल', 'जाव', 'आ', 'दुर्लभ', 'मांस।', 'प्रिय', 'जॉन', 'के', 'बा', '!', 'ऊ', 'हमरा', 'से', 'बहुते', 'प्यार', 'करेला', ',', 'आ', 'हमरा', 'के', 'बेमार', 'राखे', 'से', 'नफरत', 'करेला', '.', 'हम', 'कोशिश', 'कइनी', 'पिछला', 'दिने', 'ओकरा', 'से', 'असली', 'गंभीरता', 'से', 'उचित', 'बात', 'करे', 'के', ',', 'आ', 'बतावे', 'के', 'ओकरा', 'के', 'कइसे', 'काश', 'ऊ', 'हमरा', 'के', 'जाए', 'देत', 'रहले', 'आ', 'चचेरा', 'भाई', 'हेनरी', 'के', 'दौरा', 'करसु', 'आ', '...', 'जूलिया', 'के', 'नाम', 'से', 'जानल', 'जाला।', 'बाकिर', 'ऊ', 'कहले', 'कि', 'हम', 'ना', 'जा', 'पवनी', ',', 'ना', 'मिलला', 'के', 'बाद', 'बर्दाश्त', 'कर', 'पवनी', 'ऊहाॅंं', ';', 'आ', 'हम', 'अपना', 'खातिर', 'बहुते', 'बढ़िया', 'केस', 'ना', 'बनवनी', ',', 'काहे', 'कि', 'हम', 'रहनी', 'हम', 'खतम', 'होखे', 'से', 'पहिले', 'रोवत', 'रहनी।', 'हमरा', 'खातिर', 'ई', 'एगो', 'बड़हन', 'प्रयास', 'होखे', 'लागल', 'बा', 'कि', 'हम', 'सीधा', 'सोचीं', '.', 'बस', 'इहे', 'बा', 'घबराहट', 'के', 'कमजोरी', ',', 'हमरा', 'लागता।', 'आ', 'प्रिय', 'जॉन', 'हमरा', 'के', 'अपना', 'कोरा', 'में', 'बटोर', 'लिहले', ',', 'आ', 'बस', 'हमरा', 'के', 'ऊपर', 'ले', 'गइले', 'आ', 'हमरा', 'के', 'बिछौना', 'पर', 'लेट', 'के', 'हमरा', 'लगे', 'बइठ', 'के', 'हमरा', 'के', 'तब', 'तक', 'पढ़ले', 'जबले', 'कि', 'ई', 'हमार', 'थका', 'ना', 'दिहलस', 'कपार।', 'ऊ', 'कहले', 'कि', 'हम', 'उनकर', 'प्रिय', 'हईं', 'आ', 'उनकर', 'आराम', 'आ', 'उनकर', 'सब', 'कुछ', ',', 'आ', 'कि', 'हम', 'ओकरा', 'खातिर', 'आपन', 'ख्याल', 'राखे', 'के', 'पड़ी', ',', 'आ', 'बढ़िया', 'से', 'राखे', 'के', 'पड़ी', '.', 'ऊ', 'कहत', 'बाड़न', 'कि', 'हमरा', 'अलावे', 'केहू', 'हमरा', 'के', 'एहसे', 'बाहर', 'निकाले', 'में', 'मदद', 'ना', 'कर', 'सके', ',', 'कि', 'हमरा', 'आपन', 'इस्तेमाल', 'जरूर', 'करे', 'के', 'पड़ी', 'इच्छाशक्ति', 'आ', 'आत्मसंयम', 'आ', 'हमरा', 'साथे', 'कवनो', 'मूर्खतापूर्ण', 'आडंबर', 'ना', 'भागे', 'दीं', '.', 'एके', 'गो', 'आराम', 'बा', ',', 'बच्चा', 'ठीक', 'बा', 'आ', 'खुश', 'बा', ',', 'आ', 'जरूरी', 'नइखे', 'भयानक', 'वॉलपेपर', 'के', 'साथ', 'एह', 'नर्सरी', 'पर', 'कब्जा', 'कर', 'लीं।', 'अगर', 'हम', 'एकर', 'इस्तेमाल', 'ना', 'कइले', 'रहतीं', 'त', 'ऊ', 'धन्य', 'लइका', 'करित', '!', 'कतना', 'भाग्यशाली', 'बा', 'साफ', 'बचि', 'के', 'निकल', 'गयिल', '!', 'काहे', ',', 'हमरा', 'आपन', 'लइका', 'ना', 'रहित', ',', 'एगो', 'प्रभावशाली', 'छोट', 'बात', ',', 'दुनिया', 'खातिर', 'अइसन', 'कमरा', 'में', 'रहे', 'के', 'चाहीं।', 'हम', 'एकरा', 'बारे', 'में', 'पहिले', 'कबो', 'ना', 'सोचले', 'रहनी', ',', 'लेकिन', 'इ', 'भाग्यशाली', 'बा', 'कि', 'जॉन', 'हमरा', 'के', 'इहाँ', 'रखले', 'बाड़े', 'आखिर', 'में', 'त', 'बा', '.', 'हम', 'एकरा', 'के', 'बच्चा', 'से', 'कतना', 'आसानी', 'से', 'बर्दाश्त', 'क', 'सकतानी', ',', 'देखतानी।', 'बेशक', 'हम', 'अब', 'कबो', 'ओह', 'लोग', 'के', 'एकर', 'जिक्र', 'ना', 'करेनी', ',', '—हम', 'बहुते', 'बुद्धिमान', 'बानी', ',', '—लेकिन', 'हम', '...', 'एकरा', 'सब', 'पर', 'एके', 'जइसन', 'नजर', 'राखीं', '.', 'ओह', 'कागज', 'में', 'अइसन', 'बात', 'बा', 'जवन', 'हमरा', 'छोड़', 'के', 'केहू', 'नइखे', 'जानत', ',', 'भा', 'कबो', 'ना', 'जानत', 'होई', '.', 'ओह', 'बाहरी', 'पैटर्न', 'के', 'पीछे', 'मद्धिम', 'आकृति', 'रोज', 'साफ', 'हो', 'जाला।', 'ई', 'हमेशा', 'एके', 'आकार', 'के', 'होला', ',', 'खाली', 'बहुत', 'संख्या', 'में', 'होला।', 'आ', 'ई', 'अइसन', 'बा', 'जइसे', 'कवनो', 'मेहरारू', 'झुक', 'के', 'ओकरा', 'पीछे', 'रेंग', 'के', 'घूमत', 'बिया', 'परकार।', 'हमरा', 'तनी', 'नीक', 'नइखे', 'लागत', '.', 'हम', 'सोचत', 'बानी—हम', 'सोचे', 'लगनी—हम', 'जॉन', 'के', 'कामना', 'करेनी', 'हमरा', 'के', 'इहाँ', 'से', 'दूर', 'ले', 'जास', '!', 'जॉन', 'से', 'हमार', 'केस', 'के', 'बारे', 'में', 'बात', 'कईल', 'एतना', 'मुश्किल', 'बा', ',', 'काहे', 'कि', 'उ', 'बहुत', 'बुद्धिमान', 'बाड़े', ',', 'आ', 'एहसे', 'कि', 'ऊ', 'हमरा', 'से', 'अतना', 'प्यार', 'करेला', '.', 'बाकिर', 'काल्हु', 'रात', 'एकरा', 'के', 'आजमा', 'के', 'देखनी', '.', 'चाँदनी', 'के', 'रोशनी', 'रहे।', 'चाँद', 'चारो', 'ओर', 'में', 'चमकेला', ',', 'ठीक', 'ओसही', 'जइसे', 'सूरज', 'चमकेला।', 'हमरा', 'कबो-कबो', 'देख', 'के', 'नफरत', 'होला', ',', 'ई', 'अतना', 'धीरे-धीरे', 'रेंगत', 'रहेला', ',', 'आ', 'हमेशा', 'भीतर', 'आ', 'जाला', 'कवनो', 'खिड़की', 'भा', 'दोसरा', 'खिड़की', '.', 'जॉन', 'सुतल', 'रहले', 'आ', 'हमरा', 'उनका', 'के', 'जगावे', 'से', 'नफरत', 'रहे', ',', 'एहसे', 'हम', 'स्थिर', 'रहनी', 'आ', 'देखत', 'रहनी', 'ओह', 'लहरदार', 'वॉलपेपर', 'पर', 'चाँदनी', 'जबले', 'हमरा', 'खौफनाक', 'ना', 'लागल', '.', 'पीछे', 'के', 'फीका', 'आकृति', 'जइसे', 'पैटर्न', 'के', 'हिला', 'देत', 'रहे', ',', 'ठीक', 'ओसही', 'जइसे', 'ऊ', 'बाहर', 'निकलल', 'चाहत', 'रहे।', 'हम', 'मंद', 'मंद', 'उठ', 'के', 'महसूस', 'करे', 'चल', 'गइनी', 'आ', 'देखनी', 'कि', 'कागज', 'जरूर', 'हिलल', 'बा', 'कि', 'ना', ',', 'आ', '...', 'जब', 'हम', 'वापस', 'अइनी', 'त', 'जॉन', 'जागल', 'रहले।', '“', 'का', 'बा', 'छोटकी', 'बच्ची', '?', '”', 'उ', 'कहले।', '“', 'अइसन', 'घूमत', 'मत', 'जा', 'कि—रउरा', 'ठंडा', 'हो', 'जाई।', '”', 'हमरा', 'लागल', 'कि', 'ई', 'बात', 'करे', 'के', 'बढ़िया', 'समय', 'बा', ',', 'त', 'हम', 'उनका', 'से', 'कहनी', 'कि', 'हम', 'सचमुच', 'बानी', 'इहाँ', 'फायदा', 'ना', 'होखे', ',', 'आ', 'कि', 'हम', 'चाहत', 'रहनी', 'कि', 'ऊ', 'हमरा', 'के', 'ले', 'जास।', '“', 'काहे', 'डार्लिंग', '!', '”', 'ऊ', 'कहले', ',', '“', 'हमार', 'पट्टा', 'तीन', 'हफ्ता', 'में', 'खतम', 'हो', 'जाई', ',', 'आ', 'हम', 'पहिले', 'कइसे', 'छोड़ल', 'जाव', ',', 'ई', 'नइखे', 'लउकत', '.', 'उ', 'कहले', 'कि', ',', 'मरम्मत', 'घर', 'में', 'नईखे', 'होखत', ',', 'अवुरी', 'हम', 'शहर', 'से', 'बाहर', 'नईखी', 'निकल', 'सकत', 'अभी', 'अभी-अभी।', 'बेशक', 'अगर', 'रउरा', 'कवनो', 'खतरा', 'में', 'रहित', 'त', 'हम', 'कर', 'सकत', 'रहनी', 'आ', 'करब', ',', 'बाकिर', '...', 'तू', 'सचमुच', 'बेहतर', 'बाड़ू', 'प्रियतम', ',', 'चाहे', 'देख', 'सकेनी', 'भा', 'ना।', 'हम', 'त', 'क', '...', 'डाक्टर', ',', 'प्रिय', ',', 'आ', 'हम', 'जानत', 'बानी।', 'मांस-रंग', 'पा', 'रहल', 'बाड़ू', ',', 'तोहार', '...', 'भूख', 'के', 'भाव', 'बेहतर', 'हो', 'जाला।', 'हमरा', 'तहरा', 'बारे', 'में', 'सचमुच', 'बहुत', 'सहज', 'लागत', 'बा.', '”', 'हम', 'कहनी', ',', '“', 'हमरा', 'वजन', 'तनी', 'अधिका', 'नइखे', ',', 'ना', 'ओतना', ';', 'आ', 'हमार', 'भूख', 'हो', 'सकेला', 'साँझ', 'के', 'बेहतर', 'होखे', 'के', 'चाहीं', ',', 'जब', 'रउरा', 'एहिजा', 'होखीं', ',', 'बाकिर', 'ई', 'त', 'खराब', 'होला', 'सबेरे', 'जब', 'तू', 'दूर', 'होखबऽ.', '”', '“', 'उनकर', 'छोटका', 'दिल', 'के', 'आशीर्वाद', 'दीं', '!', '”', 'ऊ', 'बड़का', 'गले', 'लगा', 'के', 'कहले', ';', '“', 'उहो', 'ओतने', 'बेमार', 'हो', 'जइहें', 'जइसे', 'कि', 'उनुका', 'मन', 'करे', '!', 'बाकिर', 'अब', 'चलीं', 'जा', 'के', 'चमकत', 'घड़ी', 'सुधारल', 'जाव', 'सुतऽ', ',', 'आ', 'सबेरे', 'एकरा', 'बारे', 'में', 'बतियाईं', '!', '”', '“', 'आ', 'तू', 'ना', 'जइबऽ', '?', '”', 'हम', 'उदास', 'होके', 'पूछनी।', '“', 'काहे', ',', 'कइसे', 'करब', ',', 'प्रियतम', '?', 'अभी', 'तीन', 'हफ्ता', 'अउरी', 'बा', 'आ', 'ओकरा', 'बाद', 'हमनी', 'के', 'करब', 'जा', 'कुछ', 'दिन', 'के', 'एगो', 'बढ़िया', 'छोट', 'यात्रा', 'करीं', 'जबकि', 'जेनी', 'के', 'घर', 'मिल', 'रहल', 'बा', 'तइयार।', 'सचहूं', 'प्रियतम', ',', 'तू', 'त', 'बढ़िया', 'बाड़ू', '!', '”', '“', 'शरीर', 'में', 'बेहतर', 'शायद', '”', '—हम', 'शुरू', 'कइनी', ',', 'आ', 'छोट', 'रुक', 'गइनी', ',', 'काहे', 'कि', 'ऊ', 'उठ', 'के', 'बइठ', 'गइलन', 'सीधा', 'आ', 'हमरा', 'ओर', 'अतना', 'कठोर', ',', 'निंदा', 'भरल', 'नजर', 'से', 'देखलस', 'कि', 'हम', '...', 'दोसर', 'शब्द', 'ना', 'कह', 'पवले', '.', 'ऊ', 'कहले', ',', '“', 'हमार', 'प्रियतम', ',', 'हम', 'तोहरा', 'से', 'निहोरा', 'करत', 'बानी', ',', 'हमरा', 'खातिर', 'आ', 'हमनी', 'के', 'लइका', 'खातिर', 'खातिर', ',', 'साथ', 'ही', 'साथ', 'अपना', 'खातिर', 'भी', ',', 'कि', 'रउआ', 'कबो', 'एक', 'पल', 'खातिर', 'ना', 'देब', 'ऊ', 'विचार', 'रउरा', 'दिमाग', 'में', 'घुस', 'जाला', '!', 'एतना', 'खतरनाक', 'कुछुओ', 'नईखे', ',', 'त', '...', 'आकर्षक', ',', 'राउर', 'जइसन', 'स्वभाव', 'के।', 'ई', 'एगो', 'झूठ', 'आ', 'मूर्खतापूर्ण', 'बा', 'फैंसी।', 'जब', 'हम', 'कहब', 'त', 'का', 'रउरा', 'हमरा', 'पर', 'वैद्य', 'के', 'रूप', 'में', 'भरोसा', 'ना', 'कर', 'सकेनी', '?', '”', 'त', 'बेशक', 'हम', 'ओह', 'स्कोर', 'पर', 'अउरी', 'ना', 'कहनी', ',', 'आ', 'हम', 'पहिले', 'सुत', 'गइल', 'रहीं', 'लाम।', 'उनुका', 'लागल', 'कि', 'हम', 'पहिले', 'सुतल', 'बानी', ',', 'बाकिर', 'हम', 'ना', 'सुतल', 'रहनी', ',', '—हम', 'खातिर', 'लेट', 'गइल', 'रहनी', 'घंटन', 'तय', 'करे', 'के', 'कोशिश', 'करत', 'कि', 'ऊ', 'सामने', 'के', 'पैटर्न', 'आ', 'पीछे', 'के', 'पैटर्न', 'सचहूँ', 'एक', 'संगे', 'भा', 'अलग-अलग', 'हिलत-डुलत', 'रहे।', 'अइसन', 'पैटर्न', 'पर', 'दिन', 'के', 'उजाला', 'से', 'क्रम', 'के', 'कमी', 'होला', ',', 'क', 'कानून', 'के', 'अवहेलना', ',', 'जवन', 'कि', 'एगो', 'सामान्य', 'दिमाग', 'खातिर', 'लगातार', 'चिढ़ावे', 'वाला', 'होला', '.', 'रंग', 'काफी', 'घिनौना', 'बा', ',', 'आ', 'काफी', 'अविश्वसनीय', 'बा', ',', 'आ', 'भड़काऊ', 'बा', 'काफी', 'बा', ',', 'लेकिन', 'पैटर्न', 'यातना', 'देवे', 'वाला', 'बा।', 'रउरा', 'लागत', 'बा', 'कि', 'रउरा', 'एहमें', 'महारत', 'हासिल', 'कर', 'लिहले', 'बानी', 'बाकिर', 'ठीक', 'ओइसहीं', 'जइसे', 'रउरा', 'बढ़िया', 'से', 'काम', 'शुरू', 'हो', 'जाला', 'फॉलो', 'करत', ',', 'ई', 'एगो', 'बैक', 'समरसाल्ट', 'घुमावेला', 'आ', 'उहाँ', 'रउआ', 'बानी।', 'तोहरा', 'के', 'थप्पड़', 'मारत', 'बा', 'चेहरा', 'पर', ',', 'तोहरा', 'के', 'गिरा', 'देला', ',', 'आ', 'तोहरा', 'के', 'रौंद', 'देला।', 'ई', 'त', 'एगो', 'बुरा', 'जइसन', 'बा', 'सपना।', 'बाहरी', 'पैटर्न', 'फूलदार', 'अरबेस्क', 'के', 'होला', ',', 'जवन', 'कवक', 'के', 'याद', 'दिला', 'देला।', 'अगर', 'रउरा', 'जोड़न', 'में', 'एगो', 'टॉडस्टूल', 'के', 'कल्पना', 'कर', 'सकीलें', 'त', 'के', 'एगो', 'अंतहीन', 'तार', 'टॉडस्टूल', ',', 'अंतहीन', 'घुमाव', 'में', 'अंकुरित', 'आ', 'अंकुरित', ',', '—काहे', ',', 'माने', 'कि', 'कुछ', 'अइसने', 'बा', '.', 'माने', 'कि', 'कबो-कबो', '!', 'एह', 'पेपर', 'में', 'एगो', 'चिन्हित', 'विशिष्टता', 'बा', ',', 'जवन', 'बात', 'केहू', 'के', 'नइखे', 'लागत', 'नोटिस', 'करे', 'खातिर', 'बाकिर', 'खुदे', ',', 'आ', 'ऊ', 'ई', 'कि', 'जइसे-जइसे', 'रोशनी', 'बदलत', 'जाला', ',', 'ओइसे-ओइसे', 'बदलत', 'रहेला', '.', 'जब', 'पूरब', 'के', 'खिड़की', 'से', 'सूरज', 'गोली', 'मार', 'के', 'अंदर', 'आवेला-हम', 'हमेशा', 'ओह', 'पर', 'नजर', 'राखेनी', 'पहिला', 'लमहर', ',', 'सीधा', 'किरण-ई', 'एतना', 'जल्दी', 'बदल', 'जाला', 'कि', 'हम', 'कबो', 'पूरा', 'तरह', 'से', 'ना', 'बदल', 'सकेनी', 'एकरा', 'पर', 'विश्वास', 'करीं', '.', 'एही', 'से', 'हम', 'एकरा', 'के', 'हमेशा', 'देखत', 'रहेनी।', 'चाँदनी', 'से—चाँद', 'भर', 'रात', 'में', 'चमकेला', 'जब', 'चाँद', 'होला—हम', 'ना', 'जानत', 'होई', 'कि', 'उहे', 'कागज', 'ह।', 'रात', 'में', 'कवनो', 'तरह', 'के', 'रोशनी', 'में', ',', 'गोधूलि', 'बेला', 'में', ',', 'मोमबत्ती', 'के', 'रोशनी', 'में', ',', 'दीया', 'के', 'रोशनी', 'में', ',', 'आ', '...', 'सबसे', 'खराब', 'चाँदनी', 'से', ',', 'ई', 'बार', 'बन', 'जाला', '!', 'बाहरी', 'पैटर्न', 'से', 'हमार', 'मतलब', 'बा', ',', 'आ', 'ओकरा', 'पीछे', 'के', 'मेहरारू', 'जतना', 'सादा', 'हो', 'सकेला', '.', 'हमरा', 'बहुत', 'दिन', 'से', 'इ', 'ना', 'बुझाइल', 'कि', 'उ', 'बात', 'का', 'बा', 'जवन', 'देखावत', 'रहे', 'पीछे', ',', '—ऊ', 'मद्धिम', 'उप-पैटर्न', ',', '—लेकिन', 'अब', 'हमरा', 'पूरा', 'भरोसा', 'बा', 'कि', 'ई', 'एगो', 'मेहरारू', 'हई।', 'दिन', 'के', 'उजाला', 'से', 'ऊ', 'वश', 'में', 'हो', 'जाली', ',', 'चुपचाप।', 'हमरा', 'फैंसी', 'बा', 'कि', 'ई', 'पैटर्न', 'ह', 'जवन', 'राखेला', 'ओकरा', 'के', 'त', 'अबहियों', '.', 'ई', 'त', 'अतना', 'अचरज', 'के', 'बात', 'बा।', 'ई', 'हमरा', 'के', 'घंटा', 'दर', 'घंटा', 'चुप', 'करावेला।', 'हम', 'अब', 'कबो', 'एतना', 'लेट', 'जानी।', 'जॉन', 'कहत', 'बाड़न', 'कि', 'ई', 'हमरा', 'खातिर', 'बढ़िया', 'बा', ',', 'आ', 'सुते', 'के', 'भी', 'जवन', 'हम', 'कर', 'सकीले।', 'सचहूं', ',', 'उ', 'आदत', 'के', 'शुरुआत', 'हमरा', 'के', 'एक', 'घंटा', 'बाद', 'लेटवा', 'देले', 'रहले', 'हर', 'भोजन', 'के', 'बारे', 'में', 'बतावल', 'गइल', 'बा', '.', 'ई', 'बहुते', 'खराब', 'आदत', 'ह', ',', 'हमरा', 'पूरा', 'भरोसा', 'बा', ',', 'काहे', 'कि', ',', 'देखत', 'बाड़ऽ', ',', 'हमरा', 'नींद', 'ना', 'आवेला', '.', 'आ', 'ऊ', 'धोखा', 'के', 'खेती', 'करेला', ',', 'काहे', 'कि', 'हम', 'ओह', 'लोग', 'के', 'ना', 'कहेनी', 'कि', 'हम', 'जागल', 'बानी', ',', '—अरे', ',', 'ना', '!', 'असल', 'बात', 'ई', 'बा', 'कि', 'हमरा', 'जॉन', 'से', 'तनी', 'डर', 'लागत', 'बा', '.', 'ऊ', 'कबो-कबो', 'बहुते', 'क्वीयर', 'लागेला', ',', 'आ', 'जेनी', 'के', 'भी', 'एगो', 'बेवजह', 'बा', 'देखीं।', 'ई', 'हमरा', 'बीच-बीच', 'में', ',', 'ठीक', 'वैज्ञानिक', 'परिकल्पना', 'के', 'रूप', 'में', ',', 'कि', '...', 'शायद', 'कागज', 'के', 'बात', 'बा', '!', 'हम', 'जॉन', 'के', 'देखले', 'बानी', 'जब', 'उनुका', 'मालूम', 'ना', 'रहे', 'कि', 'हम', 'देखत', 'बानी', ',', 'अवुरी', 'भीतर', 'आ', 'गईल', 'बानी', 'कमरा', 'में', 'अचानक', 'सबसे', 'मासूम', 'बहाना', 'बना', 'के', ',', 'आ', 'हम', 'ओकरा', 'के', 'पकड़', 'लेले', 'बानी', 'कई', 'बेर', 'कागज', 'के', 'देखत', '!', 'आ', 'जेनी', 'के', 'भी।', 'हम', 'जेनी', 'के', 'पकड़', 'लेहनी', 'एक', 'बेर', 'ओकरा', 'पर', 'हाथ', 'रख', 'के।', 'उनुका', 'मालूम', 'ना', 'रहे', 'कि', 'हम', 'कमरा', 'में', 'बानी', ',', 'अवुरी', 'जब', 'हम', 'उनुका', 'से', 'चुपचाप', 'पूछनी', 'त', 'क', '...', 'बहुत', 'शांत', 'आवाज', ',', 'सबसे', 'संयमित', 'तरीका', 'से', ',', 'का', 'उ', 'कागज', 'से', 'करत', 'रहली', 'जइसे', 'ऊ', 'पकड़ल', 'गइल', 'होखे', 'चोरी', 'करत', ',', 'आ', 'काफी', 'खिसियाइल', 'लउकल—हमरा', 'से', 'पूछलस', 'कि', 'ओकरा', 'के', 'अतना', 'काहे', 'डेरावे', 'के', 'चाहीं', '!', 'तब', 'कहली', 'कि', 'कागज', 'से', 'हर', 'चीज', 'के', 'दाग', 'लागल', 'बा', ',', 'कि', 'उ', '...', 'हमरा', 'सब', 'कपड़ा', 'आ', 'जॉन', 'के', 'कपड़ा', 'पर', 'पीला', 'रंग', 'के', 'स्मूच', 'मिल', 'गइल', 'रहे', 'आ', 'ऊ', 'चाहत', 'रहली', 'हमनी', 'के', 'अउरी', 'सावधान', 'रहतीं', 'जा', '!', 'का', 'ई', 'बात', 'मासूम', 'ना', 'लागत', 'रहे', '?', 'बाकिर', 'हमरा', 'मालूम', 'बा', 'कि', 'ऊ', 'ओह', 'पैटर्न', 'के', 'अध्ययन', 'करत', 'रहली', ',', 'आ', 'हम', 'तय', 'कइले', 'बानी', 'कि', 'एकर', 'पता', 'हमरा', 'छोड़', 'के', 'केहू', 'के', 'ना', 'मिली', '!', 'जिनिगी', 'पहिले', 'से', 'बहुते', 'अधिका', 'रोमांचक', 'हो', 'गइल', 'बा', 'अब', '.', 'देखत', 'बाड़ऽ', 'हमरा', 'लगे', 'बा', 'कुछ', 'अउरी', 'उम्मीद', 'करे', 'के', ',', 'इंतजार', 'करे', 'के', ',', 'देखे', 'के।', 'हम', 'त', 'साँचहू', 'खात', 'बानी', 'बेहतर', ',', 'आ', 'हमरा', 'से', 'अधिका', 'चुप', 'बानी।', 'जॉन', 'हमरा', 'के', 'सुधारत', 'देख', 'के', 'एतना', 'खुश', 'बाड़े', '!', 'ऊ', 'तनी', 'हँसले', 'दोसरा', 'के', 'दिन', ',', 'आ', 'कहलस', 'कि', 'हम', 'अपना', 'वॉलपेपर', 'के', 'बावजूद', 'पनपत', 'लागत', 'बानी', '.', 'हम', 'हँसत-हँसत', 'बंद', 'कर', 'दिहनी।', 'हमरा', 'कवनो', 'इरादा', 'ना', 'रहे', 'कि', 'हम', 'उनुका', 'के', 'बताईं', 'कि', 'अयीसन', 'बा', 'वॉलपेपर', 'के', 'वजह', 'से—उ', 'हमरा', 'के', 'मजाक', 'उड़ावत', 'रहले।', 'हो', 'सकेला', 'कि', 'ऊ', 'चाहत', 'भी', 'होखे', 'हमरा', 'के', 'ले', 'जा।', 'जबले', 'पता', 'ना', 'चल', 'जाई', 'तबले', 'अब', 'ना', 'जाए', 'के', 'चाहत', 'बानी', '.', 'एक', 'हफ्ता', 'बा', 'अधिका', ',', 'आ', 'हमरा', 'लागत', 'बा', 'कि', 'ई', 'काफी', 'हो', 'जाई', '.', 'हम', 'कबो', 'एतना', 'बेहतर', 'महसूस', 'कर', 'रहल', 'बानी', '!', 'रात', 'में', 'ढेर', 'नींद', 'ना', 'आवेला', ',', 'काहे', 'कि', 'अइसन', 'बा', 'विकास', 'देखे', 'में', 'एतना', 'दिलचस्प', 'बा', ';', 'बाकिर', 'हम', 'त', 'बढ़िया', 'से', 'सुतत', 'बानी', 'दिन', 'के', 'समय', 'में।', 'दिन', 'में', 'ई', 'थकाऊ', 'आ', 'भ्रमित', 'करे', 'वाला', 'होला।', 'फंगस', 'पर', 'हमेशा', 'नया', 'अंकुर', 'होला', ',', 'आ', 'पीला', 'रंग', 'के', 'नया', 'शेड', 'सब', 'होला', 'एकरा', 'ऊपर', 'बा।', 'हम', 'ओह', 'लोग', 'के', 'गिनती', 'नइखीं', 'कर', 'सकत', ',', 'हालांकि', 'हम', 'कोशिश', 'कइले', 'बानी', 'कर्तव्यनिष्ठा', 'से', 'कइल', 'गइल', 'बा', '.', 'ई', 'सबसे', 'अजीब', 'पीला', 'बा', ',', 'ऊ', 'वॉलपेपर', '!', 'ई', 'हमरा', 'के', 'सब', 'के', 'बारे', 'में', 'सोचे', 'पर', 'मजबूर', 'कर', 'देला', 'जवन', 'पीयर', 'चीज', 'हम', 'कबो', 'देखले', 'रहनी-बटरकप', 'जइसन', 'सुन्दर', 'ना', ',', 'बाकिर', '...', 'पुरान', 'गंदा', ',', 'खराब', 'पीयर', 'चीजन', 'के।', 'बाकिर', 'ओह', 'कागज', 'में', 'कुछ', 'अउरी', 'बा-', 'गंध', '!', 'हम', 'एकरा', 'पर', 'नजर', 'गइनी', 'जवना', 'पल', 'हम', 'कमरा', 'में', 'आ', 'गईनी', ',', 'लेकिन', 'एतना', 'हवा', 'अवुरी', 'धूप', 'के', 'संगे', 'उ', 'रहे', 'बुरा', 'नईखे।', 'अब', 'हमनी', 'के', 'एक', 'हफ्ता', 'से', 'कोहरा', 'आ', 'बरखा', 'हो', 'गइल', 'बा', ',', 'आ', 'का', '...', 'खिड़की', 'खुलल', 'बा', 'भा', 'ना', ',', 'गंध', 'इहाँ', 'बा।', 'घर', 'भर', 'में', 'रेंगत', 'रहेला।', 'हमरा', 'ई', 'डाइनिंग-रूम', 'में', 'मंडरा', 'के', ',', 'पार्लर', 'में', 'स्कुलिंग', 'करत', ',', 'लुकाइल', 'मिलत', 'बा', 'हॉल', 'में', ',', 'सीढ़ी', 'पर', 'हमरा', 'खातिर', 'इंतजार', 'में', 'पड़ल।', 'हमरा', 'बाल', 'में', 'घुस', 'जाला।', 'सवारी', 'करे', 'गइला', 'पर', 'भी', 'अगर', 'अचानक', 'माथा', 'घुमा', 'के', 'आश्चर्यचकित', 'कर', 'देब', 'ऊ—उहाँ', 'ऊ', 'गंध', 'बा', '!', 'अइसन', 'अजीब', 'गंध', 'भी', ',', 'उहो', '!', 'एकरा', 'के', 'विश्लेषण', 'करे', 'के', 'कोशिश', 'में', 'घंटन', 'बिता', 'देले', 'बानी', ',', 'एकरा', 'से', 'कइसन', 'गंध', 'आवत', 'रहे', ',', 'एकरा', 'के', 'खोजे', 'खातिर।', 'ई', 'खराब', 'नइखे-पहिले', 'त', ',', 'आ', 'बहुते', 'कोमल', ',', 'बाकिर', 'बिल्कुल', 'सूक्ष्म', ',', 'अधिकतर', 'स्थायी', 'गंध', 'हमरा', 'कबो', 'मिलल', 'रहे।', 'एह', 'नम', 'मौसम', 'में', 'ई', 'भयानक', 'होला।', 'रात', 'में', 'जाग', 'के', 'पा', 'लेनी', 'हमरा', 'ऊपर', 'लटकल', 'बा।', 'पहिले', 'त', 'हमरा', 'के', 'परेशान', 'करत', 'रहे।', 'हम', 'गंभीरता', 'से', 'सोचनी', 'कि', 'जरा', 'दीं', '...', 'घर—गंध', 'तक', 'पहुँचे', 'खातिर।', 'बाकिर', 'अब', 'एकर', 'आदत', 'पड़', 'गइल', 'बा', '.', 'बस', 'एके', 'गो', 'बात', 'हम', 'सोच', 'सकत', 'बानी', 'कि', 'ई', 'अइसन', 'बा', 'कागज', 'के', 'रंग', 'ह', '!', 'एगो', 'पीयर', 'गंध', 'आवत', 'रहे।', 'एह', 'देवाल', 'पर', ',', 'नीचे', ',', 'मोपबोर्ड', 'के', 'लगे', 'एगो', 'बहुत', 'मजेदार', 'निशान', 'बा।', 'एगो', 'लकीर', 'जवन', 'कमरा', 'के', 'चारों', 'ओर', 'चलेला।', 'के', 'हर', 'टुकड़ा', 'के', 'पीछे', 'जाला', 'फर्नीचर', ',', 'बिस्तर', 'के', 'छोड़', 'के', ',', 'एगो', 'लमहर', ',', 'सीधा', ',', 'इहाँ', 'तक', 'कि', 'चिकना', ',', 'जइसे', 'कि', 'ओकरा', 'लगे', 'होखे', 'बार-बार', 'रगड़ल', 'गइल', 'बा', '.', 'सोचतानी', 'कि', 'ई', 'कइसे', 'भइल', 'आ', 'के', 'कइलसि', ',', 'आ', 'कवना', 'काम', 'खातिर', 'कइल', '.', 'गोल-गोल-गोल-गोल-गोल-गोल-चक्कर', 'आ', 'जाला', '!', 'सचमुच', 'आखिरकार', 'कुछ', 'पता', 'चल', 'गईल', 'बा।', 'रात', 'में', 'एतना', 'देखला', 'के', 'माध्यम', 'से', ',', 'जब', 'अतना', 'बदल', 'जाला', ',', 'त', 'आखिरकार', 'हमरा', 'लगे', 'बा', 'पता', 'चल', 'गईल।', 'सामने', 'के', 'पैटर्न', 'जरूर', 'हिलेला-आ', 'कवनो', 'आश्चर्य', 'नइखे', '!', 'पीछे', 'के', 'मेहरारू', 'ओकरा', 'के', 'हिला', 'देले', '!', 'कबो', 'हमरा', 'लागेला', 'कि', 'पीछे', 'बहुते', 'मेहरारू', 'बाड़ी', 'सँ', ',', 'त', 'कबो', 'खाली', 'एगो', ',', 'आ', 'ऊ', 'तेजी', 'से', 'इधर-उधर', 'रेंगत', 'रहेली', ',', 'आ', 'ओकर', 'रेंगत', 'सब', 'कुछ', 'हिला', 'देला', 'ऊपर।', 'फेर', 'बहुते', 'चमकदार', 'जगहन', 'पर', 'ऊ', 'स्थिर', 'रहेली', ',', 'आ', 'बहुते', 'छायादार', 'जगहन', 'पर', 'स्पॉट', 'ऊ', 'बस', 'सलाख', 'के', 'पकड़', 'के', 'जोर', 'से', 'हिला', 'देले।', 'आ', 'ऊ', 'हर', 'समय', 'ओह', 'माध्यम', 'से', 'चढ़े', 'के', 'कोशिश', 'में', 'रहेली', '.', 'बाकिर', 'केहू', 'चढ़', 'ना', 'पावल', 'ओह', 'पैटर्न', 'के', 'माध्यम', 'से—ई', 'अतना', 'गला', 'रेत', 'देला', ';', 'हमरा', 'लागता', 'कि', 'एही', 'से', 'एकरा', 'में', 'अयीसन', 'भईल', 'बा', 'कई', 'गो', 'सिर', 'के', 'बा।', 'ऊ', 'लोग', 'गुजर', 'जाला', ',', 'आ', 'फेर', 'पैटर्न', 'ओह', 'लोग', 'के', 'गला', 'रेत', 'के', 'मुड़', 'जाला', 'उल्टा-पुल्टा', ',', 'आ', 'आँख', 'गोर', 'कर', 'देला', '!', 'अगर', 'ऊ', 'माथा', 'ढंकल', 'जाव', 'भा', 'उतारल', 'जाव', 'त', 'आधा', 'अतना', 'खराब', 'ना', 'रहित', '.', 'हमरा', 'लागता', 'कि', 'उ', 'मेहरारू', 'दिन', 'में', 'निकल', 'जाले', '!', 'आ', 'हम', 'बताइब', 'कि', 'काहे—निजी', 'तौर', 'पर—हम', 'ओकरा', 'के', 'देखले', 'बानी', '!', 'हम', 'अपना', 'हर', 'खिड़की', 'से', 'ओकरा', 'के', 'देख', 'सकत', 'बानी', '!', 'ई', 'उहे', 'मेहरारू', 'हई', ',', 'हमरा', 'मालूम', 'बा', ',', 'काहे', 'कि', 'ऊ', 'हमेशा', 'रेंगत', 'रहेले', ',', 'आ', 'अधिकतर', 'मेहरारू', 'दिन', 'के', 'उजाला', 'से', 'रेंगत', 'ना।', 'हम', 'ओकरा', 'के', 'ओह', 'लमहर', 'छायादार', 'लेन', 'पर', 'देखत', 'बानी', ',', 'ऊपर', 'नीचे', 'रेंगत।', 'हम', 'ओकरा', 'के', 'अंदर', 'देखत', 'बानी', 'ऊ', 'करिया', 'अंगूर', 'के', 'आर्बर', ',', 'बगइचा', 'के', 'चारो', 'ओर', 'रेंगत।', 'हम', 'ओकरा', 'के', 'ओह', 'लमहर', 'सड़क', 'पर', 'पेड़न', 'के', 'नीचे', 'देखत', 'बानी', ',', 'रेंगत-रेंगत', ',', 'आ', 'जब', 'क', 'गाड़ी', 'आवेला', 'ऊ', 'ब्लैकबेरी', 'के', 'बेल', 'के', 'नीचे', 'लुका', 'जाले।', 'हम', 'ओकरा', 'के', 'तनी', 'दोष', 'नइखीं', 'देत', '.', 'पकड़ल', 'गइल', 'बहुते', 'अपमानजनक', 'होखी', 'दिन', 'के', 'उजाला', 'से', 'रेंगत', 'बा', '!', 'दिन', 'के', 'उजाला', 'से', 'रेंगला', 'पर', 'हमेशा', 'दरवाजा', 'पर', 'ताला', 'लगा', 'देनी।', 'हम', 'त', 'ना', 'कर', 'सकीं', 'रात', ',', 'काहे', 'कि', 'हमरा', 'मालूम', 'बा', 'कि', 'जॉन', 'के', 'एके', 'बेर', 'में', 'कुछ', 'शक', 'हो', 'जाई', '.', 'आ', 'जॉन', 'अब', 'अतना', 'क्वीयर', 'हो', 'गइल', 'बाड़न', ',', 'कि', 'हम', 'ओकरा', 'के', 'चिढ़ावल', 'नइखीं', 'चाहत', '.', 'हमार', 'कामना', 'बा', 'कि', 'उनुकर', '...', 'एगो', 'अउरी', 'कमरा', 'ले', 'लेत', '!', 'एकरा', 'अलावे', 'हम', 'नइखी', 'चाहत', 'कि', 'केहू', 'के', 'ऊ', 'मिल', 'जाव', 'रात', 'में', 'निकलल', 'मेहरारू', 'बाकिर', 'खुदे', '.', 'हम', 'अक्सर', 'सोचेनी', 'कि', 'का', 'हम', 'उनुका', 'के', 'एके', 'बेर', 'में', 'सभ', 'खिड़की', 'से', 'बाहर', 'देख', 'सकीले।', 'लेकिन', ',', 'जेतना', 'तेजी', 'से', 'मुड़', 'सकेनी', ',', 'एक', 'बेर', 'में', 'एक', 'से', 'बाहर', 'ही', 'देख', 'सकेनी।', 'आ', 'भले', 'हम', 'हमेशा', 'ओकरा', 'के', 'देखत', 'बानी', 'ऊ', 'हमरा', 'से', 'बेसी', 'तेजी', 'से', 'रेंग', 'सकेली', 'पलट', '!', 'हम', 'ओकरा', 'के', 'कबो-कबो', 'खुला', 'देश', 'में', 'दूर', ',', 'रेंगत', 'जइसे', '...', 'तेज', 'हवा', 'में', 'बादल', 'के', 'छाया', 'निहन', 'तेज।', 'काश', 'ऊ', 'टॉप', 'पैटर्न', 'अंडर', 'वन', 'से', 'उतरल', 'जा', 'सकत', 'रहे', '!', 'हमार', 'मतलब', 'बा', 'एकरा', 'के', 'आजमावे', 'खातिर', ',', 'धीरे-धीरे।', 'एगो', 'अउरी', 'मजेदार', 'बात', 'पता', 'चल', 'गईल', 'बा', ',', 'लेकिन', 'अबकी', 'बेर', 'ना', 'बताईब', '!', 'लोग', 'पर', 'जादा', 'भरोसा', 'कइला', 'से', 'कवनो', 'फायदा', 'ना', 'होखे', '.', 'अबहीं', 'दू', 'दिन', 'अउरी', 'बा', 'कि', 'ई', 'कागज', 'उतारल', 'जाव', 'आ', 'हमरा', 'विश्वास', 'बा', 'कि', 'जॉन', 'के', 'नोटिस', 'होखे', 'लागल', 'बा।', 'उनकर', 'आँख', 'में', 'जवन', 'लुक', 'बा', 'ऊ', 'हमरा', 'पसंद', 'नइखे।', 'आ', 'हम', 'सुनले', 'बानी', 'कि', 'ऊ', 'जेनी', 'से', 'हमरा', 'बारे', 'में', 'बहुते', 'प्रोफेशनल', 'सवाल', 'पूछत', 'रहले', '.', 'उनुका', 'लगे', 'बहुत', 'बढ़िया', 'रिपोर्ट', 'देवे', 'के', 'रहे।', 'कहली', 'कि', 'दिन', 'में', 'हम', 'बढ़िया', 'से', 'सुतल', 'रहनी।', 'जॉन', 'जानत', 'बा', 'कि', 'रात', 'में', 'हमरा', 'नींद', 'बहुत', 'बढ़िया', 'ना', 'आवेला', ',', 'सब', 'कुछ', 'खातिर', 'हम', 'एतना', 'चुप', 'बानी', '!', 'उ', 'हमरा', 'से', 'भी', 'तरह-तरह', 'के', 'सवाल', 'पूछले', ',', 'अवुरी', 'बहुत', 'होखे', 'के', 'नाटक', 'कईले', 'प्यार', 'करे', 'वाला', 'आ', 'दयालु।', 'जइसे', 'हम', 'ओकरा', 'माध्यम', 'से', 'ना', 'देख', 'पवनी', '!', 'तबो', 'हमरा', 'कवनो', 'आश्चर्य', 'नइखे', 'कि', 'ऊ', 'अतना', 'काम', 'करेला', ',', 'तीन', 'गो', 'ले', 'एह', 'कागज', 'के', 'नीचे', 'सुतल', 'महीना', 'भर', 'के', 'बा।', 'एकरा', 'में', 'खाली', 'हमरा', 'रुचि', 'बा', ',', 'लेकिन', 'हमरा', 'पूरा', 'भरोसा', 'बा', 'कि', 'जॉन', 'अवुरी', 'जेनी', 'गुप्त', 'रूप', 'से', 'बाड़े', 'एकरा', 'से', 'प्रभावित', 'हो', 'गइल', 'बा', '.', 'हुर्राह', 'के', 'बा', '!', 'ई', 'आखिरी', 'दिन', 'ह', ',', 'बाकिर', 'ई', 'काफी', 'बा।', 'जॉन', 'के', 'शहर', 'में', 'रहे', 'के', 'बा', 'रात', 'भर', ',', 'आ', 'आजु', 'साँझ', 'ले', 'बाहर', 'ना', 'निकली', '.', 'जेनी', 'हमरा', 'साथे', 'सुते', 'के', 'चाहत', 'रहली-', 'धूर्त', 'बात', '!', 'बाकिर', 'हम', 'कहनी', 'कि', 'हमरा', 'करे', 'के', 'चाहीं', 'निस्संदेह', 'अकेले', 'एक', 'रात', 'खातिर', 'बेहतर', 'आराम', 'करीं।', 'ऊ', 'चतुराई', 'रहे', ',', 'काहे', 'कि', 'साँचहू', 'हम', 'तनी', 'अकेले', 'ना', 'रहनी', '!', 'जइसहीं', 'भइल', 'चाँदनी', ',', 'आ', 'ऊ', 'बेचारा', 'रेंगत', 'आ', 'पैटर्न', 'के', 'हिलावे', 'लागल', ',', 'हम', 'उठ', 'के', 'ओकर', 'मदद', 'करे', 'खातिर', 'दौड़ल।', 'हम', 'खींचनी', 'आ', 'ऊ', 'हिल', 'गइल', ',', 'हम', 'हिल', 'गइनी', 'आ', 'ऊ', 'खींचली', ',', 'आ', 'सबेरे', 'से', 'पहिले', 'हम', 'ओह', 'कागज', 'के', 'गज', 'भर', 'के', 'छिलका', 'लेले', 'रहे।', 'एगो', 'पट्टी', 'लगभग', 'हमरा', 'माथा', 'के', 'बराबर', 'ऊँच', 'आ', 'आधा', 'कमरा', 'के', 'चारों', 'ओर।', 'आ', 'फेर', 'जब', 'घाम', 'आइल', 'आ', 'ऊ', 'भयानक', 'पैटर्न', 'हमरा', 'पर', 'हँसे', 'लागल', 'हम', 'घोषणा', 'कइनी', 'कि', 'आज', 'एकरा', 'के', 'खतम', 'कर', 'देब', '!', 'हम', 'काल्ह', 'दूर', 'चल', 'जाइब', ',', 'आ', 'उ', 'लोग', 'हमार', 'सब', 'फर्नीचर', 'फेरु', 'से', 'नीचे', 'ले', 'जा', 'रहल', 'बा', 'पहिले', 'जइसन', 'चीजन', 'के', 'छोड़', 'दिहल', 'जाव', '.', 'जेनी', 'अचरज', 'से', 'देवाल', 'के', 'ओर', 'देखली', ',', 'लेकिन', 'हम', 'खुशी', 'से', 'कहनी', 'कि', 'हम', '...', 'शातिर', 'बात', 'पर', 'शुद्ध', 'द्वेष', 'से', 'कइले', 'रहले', '.', 'ऊ', 'हँस', 'के', 'कहली', 'कि', 'खुदे', 'करे', 'में', 'कवनो', 'दिक्कत', 'ना', 'होई', 'बाकिर', 'हमरा', 'ना', 'करे', 'के', 'पड़ी', 'थक', 'जाला।', 'ओह', 'बेर', 'ऊ', 'अपना', 'के', 'कइसे', 'धोखा', 'देले', 'रहली', '!', 'बाकिर', 'हम', 'एहिजा', 'बानी', ',', 'आ', 'एह', 'कागज', 'के', 'हमरा', 'छोड़', 'के', 'कवनो', 'आदमी', 'ना', 'छूवेला-जीवित', 'ना', '!', 'ऊ', 'हमरा', 'के', 'कमरा', 'से', 'बाहर', 'निकाले', 'के', 'कोशिश', 'कइली-ई', 'त', 'बहुते', 'पेटेंट', 'रहे', '!', 'बाकिर', 'हम', 'कहनी', 'अब', 'अतना', 'शांत', 'आ', 'खाली', 'आ', 'साफ', 'रहे', 'कि', 'हमरा', 'विश्वास', 'हो', 'गइल', 'कि', 'हम', 'लेट', 'जाईं', 'फेरु', 'से', 'आ', 'सुत', 'के', 'जतना', 'हो', 'सकत', 'रहे', ';', 'आ', 'रात', 'के', 'खाना', 'खातिर', 'भी', 'हमरा', 'के', 'ना', 'जगावे', 'के—हम', 'करब', 'जब', 'नींद', 'खुलल', 'त', 'फोन', 'कइनी।', 'त', 'अब', 'ऊ', 'चल', 'गइल', 'बाड़ी', 'आ', 'नौकर-चाकर', 'चल', 'गइल', 'बाड़ी', 'सँ', 'आ', 'सामान', 'खतम', 'हो', 'गइल', 'बाड़ी', 'सँ', '.', 'आ', 'कुछुओ', 'नइखे', 'रहि', 'गइल', 'सिवाय', 'ऊ', 'बड़हन', 'बिछौना', 'के', 'कील', 'ठोकल', ',', 'जवना', 'के', '...', 'कैनवास', 'के', 'गद्दा', 'हमनी', 'के', 'ओकरा', 'पर', 'मिलल।', 'हम', 'आज', 'रात', 'नीचे', 'सुतब', ',', 'आ', 'काल्ह', 'नाव', 'के', 'घरे', 'ले', 'जाइब।', 'कमरा', 'में', 'काफी', 'मजा', 'आवेला', ',', 'अब', 'उ', 'फेर', 'से', 'नंगा', 'हो', 'गईल', 'बा।', 'कइसे', 'ऊ', 'लइका', 'इहाँ', 'के', 'बारे', 'में', 'फाड़', 'दिहले', '!', 'ई', 'बेडस्टेड', 'काफी', 'चीराइल', 'बा', '!', 'बाकिर', 'हमरा', 'काम', 'में', 'लागे', 'के', 'पड़ी', '.', 'दरवाजा', 'पर', 'ताला', 'लगा', 'के', 'चाभी', 'नीचे', 'सामने', 'के', 'रास्ता', 'में', 'फेंक', 'देले', 'बानी।', 'हम', 'बाहर', 'ना', 'जाए', 'के', 'चाहत', 'बानी', ',', 'आ', 'ना', 'चाहत', 'बानी', 'कि', 'केहू', 'भीतर', 'आ', 'जाव', ',', 'जबले', 'जॉन', 'आवेला।', 'हम', 'ओकरा', 'के', 'अचरज', 'में', 'डालल', 'चाहत', 'बानी', '.', 'इहाँ', 'ऊपर', 'एगो', 'रस्सी', 'बा', 'जवन', 'जेनी', 'के', 'भी', 'ना', 'मिलल।', 'अगर', 'ऊ', 'मेहरारू', '...', 'जरूर', 'निकल', 'जाला', ',', 'आ', 'दूर', 'होखे', 'के', 'कोशिश', 'करेला', ',', 'हम', 'ओकरा', 'के', 'बान्ह', 'सकेनी', '!', 'लेकिन', 'भूला', 'गईनी', 'कि', 'बिना', 'कवनो', 'खड़ा', 'होखे', 'के', 'हम', 'दूर', 'तक', 'ना', 'पहुंच', 'पवनी', '!', 'ई', 'बिछौना', 'ना', 'हिल', 'पाई', '!', 'हम', 'ओकरा', 'के', 'उठा', 'के', 'धकेले', 'के', 'कोशिश', 'कईनी', 'जब', 'तक', 'कि', 'हम', 'लंगड़ा', 'ना', 'हो', 'गईनी', ',', 'अवुरी', 'फेर', 'एतना', 'खिसिया', 'गईनी', 'कि', 'हम', 'एक', 'कोना', 'पर', 'तनी-मनी', 'टुकड़ा', 'काट', 'दिहलस—लेकिन', 'दाँत', 'में', 'दर्द', 'भइल।', 'फेर', 'हम', 'फर्श', 'पर', 'खड़ा', 'होके', 'जवन', 'कागज', 'तक', 'पहुँच', 'सकत', 'रहनी', ',', 'ओकरा', 'के', 'छील', 'देनी।', 'इ', 'भयानक', 'रूप', 'से', 'चिपक', 'जाला', 'आ', 'पैटर्न', 'बस', 'एकर', 'मजा', 'लेत', 'बा', '!', 'ओह', 'सब', 'के', 'गला', 'रेत', 'दिहल', 'गइल', 'सिर', 'आ', 'बल्ब', 'नियर', 'आँख', 'आ', 'लहरात', 'फंगस', 'के', 'बढ़ती', 'बस', 'साथ', 'चिल्लात', 'बा', 'मजाक', 'उड़ावल', 'जाला', '!', 'हम', 'एतना', 'खिसिया', 'रहल', 'बानी', 'कि', 'कुछ', 'हताश', 'कर', 'देनी।', 'से', 'कूद', 'के', 'बाहर', 'निकले', 'खातिर', 'खिड़की', 'सराहनीय', 'व्यायाम', 'होई', ',', 'लेकिन', 'सलाख', 'भी', 'बहुत', 'मजबूत', 'बा', 'कोशिश', 'करीं।', 'एकरा', 'अलावे', 'हम', 'त', 'ना', 'करित।', 'बेशक', 'ना।', 'हम', 'त', 'काफी', 'बढ़िया', 'से', 'जानत', 'बानी', 'कि', 'एक', 'कदम', 'जइसे', 'कि', 'अनुचित', 'बा', 'आ', 'गलतफहमी', 'हो', 'सकेला', '.', 'हमरा', 'खिड़की', 'से', 'बाहर', 'भी', 'देखल', 'पसंद', 'नइखे—ओह', 'में', 'से', 'एतना', 'बा', 'रेंगत', 'मेहरारू', 'लोग', ',', 'आ', 'ऊ', 'लोग', 'एतना', 'तेजी', 'से', 'रेंगत', 'रहेली।', 'सोचतानी', 'कि', 'का', 'ऊ', 'सब', 'ओह', 'वॉलपेपर', 'से', 'हमरा', 'जइसन', 'निकलल', 'बा', '?', 'बाकिर', 'हम', 'अब', 'अपना', 'बढ़िया', 'से', 'छिपल', 'रस्सी', 'से', 'सुरक्षित', 'रूप', 'से', 'जकड़ल', 'बानी—रउरा', 'हमरा', 'के', 'ना', 'मिलत', 'बा', 'सड़क', 'पर', 'निकलल', 'उहाँ', 'के', '!', 'हमरा', 'लागत', 'बा', 'कि', 'जब', 'पैटर्न', 'आई', 'त', 'ओकरा', 'पीछे', 'वापस', 'जाए', 'के', 'पड़ी', 'रात', 'के', ',', 'आ', 'ऊ', 'कठिन', 'बा', '!', 'एह', 'बढ़िया', 'कमरा', 'में', 'बाहर', 'होके', 'हमरा', 'जइसन', 'रेंग', 'के', 'घूमल', 'अतना', 'सुखद', 'बा', 'कृप्या', '!', 'बाहर', 'जाए', 'के', 'मन', 'नइखे', 'करत।', 'हम', 'ना', 'करब', ',', 'भले', 'जेनी', 'हमरा', 'से', 'कहे।', 'काहे', 'कि', 'बाहर', 'जमीन', 'पर', 'रेंग', 'के', 'रहे', 'के', 'पड़ेला', ',', 'आ', 'सब', 'कुछ', 'हरियर', 'बा', 'पीला', 'रंग', 'के', 'जगह', 'पर', 'बा।', 'बाकिर', 'एहिजा', 'हम', 'फर्श', 'पर', 'सुचारू', 'रूप', 'से', 'रेंग', 'सकेनी', ',', 'आ', 'हमार', 'कंधा', 'बस', 'फिट', 'हो', 'जाला', 'देवाल', 'के', 'चारों', 'ओर', 'ओह', 'लमहर', 'स्मूच', 'में', ',', 'एहसे', 'हम', 'आपन', 'रास्ता', 'ना', 'भटक', 'सकीं', '.', 'काहे', ',', 'दुआर', 'पर', 'जॉन', 'बाड़े', '!', 'कवनो', 'फायदा', 'नइखे', 'जवान', ',', 'खोलल', 'नइखे', 'जा', 'सकत', '!', 'कइसे', 'ऊ', 'फोन', 'आ', 'पाउंड', 'करेला', '!', 'अब', 'ऊ', 'कुल्हाड़ी', 'खातिर', 'रोवत', 'बा', '.', 'ऊ', 'सुन्दर', 'दुआर', 'के', 'तोड़', 'दिहल', 'लाज', 'के', 'बात', 'होई', '!', '“', 'जॉन', 'डियर', '!', '”', 'हम', 'सबसे', 'कोमल', 'आवाज', 'में', 'कहनी', ',', '“', 'चाबी', 'नीचे', 'बा', 'सामने', 'के', 'सीढ़ी', ',', 'केला', 'के', 'पत्ता', 'के', 'नीचे', '!', '”', 'जवन', 'कुछ', 'पल', 'खातिर', 'उनका', 'के', 'चुप', 'करा', 'दिहलस।', 'तब', 'ऊ', 'कहलस—बहुत', 'चुपचाप', 'साँचहू', ',', '“', 'दरवाजा', 'खोलऽ', ',', 'हमार', 'प्रियतम', '!', '”', '“', 'हम', 'ना', 'कर', 'सकीं', '”', 'हम', 'कहनी', ',', '“', 'चाभी', 'एगो', 'केला', 'के', 'नीचे', 'सामने', 'के', 'दरवाजा', 'के', 'लगे', 'नीचे', 'बा', 'पतई', '!', \"''\", 'आ', 'फेर', 'हम', 'फेर', 'से', 'कहनी', ',', 'कई', 'बेर', ',', 'बहुते', 'धीरे', 'से', 'आ', 'धीरे', 'से', ',', 'आ', '...', 'एतना', 'बेर', 'कहत', 'रहले', 'कि', 'ओकरा', 'जाके', 'देखे', 'के', 'पड़ल', ',', 'आ', 'ओकरा', 'मिल', 'गइल', ',', 'बेशक', ',', 'आ', 'भीतर', 'आ', 'गइलन', 'ऊ', 'दुआर', 'का', 'लगे', 'कुछ', 'देर', 'रुक', 'गइलन', '.', '“', 'का', 'बात', 'बा', '?', '”', 'ऊ', 'रोवत', 'रहले', '.', '“', 'भगवान', 'के', 'खातिर', ',', 'का', 'कर', 'रहल', 'बाड़ू', '!', '”', 'हम', 'त', 'ठीक', 'ओसही', 'रेंगत', 'रहनी', ',', 'लेकिन', 'हम', 'अपना', 'कंधा', 'के', 'ऊपर', 'से', 'उनुका', 'ओर', 'देखनी।', 'हम', 'कहनी', ',', '“', 'हम', 'आखिरकार', 'बाहर', 'निकल', 'गइल', 'बानी', ',', 'तोहरा', 'आ', 'जेन', 'के', 'बावजूद', '!', 'आ', 'हम', 'त', '...', 'अधिकतर', 'कागज', 'खींच', 'लिहलस', ',', 'त', 'हमरा', 'के', 'वापस', 'ना', 'रख', 'सकेनी', '!', '”', 'अब', 'ऊ', 'आदमी', 'बेहोश', 'काहे', 'होखे', 'के', 'चाहत', 'रहे', '?', 'बाकिर', 'ऊ', 'त', 'कइलन', ',', 'आ', 'ठीक', 'हमरा', 'पार', 'देवाल', 'के', 'किनारे', 'रास्ता', ',', 'जवना', 'से', 'हर', 'बेर', 'ओकरा', 'ऊपर', 'रेंगत', 'रहे', 'के', 'पड़े', '!']\n"
          ]
        }
      ]
    },
    {
      "cell_type": "markdown",
      "source": [
        "**Searching Text**"
      ],
      "metadata": {
        "id": "DNUFnU5ufXlM"
      }
    },
    {
      "cell_type": "code",
      "source": [
        "print(\"Concordance for 'पीला':\")\n",
        "text_nltk.concordance('पीला')"
      ],
      "metadata": {
        "colab": {
          "base_uri": "https://localhost:8080/"
        },
        "id": "D2iJqN0ie3Kr",
        "outputId": "78a1eb59-31a0-4db2-dee2-a1065c070ec8"
      },
      "execution_count": 10,
      "outputs": [
        {
          "output_type": "stream",
          "name": "stdout",
          "text": [
            "Concordance for 'पीला':\n",
            "Displaying 5 of 5 matches:\n",
            "                                     पीला वॉलपेपर के बा शार्लोट पर्किन्स गिलमैन क\n",
            " उ ... हमरा सब कपड़ा आ जॉन के कपड़ा पर पीला रंग के स्मूच मिल गइल रहे आ ऊ चाहत रहल\n",
            "ला। फंगस पर हमेशा नया अंकुर होला , आ पीला रंग के नया शेड सब होला एकरा ऊपर बा। \n",
            "तव्यनिष्ठा से कइल गइल बा . ई सबसे अजीब पीला बा , ऊ वॉलपेपर ! ई हमरा के सब के बार\n",
            " के रहे के पड़ेला , आ सब कुछ हरियर बा पीला रंग के जगह पर बा। बाकिर एहिजा हम फर्श\n"
          ]
        }
      ]
    },
    {
      "cell_type": "code",
      "source": [
        "print(\"Similar words to 'भइल':\")\n",
        "text_nltk.similar('भइल')"
      ],
      "metadata": {
        "colab": {
          "base_uri": "https://localhost:8080/"
        },
        "id": "EN-0-sxXhL0m",
        "outputId": "7a09d507-a7a2-47d6-d740-53284fdb142c"
      },
      "execution_count": 11,
      "outputs": [
        {
          "output_type": "stream",
          "name": "stdout",
          "text": [
            "Similar words to 'भइल':\n",
            "आ त कर गइल हम पर करब ऊ ई आपन अइसन अब उ करत थक लगभग उनकर चल बस वजन\n"
          ]
        }
      ]
    },
    {
      "cell_type": "code",
      "source": [
        "print(\"Common contexts for 'कइल':\")\n",
        "text_nltk.common_contexts(['कइल'])"
      ],
      "metadata": {
        "colab": {
          "base_uri": "https://localhost:8080/"
        },
        "id": "Shjte9edhh4g",
        "outputId": "55c45c8e-8a68-4cf9-e549-a9e334963a1d"
      },
      "execution_count": 12,
      "outputs": [
        {
          "output_type": "stream",
          "name": "stdout",
          "text": [
            "Common contexts for 'कइल':\n",
            "जवन_आ आ_गइल लमहर_अब पर_गइल हम_गइल आ_आ\n"
          ]
        }
      ]
    },
    {
      "cell_type": "markdown",
      "source": [
        "**Dispersion Plot**"
      ],
      "metadata": {
        "id": "lR7LCjI0iMhF"
      }
    },
    {
      "cell_type": "code",
      "source": [
        "text_nltk.dispersion_plot([\"बाकिर\", \"घर\", \"जॉन\", \"पीला\", \"कइल\", \"हमरा\", \"खुशी\", \"सड़क\", \"कवनो\", \"प्यार\"])"
      ],
      "metadata": {
        "colab": {
          "base_uri": "https://localhost:8080/",
          "height": 472
        },
        "id": "YBfCHuo9msP2",
        "outputId": "78b2bce0-f11c-4563-c10a-693b23eda842"
      },
      "execution_count": 13,
      "outputs": [
        {
          "output_type": "display_data",
          "data": {
            "text/plain": [
              "<Figure size 640x480 with 1 Axes>"
            ],
            "image/png": "[encoded data removed]"
          },
          "metadata": {}
        }
      ]
    },
    {
      "cell_type": "code",
      "source": [
        "print(\"\\nGenerated text:\")\n",
        "print(text_nltk.generate())"
      ],
      "metadata": {
        "id": "BJ0fsibTiR1a",
        "colab": {
          "base_uri": "https://localhost:8080/"
        },
        "outputId": "d8c6f370-8257-4c54-cb61-52ece6dca28c"
      },
      "execution_count": 14,
      "outputs": [
        {
          "output_type": "stream",
          "name": "stdout",
          "text": [
            "\n",
            "Generated text:\n",
            "पर , तोहरा आ जेन के बावजूद ! , प्लास्टर खुदे इहाँ-उहाँ खोदल गइल बा .\n",
            "के पड़ी थक जाला। ओह बेर ऊ अपना के तबाह कर देला . ऊ दुआर का लगे कुछ देर\n",
            "रुक गइलन . साथे-साथे ... नफरत के भाव बेहतर हो जाला। ई हमेशा एके आकार\n",
            "के होला , खाली बहुत संख्या में होला। आ ई अउरी जोड़ देला अद्भुत बात से\n",
            "भ्रम के स्थिति पैदा हो गईल। कमरा के कागज फिर से बनावल जाव , जबले जॉन\n",
            "आवेला। हम ओकरा के तनी दोष नइखीं देत . कहले कि सिर्फ एगो खिड़की बा\n",
            "अवुरी दु बिस्तर\n",
            "पर , तोहरा आ जेन के बावजूद ! , प्लास्टर खुदे इहाँ-उहाँ खोदल गइल बा .\n",
            "के पड़ी थक जाला। ओह बेर ऊ अपना के तबाह कर देला . ऊ दुआर का लगे कुछ देर\n",
            "रुक गइलन . साथे-साथे ... नफरत के भाव बेहतर हो जाला। ई हमेशा एके आकार\n",
            "के होला , खाली बहुत संख्या में होला। आ ई अउरी जोड़ देला अद्भुत बात से\n",
            "भ्रम के स्थिति पैदा हो गईल। कमरा के कागज फिर से बनावल जाव , जबले जॉन\n",
            "आवेला। हम ओकरा के तनी दोष नइखीं देत . कहले कि सिर्फ एगो खिड़की बा\n",
            "अवुरी दु बिस्तर\n"
          ]
        },
        {
          "output_type": "stream",
          "name": "stderr",
          "text": [
            "Building ngram index...\n"
          ]
        }
      ]
    },
    {
      "cell_type": "markdown",
      "source": [
        "**Counting Vocabulary**"
      ],
      "metadata": {
        "id": "nT72C3AHwRge"
      }
    },
    {
      "cell_type": "code",
      "source": [
        "print(\"Length of text:\", len(text))"
      ],
      "metadata": {
        "colab": {
          "base_uri": "https://localhost:8080/"
        },
        "id": "xHUAeei_wKY5",
        "outputId": "cb0abdf3-4ca8-4f3f-e0e1-48c4139f4651"
      },
      "execution_count": 15,
      "outputs": [
        {
          "output_type": "stream",
          "name": "stdout",
          "text": [
            "Length of text: 31769\n"
          ]
        }
      ]
    },
    {
      "cell_type": "code",
      "source": [
        "unique_words = sorted(set(text))\n",
        "print(\"Sorted unique words: \", unique_words)"
      ],
      "metadata": {
        "colab": {
          "base_uri": "https://localhost:8080/"
        },
        "id": "v-autdM6weK5",
        "outputId": "912c157c-4536-40eb-d6c5-5183a2af442f"
      },
      "execution_count": 16,
      "outputs": [
        {
          "output_type": "stream",
          "name": "stdout",
          "text": [
            "Sorted unique words:  ['\\n', ' ', '!', '\"', '(', ')', ',', '-', '.', ';', '?', 'ँ', 'ं', 'अ', 'आ', 'इ', 'ई', 'उ', 'ऊ', 'ए', 'ऑ', 'ओ', 'औ', 'क', 'ख', 'ग', 'घ', 'च', 'छ', 'ज', 'झ', 'ञ', 'ट', 'ठ', 'ड', 'ढ', 'ण', 'त', 'थ', 'द', 'ध', 'न', 'प', 'फ', 'ब', 'भ', 'म', 'य', 'र', 'ल', 'व', 'श', 'ष', 'स', 'ह', '़', 'ऽ', 'ा', 'ि', 'ी', 'ु', 'ू', 'ृ', 'ॅ', 'े', 'ै', 'ॉ', 'ो', 'ौ', '्', '।', '\\u200b', '—', '“', '”']\n"
          ]
        }
      ]
    },
    {
      "cell_type": "code",
      "source": [
        "print(\"Length of unique words:\", len(unique_words))"
      ],
      "metadata": {
        "colab": {
          "base_uri": "https://localhost:8080/"
        },
        "id": "UDx5CGHnxXAC",
        "outputId": "dc189dc7-c2c0-412e-df96-464fdcf4d55f"
      },
      "execution_count": 17,
      "outputs": [
        {
          "output_type": "stream",
          "name": "stdout",
          "text": [
            "Length of unique words: 75\n"
          ]
        }
      ]
    },
    {
      "cell_type": "code",
      "source": [
        "print(\"Length of tokens:\", len(tokens))"
      ],
      "metadata": {
        "colab": {
          "base_uri": "https://localhost:8080/"
        },
        "id": "ekqYnZEXxdpa",
        "outputId": "bf584a83-1f1c-4da8-8a66-6946ff60ac31"
      },
      "execution_count": 18,
      "outputs": [
        {
          "output_type": "stream",
          "name": "stdout",
          "text": [
            "Length of tokens: 7498\n"
          ]
        }
      ]
    },
    {
      "cell_type": "code",
      "source": [
        "unique_tokenwords = sorted(set(tokens))\n",
        "print(\"Sorted unique words:\", unique_tokenwords)"
      ],
      "metadata": {
        "colab": {
          "base_uri": "https://localhost:8080/"
        },
        "id": "zP2NXAnoyCFN",
        "outputId": "f6da1b28-5f07-4000-adae-54b96646d4c2"
      },
      "execution_count": 19,
      "outputs": [
        {
          "output_type": "stream",
          "name": "stdout",
          "text": [
            "Sorted unique words: ['!', \"''\", '(', ')', ',', '-जा', '.', '...', ';', '?', 'अंकुर', 'अंकुरित', 'अंगूठी', 'अंगूर', 'अंग्रेजी', 'अंडर', 'अंतहीन', 'अंतिम', 'अंदर', 'अंधविश्वास', 'अइनी', 'अइसन', 'अइसने', 'अइसे', 'अउरी', 'अकेले', 'अकेले।', 'अक्सर', 'अगर', 'अचरज', 'अचल', 'अचानक', 'अजीब', 'अतना', 'अतने', 'अत्याचारी', 'अद्भुत', 'अधिकतर', 'अधिका', 'अध्ययन', 'अनन्तता', 'अनसुना', 'अनिश्चित', 'अनुचित', 'अनुमान', 'अपना', 'अपमानजनक', 'अब', 'अबकी', 'अबहियों', 'अबहीं', 'अभद्रता', 'अभिव्यक्ति', 'अभी', 'अभी-अभी।', 'अयीसन', 'अरबेस्क', 'अलग', 'अलग-अलग', 'अलग-थलग', 'अलावे', 'अवसाद-', 'अवहेलना', 'अविश्वसनीय', 'अवुरी', 'अशुद्ध', 'असंख्य', 'असमंजस', 'असल', 'असली', 'असहमत', 'अस्थायी', 'आ', 'आँख', 'आँखि', 'आंकड़ा', 'आइल', 'आई', 'आईल', 'आकर्षक', 'आकार', 'आकृति', 'आखिर', 'आखिरकार', 'आखिरी', 'आज', 'आजमा', 'आजमावे', 'आजु', 'आज्ञा', 'आडंबर', 'आडंबरपूर्ण', 'आतंक', 'आतिशबाजी', 'आत्मसंयम', 'आत्महत्या—अपमानजनक', 'आत्मा', 'आदत', 'आदमी', 'आधा', 'आपके', 'आपन', 'आम', 'आराम', 'आरामदायक', 'आर्बर', 'आलसी', 'आवत', 'आवाज', 'आवे', 'आवेला', 'आवेला-हम', 'आवेला।', 'आवेले।', 'आशीर्वाद', 'आश्चर्य', 'आश्चर्यचकित', 'आसपास', 'आसानी', 'इ', 'इंतजार', 'इच्छा', 'इच्छाशक्ति', 'इधर-उधर', 'इयाद', 'इरादा', 'इस्तेमाल', 'इहाँ', 'इहाँ-उहाँ', 'इहे', 'ई', 'उ', 'उचित', 'उच्च', 'उच्चारण', 'उजाला', 'उठ', 'उठा', 'उठाईं', 'उठाईब', 'उठावत', 'उठावे', 'उड़ावत', 'उड़ावल', 'उड़ावेला', 'उतर', 'उतरल', 'उतारल', 'उतारल-कागज-हमार', 'उत्तेजक', 'उत्साह', 'उत्साहित', 'उत्साही', 'उदास', 'उधम', 'उनकर', 'उनका', 'उनुकर', 'उनुका', 'उप-पैटर्न', 'उपक्रम', 'उपेक्षा', 'उभरत', 'उमेद', 'उम्मीद', 'उल्टा', 'उल्टा-पुल्टा', 'उहाँ', 'उहे', 'उहो', 'ऊ', 'ऊँच', 'ऊंचाई', 'ऊपर', 'ऊपर।', 'ऊहाॅंं', 'ऊहाॅंं।', 'ऊहो', 'ऊ—उहाँ', 'ए', 'एक', 'एकर', 'एकरा', 'एके', 'एगो', 'एतना', 'एले', 'एल्म', 'एस्टेट', 'एह', 'एहमें', 'एहसास', 'एहसे', 'एहिजा', 'एही', 'ऑप्टिक', 'ऑयल', 'ओ', 'ओइसहीं', 'ओइसे-ओइसे', 'ओकर', 'ओकरा', 'ओतना', 'ओतने', 'ओर', 'ओर।', 'ओवर', 'ओसही', 'ओह', 'ओहमें', 'ओहिजा', 'औपनिवेशिक', 'क', 'कंधा', 'कंपनी', 'कइनी', 'कइनी।', 'कइल', 'कइलन', 'कइलसि', 'कइला', 'कइली-ई', 'कइले', 'कइसन', 'कइसे', 'कई', 'कईनी', 'कईल', 'कईले', 'कठिन', 'कठोर', 'कतना', 'कदम', 'कपड़ा', 'कपार।', 'कबूल', 'कबो', 'कबो-कबो', 'कब्जा', 'कम', 'कमजोरी', 'कमरा', 'कमी', 'कर', 'करत', 'करतानी', 'करत।', 'करब', 'करब।', 'करवा', 'करसु', 'करा', 'करावेला।', 'करित', 'करित।', 'करिया', 'करीं', 'करीं.', 'करीं।', 'करीत।', 'करीब', 'करीबी—उनका', 'करे', 'करेनी', 'करेला', 'कर्तव्य', 'कर्तव्यनिष्ठा', 'कलात्मक', 'कल्पना', 'कल्पनाशक्ति', 'कवक', 'कवना', 'कवनो', 'कष्ट', 'कह', 'कहत', 'कहतारे', 'कहनी', 'कहब', 'कहल', 'कहलस', 'कहलस—बहुत', 'कहली', 'कहले', 'कहले।', 'कहानी', 'कहेनी', 'कहेले', 'कहे।', 'का', 'कागज', 'कागज।', 'काट', 'कानून', 'कानूनी', 'काफी', 'काबू', 'काम', 'कामना', 'काम।', 'कारण', 'काल्ह', 'काल्हु', 'काश', 'काहे', 'काहे—निजी', 'कि', 'किनारे', 'किरण-ई', 'किराया', 'किराये', 'किस्मत', 'कि—रउरा', 'कील', 'कुछ', 'कुछुओ', 'कुर्सी', 'कुल्हाड़ी', 'कूद', 'कृतघ्न', 'कृप्या', 'के', 'केंद्र', 'केतना', 'केला', 'केस', 'केहू', 'के।', 'के—हम', 'कैनवास', 'कॉड-लिवर', 'कोठरी', 'कोण', 'कोना', 'कोमल', 'कोरा', 'कोशिश', 'कोहरा', 'क्रम', 'क्रमबद्ध', 'क्रॉस-लाइट', 'क्वीयर', 'क्षैतिज', 'खड़ा', 'खतम', 'खतरनाक', 'खतरा', 'खराब', 'खराब।', 'खरोंच', 'खाड़ी', 'खात', 'खाता', 'खातिर', 'खातिर।', 'खाती', 'खाना', 'खाली', 'खास', 'खिड़की', 'खिलौना-स्टोर', 'खिसिया', 'खिसियाइल', 'खींच', 'खींचनी', 'खींचली', 'खुद', 'खुदे', 'खुल', 'खुलल', 'खुला', 'खुश', 'खुशी', 'खेती', 'खेल', 'खैर', 'खोजे', 'खोदल', 'खोलल', 'खोलऽ', 'खौफनाक', 'ख्याल', 'गँवावे', 'गंदा', 'गंध', 'गंभीर', 'गंभीरता', 'गइनी', 'गइल', 'गइलन', 'गइला', 'गइले', 'गइल।', 'गईनी', 'गईल', 'गईल।', 'गज', 'गद्दा', 'गयिल', 'गर्दन', 'गर्मी', 'गर्व', 'गलतफहमी', 'गला', 'गले', 'गहिराह', 'गाँव', 'गाड़ी', 'गिनती', 'गिरा', 'गिरावट', 'गिलमैन', 'गुजर', 'गुजरल', 'गुप्त', 'गुलाब', 'गेट', 'गॉग', 'गो', 'गोधूलि', 'गोर', 'गोल-गोल-गोल-गोल-गोल-गोल-चक्कर', 'गोली', 'ग्रीनहाउस', 'घंटन', 'घंटा', 'घड़ी', 'घबराहट', 'घर', 'घरे', 'घर—गंध', 'घाट', 'घाम', 'घास', 'घिनौना', 'घुंडी', 'घुमा', 'घुमाव', 'घुमावदार', 'घुमावेला', 'घुस', 'घुसत', 'घूमत', 'घूमल', 'घोषणा', 'चचेरा', 'चढ़', 'चढ़े', 'चतुराई', 'चमकत', 'चमकदार', 'चमकेला', 'चमकेला।', 'चरम', 'चल', 'चलत', 'चलते।', 'चलीं', 'चलेला', 'चलेला।', 'चाँद', 'चाँदनी', 'चाबी', 'चाभी', 'चारो', 'चारों', 'चाहत', 'चाहत।', 'चाहब', 'चाहीं', 'चाहीं।', 'चाहे', 'चिंट्ज', 'चिंतित', 'चिकना', 'चिकित्सक', 'चिढ़ावत', 'चिढ़ावल', 'चिढ़ावे', 'चिन्हित', 'चिपक', 'चिपकल', 'चिल्लात', 'चीज', 'चीजन', 'चीज़', 'चीराइल', 'चुप', 'चुपचाप', 'चुपचाप।', 'चेतवले', 'चेहरा', 'चोरी', 'चौड़ाई', 'चौथा', 'छाया', 'छायादार', 'छिपल', 'छिलका', 'छील', 'छूवल', 'छूवेला-जीवित', 'छोट', 'छोट-छोट', 'छोटका', 'छोटकी', 'छोड़', 'छोड़ल', 'छोर', 'जइबऽ', 'जइसन', 'जइसहीं', 'जइसे', 'जइसे-जइसे', 'जइहें', 'जकड़ल', 'जगह', 'जगहन', 'जगावे', 'जज', 'जतना', 'जनता', 'जब', 'जबकि', 'जबले', 'जमाना', 'जमीन', 'जरा', 'जरूर', 'जरूरत', 'जरूरी', 'जल्दी', 'जवन', 'जवना', 'जवान', 'जहाँ', 'जा', 'जांच', 'जाइब', 'जाइब।', 'जाइल', 'जाई', 'जाईं', 'जाईं-लेकिन', 'जाईब', 'जाई।', 'जाए', 'जाके', 'जाग', 'जागल', 'जादा', 'जानत', 'जानल', 'जानी', 'जानी।', 'जाला', 'जाला।', 'जाली', 'जाले', 'जाले।', 'जाव', 'जास', 'जास।', 'जा।', 'जिंदा', 'जिक्र', 'जिनिगी', 'जिमनास्टिक', 'जीवन', 'जुड़', 'जुलाई', 'जूलिया', 'जे', 'जेतना', 'जेन', 'जेनी', 'जॉन', 'जोड़', 'जोड़न', 'जोर', 'जोर।', 'झपकत', 'झपकी', 'झाड़ी', 'झुक', 'झूठ', 'टकटकी', 'टिंट', 'टुकड़ा', 'टूट', 'टूटल', 'टॉडस्टूल', 'टॉनिक', 'टॉप', 'ट्रेमेंस', 'ठंडा', 'ठीक', 'ठोकल', 'डर', 'डाइनिंग-रूम', 'डाक्टर', 'डार्लिंग', 'डाल', 'डालत', 'डालल', 'डिजाइन', 'डियर', 'डुबकी', 'डूब', 'डेरावे', 'ड्राफ्ट', 'ढंकल', 'ढेर', 'त', 'तंत्रिका', 'तइयार।', 'तक', 'तकिया-केस', 'तनी', 'तनी-मनी', 'तब', 'तबले', 'तबहियो', 'तबाह', 'तबाही', 'तबो', 'तय', 'तरह', 'तरह-तरह', 'तरीका', 'तरीका।', 'तहरा', 'ताकत', 'तार', 'ताला', 'तिरछा', 'तीन', 'तीव्र', 'तुलनात्मक', 'तू', 'तेज', 'तेजी', 'तेज।', 'तोड़', 'तोहरा', 'तोहार', 'तौर', 'तौलत', 'थक', 'थका', 'थकाऊ', 'थप्पड़', 'दयालुता', 'दयालु।', 'दर', 'दरवाजा', 'दर्द', 'दाँत', 'दाग', 'दिआवत', 'दिआवे', 'दिक्कत', 'दिन', 'दिने', 'दिमाग', 'दिल', 'दिलचस्प', 'दिला', 'दिशा।', 'दिहनी।', 'दिहल', 'दिहलस', 'दिहलसि', 'दिहलस।', 'दिहलस—लेकिन', 'दिहले', 'दिहे', 'दीं', 'दीया', 'दीहें', 'दु', 'दुआर', 'दुख', 'दुनिया', 'दुर्लभ', 'दू', 'दूर', 'दूरी', 'दूर।', 'दूसरा', 'दृढ़ता', 'देख', 'देखत', 'देखतानी।', 'देखनी', 'देखनी।', 'देखल', 'देखलस', 'देखला', 'देखली', 'देखले', 'देखावत', 'देखीं।', 'देखे', 'देत', 'देनी।', 'देब', 'देबे', 'देर', 'देला', 'देला।', 'देले', 'देले।', 'देवाल', 'देवालन', 'देवे', 'देश', 'देसु', 'दोष', 'दोसर', 'दोसरा', 'दोस्त', 'दोस्तन', 'दोहराव', 'दोहरावल', 'दौड़त', 'दौड़ल।', 'दौरा', 'द्वारा', 'द्वेष', 'धकेले', 'धधकत', 'धन्य', 'धब्बा-धब्बा', 'धीरे', 'धीरे-धीरे', 'धीरे-धीरे।', 'धूप', 'धूर्त', 'धैर्य', 'धोखा', 'नंगा', 'नइखी', 'नइखीं', 'नइखे', 'नइखे-पहिले', 'नइखे-सिर्फ', 'नइखे।', 'नइखे—उहाँ', 'नइखे—ओह', 'नईखी', 'नईखे', 'नईखे।', 'नजर', 'नजारा', 'नफरत', 'नम', 'नया', 'नर्सरी', 'ना', 'नाटक', 'नाम', 'नाराज', 'नाव', 'ना।', 'निंदा', 'निकल', 'निकलल', 'निकली', 'निकले', 'निकाले', 'निजी', 'नियम', 'नियर', 'निराकार', 'निराशाजनक', 'निर्जीव', 'निशान', 'निस्संदेह', 'निहन', 'निहोरा', 'नींद', 'नीक', 'नीच', 'नीचे', 'नीरस', 'नेल्ली', 'नोटिस', 'नौकर-चाकर', 'प', 'पकड़', 'पकड़ल', 'पट्टा', 'पट्टी', 'पड़', 'पड़ल', 'पड़ल।', 'पड़ी', 'पड़े', 'पड़ेला', 'पढ़त', 'पढ़ले', 'पढ़ाई', 'पतई', 'पता', 'पति', 'पत्ता', 'पद', 'पनपत', 'पनपेला-प्रलाप', 'पर', 'परकार।', 'परफेक्ट', 'परवाह', 'परिकल्पना', 'परेशान', 'परेशानी', 'पर्किन्स', 'पर्चे', 'पर—हम', 'पल', 'पलट', 'पलटला', 'पवनी', 'पवले', 'पसंद', 'पहिलहीं', 'पहिला', 'पहिले', 'पहुँच', 'पहुँचे', 'पहुंच', 'पा', 'पाई', 'पाउंड', 'पाप', 'पार', 'पार्लर', 'पालन', 'पावल', 'पिछला', 'पियाज़ा', 'पीछा', 'पीछे', 'पीयर', 'पीला', 'पुरान', 'पूछत', 'पूछनी', 'पूछनी।', 'पूछब', 'पूछल', 'पूछलस', 'पूछले', 'पूरब', 'पूरा', 'पेटेंट', 'पेड़न', 'पेड़।', 'पेपर', 'पेशा।', 'पैच', 'पैटर्न', 'पैतृक', 'पैदा', 'प्यार', 'प्यारा', 'प्रतिबद्ध', 'प्रभाव', 'प्रभावशाली', 'प्रभावित', 'प्रयास', 'प्रवृत्ति', 'प्रवृत्ति-एक', 'प्रिय', 'प्रियतम', 'प्रेस', 'प्रोत्साहन-लेकिन', 'प्रोफेशनल', 'प्लास्टर', 'प्लेरूम', 'फंगस', 'फइलल', 'फर्नीचर', 'फर्श', 'फांसी', 'फाटल', 'फाड़', 'फायदा', 'फिट', 'फिर', 'फीका', 'फूल', 'फूलदार', 'फूलल', 'फूहड़पन', 'फेंक', 'फेर', 'फेरु', 'फेलिसिटी', 'फैंसी', 'फैंसी।', 'फॉलो', 'फॉलोइंग', 'फॉस्फाइट', 'फॉस्फेट', 'फोन', 'फ्रीज', 'बंद', 'बइठ', 'बइठल', 'बक्सा', 'बगइचा', 'बगल', 'बचपन', 'बचि', 'बच्चा', 'बच्ची', 'बटोर', 'बड़का', 'बड़हन', 'बड़हन-बड़हन', 'बढ़ती', 'बढ़िया', 'बताइब', 'बताईं', 'बताईब', 'बतावल', 'बतावे', 'बतियाईं', 'बदल', 'बदलत', 'बदलला', 'बदलाव', 'बन', 'बनवनी', 'बनवले', 'बना', 'बनावल', 'बनावे', 'बनावेला', 'बरकरार', 'बरखा', 'बराबर', 'बरामदा', 'बरिसन', 'बर्दाश्त', 'बलुक', 'बल्ब', 'बस', 'बसल', 'बहरी।', 'बहाना', 'बहिन', 'बहुत', 'बहुते', 'बा', 'बा-', 'बा-आ', 'बा.', 'बाकिर', 'बाकी', 'बाड़न', 'बाड़ऽ', 'बाड़ी', 'बाड़ी।', 'बाड़ू', 'बाड़े', 'बाड़े।', 'बात', 'बात।', 'बात—हम', 'बाद', 'बादल', 'बाधा', 'बानी', 'बानी-ई', 'बानी-जवन', 'बानी।', 'बानी—रउरा', 'बानी—हम', 'बान्ह', 'बार', 'बार-बार', 'बारी-बारी', 'बारे', 'बाल', 'बावजूद', 'बाहर', 'बाहरी', 'बा।', 'बिगाड़', 'बिछौना', 'बिछौना-खिड़की', 'बिता', 'बिना', 'बिया', 'बियाह', 'बिल्कुल', 'बिस्तर', 'बीच-बीच', 'बीमार', 'बुझाइल', 'बुद्धिमान', 'बुरा', 'बेचारा', 'बेडस्टेड', 'बेतुका', 'बेमतलब', 'बेमार', 'बेर', 'बेल', 'बेला', 'बेवजह', 'बेशक', 'बेसब्री', 'बेसी', 'बेहतर', 'बेहोश', 'बैक', 'बोझ', 'ब्यूरो', 'ब्लैकबेरी', 'भइल', 'भइल।', 'भईल', 'भगवान', 'भगावे', 'भटक', 'भड़काऊ', 'भड़कावत', 'भयंकर', 'भयानक', 'भयावह', 'भयावहता', 'भर', 'भरमार।', 'भरल', 'भरल।', 'भरोसा', 'भलाई', 'भले', 'भा', 'भाई', 'भाग', 'भागे', 'भाग्यशाली', 'भारी', 'भाव', 'भाव।', 'भी', 'भीतर', 'भी।', 'भूख', 'भूत-प्रेत', 'भूतिया', 'भूला', 'भेंट', 'भेज', 'भेद', 'भोजन', 'भ्रम', 'भ्रमित', 'मंजिल', 'मंडरा', 'मंद', 'मखमली', 'मचावे', 'मजबूत', 'मजबूर', 'मजा', 'मजाक', 'मजेदार', 'मत', 'मतलब', 'मदद', 'मद्धिम', 'मन', 'मना', 'मनोरंजन', 'मरम्मत', 'मरल', 'मरीज', 'महत्व', 'महसूस', 'महान', 'महारत', 'महीना', 'मांस-रंग', 'मांस।', 'माई', 'माथा', 'माध्यम', 'मानना', 'माने', 'मामला', 'मामिला', 'मार', 'मारत', 'माली', 'मालूम', 'मासूम', 'मिचौनी', 'मिल', 'मिलत', 'मिलल', 'मिलला', 'मिलल।', 'मिली', 'मिले', 'मिलेला', 'मिशेल', 'मील', 'मुड़', 'मुश्किल', 'मूर्ख', 'मूर्खतापूर्ण', 'में', 'में।', 'मेल', 'मेहरारू', 'मैदान', 'मैरी', 'मोपबोर्ड', 'मोमबत्ती', 'मोलभाव', 'मौसम', 'यातना', 'यात्रा', 'याद', 'युद्धन', 'यूहन्ना', 'रंग', 'रउआ', 'रउरा', 'रख', 'रखल', 'रखले', 'रगड़ल', 'रस्सी', 'रह', 'रहतीं', 'रहनी', 'रहनी-बटरकप', 'रहनी-बड़का', 'रहनी।', 'रहल', 'रहली', 'रहली-', 'रहले', 'रहले।', 'रहस्यमयी', 'रहि', 'रहित', 'रहीं', 'रहे', 'रहेनी', 'रहेनी।', 'रहेला', 'रहेला।', 'रहेली', 'रहेली।', 'रहेले', 'रहे।', 'राउर', 'राखल', 'राखीं', 'राखे', 'राखेनी', 'राखेला', 'रात', 'रास्ता', 'राह', 'राहत', 'रिपोर्ट', 'रिश्तेदारन', 'रुक', 'रुचि', 'रूप', 'रूपरेखा', 'रेंग', 'रेंगत', 'रेंगत-रेंगत', 'रेंगत।', 'रेंगला', 'रेत', 'रोज', 'रोमनस्क्यू', 'रोमांचक', 'रोमांटिक', 'रोवत', 'रोवेनी', 'रोवेनी।', 'रोशनी', 'रौंद', 'लंगड़ा', 'लंबा', 'लइकन', 'लइका', 'लइका-लइकी', 'लइकी', 'लउकत', 'लउकल—हमरा', 'लकीर', 'लगनी—हम', 'लगभग', 'लगा', 'लगातार', 'लगे', 'लटकल', 'लड़िकन', 'लमहर', 'लहरदार', 'लहरन', 'लहरात', 'लहरात।', 'लाइन', 'लागत', 'लागता', 'लागता।', 'लागल', 'लागी', 'लागे', 'लागेला', 'लाज', 'लाम।', 'लायक', 'लिख', 'लिखत', 'लिखनी', 'लिखल', 'लिखे', 'लिहलस', 'लिहले', 'लीं।', 'लुक', 'लुका', 'लुकाइल', 'लूरिड', 'ले', 'लेकिन', 'लेके', 'लेखन', 'लेट', 'लेटत', 'लेटवा', 'लेत', 'लेतीं', 'लेन', 'लेनी', 'लेब', 'लेबे', 'लेला', 'लेले', 'लेहनी', 'लोग', 'लोल', 'वंशानुगत', 'वइसे', 'वक्रता', 'वगैरह', 'वजन', 'वजह', 'वन', 'वश', 'वापस', 'वारिस', 'वाला', 'वास्तव', 'विकर्षण', 'विकास', 'विकिरण', 'विचार', 'विचित्रता', 'विद्रोही', 'विरोध', 'विरोधाभास', 'विशिष्टता', 'विश्लेषण', 'विश्वास', 'वेयर', 'वैज्ञानिक', 'वैद्य', 'वॉलपेपर', 'व्यवस्था', 'व्यायाम', 'व्यायामशाला', 'व्यावहारिक', 'शक', 'शब्द', 'शब्द।', 'शराब', 'शरीर', 'शहर', 'शांत', 'शातिर', 'शायद', 'शायदे', 'शायद—', 'शार्लोट', 'शिकार', 'शुद्ध', 'शुरुआत', 'शुरू', 'शेड', 'शेड्यूल', 'शैवाल।', 'शौक', 'सँ', 'संख्या', 'संगे', 'संतरा', 'संतुष्ट', 'संपत्ति', 'संबंधित', 'संयमित', 'संवेदनशील', 'सकत', 'सकतानी', 'सकारात्मक', 'सकीं', 'सकीलें', 'सकीले।', 'सके', 'सकेनी', 'सकेनी.', 'सकेनी।', 'सकेला', 'सकेली', 'सक्षम', 'सक्षम—सज-धज', 'सचमुच', 'सचहूँ', 'सचहूं', 'सड़क', 'सनक', 'सपना।', 'सप्ताह', 'सफेदी', 'सब', 'सबसे', 'सबेरे', 'सभ', 'समय', 'समरसाल्ट', 'समरूपता', 'समाज', 'समुद्री', 'सराहनीय', 'सलाख', 'सलाह', 'सल्फर', 'सवारी', 'सवाल', 'सस्ता', 'सह-वारिस', 'सहज', 'सही', 'साँचहू', 'साँझ', 'साथ', 'साथी', 'साथे', 'साथे-साथे', 'सादा', 'साफ', 'सामने', 'सामान', 'सामान्य', 'सारा', 'सावधान', 'सिद्धांत', 'सिर', 'सिर्फ', 'सिवाय', 'सीट', 'सीढ़ी', 'सीधा', 'सीधे', 'सीमा', 'सुंदर', 'सुखद', 'सुचारू', 'सुत', 'सुतत', 'सुतब', 'सुतल', 'सुतऽ', 'सुते', 'सुधारत', 'सुधारल', 'सुनले', 'सुनले।', 'सुन्दर', 'सुरक्षित', 'सुलग।', 'सूक्ष्म', 'सूरज', 'से', 'से—ई', 'से—उ', 'से—चाँद', 'सोख', 'सोच', 'सोचत', 'सोचतानी', 'सोचनी', 'सोचले', 'सोचीं', 'सोचीं—ई', 'सोचे', 'सोचेनी', 'सौदा', 'सौदा—एह', 'सौभाग्य', 'स्कुलिंग', 'स्कूल', 'स्कोर', 'स्तंभ', 'स्थायी', 'स्थिति', 'स्थिर', 'स्पॉट', 'स्मूच', 'स्वभाव', 'स्वादिष्ट', 'ह', 'हँस', 'हँसत-हँसत', 'हँसले', 'हँसे', 'हँसेला', 'हँसेले', 'हंस', 'हई', 'हईं', 'हई।', 'हउवें', 'हजारवाँ', 'हताश', 'हतोत्साहित', 'हफ्ता', 'हम', 'हमनी', 'हमरा', 'हमार', 'हमेशा', 'हर', 'हरियर', 'हलचल', 'हल्का', 'हवा', 'हवादार', 'हवें', 'हवेली', 'हाउसकीपर', 'हाथ', 'हालत', 'हालांकि', 'हावी', 'हासिल', 'हिल', 'हिलत-डुलत', 'हिलल', 'हिला', 'हिलावे', 'हिलेला-आ', 'हिसाब', 'हिस्टीरिकल', 'ही', 'ही।', 'हुर्राह', 'हेज', 'हेनरी', 'हॉप', 'हॉरर', 'हॉल', 'हो', 'होई', 'होके', 'होखत', 'होखब', 'होखबऽ.', 'होखल', 'होखी', 'होखीं', 'होखीहें', 'होखे', 'होखेनी।', 'होखेला', 'होखेला।', 'होखे।', 'होला', 'होला।', 'होला—हम', 'ह।', '\\u200b\\u200bबा', '\\u200b\\u200bहम', '—अंतहीन', '—अरे', '—आ', '—उनुका', '—ऊ', '—कम', '—काहे', '—लेकिन', '—शायद', '—हम', '“', '”']\n"
          ]
        }
      ]
    },
    {
      "cell_type": "code",
      "source": [
        "print(\"Length of unique token words:\", len(unique_tokenwords))"
      ],
      "metadata": {
        "colab": {
          "base_uri": "https://localhost:8080/"
        },
        "id": "RVANRLfIyN3r",
        "outputId": "05fbd9d5-179e-458c-b250-5177940a17ec"
      },
      "execution_count": 20,
      "outputs": [
        {
          "output_type": "stream",
          "name": "stdout",
          "text": [
            "Length of unique token words: 1510\n"
          ]
        }
      ]
    },
    {
      "cell_type": "code",
      "source": [
        "word_count = text.count('सूरज')\n",
        "print(\"Count of word 'सूरज':\", word_count)"
      ],
      "metadata": {
        "colab": {
          "base_uri": "https://localhost:8080/"
        },
        "id": "6wHc5K2T0i9J",
        "outputId": "8c0d5c51-1320-40c1-9c25-2d6049007ef8"
      },
      "execution_count": 21,
      "outputs": [
        {
          "output_type": "stream",
          "name": "stdout",
          "text": [
            "Count of word 'सूरज': 4\n"
          ]
        }
      ]
    },
    {
      "cell_type": "code",
      "source": [
        "word_count = text.count('देवाल')\n",
        "print(\"Count of word 'देवाल':\", word_count)"
      ],
      "metadata": {
        "colab": {
          "base_uri": "https://localhost:8080/"
        },
        "id": "cT_hoeuq1XdP",
        "outputId": "de3587cf-e1dc-4a48-bacc-5af9519317f6"
      },
      "execution_count": 22,
      "outputs": [
        {
          "output_type": "stream",
          "name": "stdout",
          "text": [
            "Count of word 'देवाल': 7\n"
          ]
        }
      ]
    },
    {
      "cell_type": "markdown",
      "source": [
        "**Lexical Diversity**"
      ],
      "metadata": {
        "id": "N4O-SB1h39TU"
      }
    },
    {
      "cell_type": "code",
      "source": [
        " # measure of the lexical richness of the text\n",
        "len(set(text)) / len(text)"
      ],
      "metadata": {
        "colab": {
          "base_uri": "https://localhost:8080/"
        },
        "id": "lobpgKlXyVT7",
        "outputId": "d6f3b95b-c6b9-47cf-be76-64e8b4a156e6"
      },
      "execution_count": 23,
      "outputs": [
        {
          "output_type": "execute_result",
          "data": {
            "text/plain": [
              "0.002360791967011867"
            ]
          },
          "metadata": {},
          "execution_count": 23
        }
      ]
    },
    {
      "cell_type": "code",
      "source": [
        " # measure of the lexical richness of the tokens\n",
        "len(set(tokens)) / len(tokens)"
      ],
      "metadata": {
        "colab": {
          "base_uri": "https://localhost:8080/"
        },
        "id": "Dz_-lk720F5u",
        "outputId": "864fa0e0-74af-4c9f-d468-5bdc3ea35453"
      },
      "execution_count": 24,
      "outputs": [
        {
          "output_type": "execute_result",
          "data": {
            "text/plain": [
              "0.20138703654307816"
            ]
          },
          "metadata": {},
          "execution_count": 24
        }
      ]
    },
    {
      "cell_type": "code",
      "source": [
        "text.count('आ')"
      ],
      "metadata": {
        "colab": {
          "base_uri": "https://localhost:8080/"
        },
        "id": "YuRMXd99BuVH",
        "outputId": "2b09c449-2881-4064-d346-cf69bf85d173"
      },
      "execution_count": 25,
      "outputs": [
        {
          "output_type": "execute_result",
          "data": {
            "text/plain": [
              "352"
            ]
          },
          "metadata": {},
          "execution_count": 25
        }
      ]
    },
    {
      "cell_type": "code",
      "source": [
        "percentage_a = 100 * text.count('आ') / len(text)\n",
        "print(\"Percentage of 'आ':\", percentage_a)"
      ],
      "metadata": {
        "colab": {
          "base_uri": "https://localhost:8080/"
        },
        "id": "pnbFMqGD1v7o",
        "outputId": "4e1719c7-b0ab-40ab-ddbd-6f02d4aa93e5"
      },
      "execution_count": 26,
      "outputs": [
        {
          "output_type": "stream",
          "name": "stdout",
          "text": [
            "Percentage of 'आ': 1.1079983631842363\n"
          ]
        }
      ]
    },
    {
      "cell_type": "code",
      "source": [
        "def lexical_diversity(tokens):\n",
        "  return len(set(tokens)) / len(tokens)\n",
        "\n",
        "def percentage(count, total):\n",
        "  return 100 * count / total"
      ],
      "metadata": {
        "id": "jTja6uKK3tuk"
      },
      "execution_count": 27,
      "outputs": []
    },
    {
      "cell_type": "code",
      "source": [
        "lexical_diversity(tokens)"
      ],
      "metadata": {
        "colab": {
          "base_uri": "https://localhost:8080/"
        },
        "id": "vHv9ZZhf2MTm",
        "outputId": "4e7875e9-0a64-483b-830e-f5b9aa8a5353"
      },
      "execution_count": 28,
      "outputs": [
        {
          "output_type": "execute_result",
          "data": {
            "text/plain": [
              "0.20138703654307816"
            ]
          },
          "metadata": {},
          "execution_count": 28
        }
      ]
    },
    {
      "cell_type": "code",
      "source": [
        "tokens.count('आ')"
      ],
      "metadata": {
        "colab": {
          "base_uri": "https://localhost:8080/"
        },
        "id": "niS24UVt4PC9",
        "outputId": "e2acf6df-8aab-4d93-ad7b-c8c87ae297d9"
      },
      "execution_count": 29,
      "outputs": [
        {
          "output_type": "execute_result",
          "data": {
            "text/plain": [
              "243"
            ]
          },
          "metadata": {},
          "execution_count": 29
        }
      ]
    },
    {
      "cell_type": "code",
      "source": [
        "len(tokens)"
      ],
      "metadata": {
        "colab": {
          "base_uri": "https://localhost:8080/"
        },
        "id": "5bDUxM6Z4xnQ",
        "outputId": "eec51462-3576-4ca4-8f28-8139b7e62003"
      },
      "execution_count": 30,
      "outputs": [
        {
          "output_type": "execute_result",
          "data": {
            "text/plain": [
              "7498"
            ]
          },
          "metadata": {},
          "execution_count": 30
        }
      ]
    },
    {
      "cell_type": "code",
      "source": [
        "print(\"Percentage of 'आ': \", percentage(243, 7498))"
      ],
      "metadata": {
        "colab": {
          "base_uri": "https://localhost:8080/"
        },
        "id": "P1BwKK2y2zsL",
        "outputId": "2a2e1df1-e499-4320-9ed2-e2f624ce92a0"
      },
      "execution_count": 31,
      "outputs": [
        {
          "output_type": "stream",
          "name": "stdout",
          "text": [
            "Percentage of 'आ':  3.2408642304614563\n"
          ]
        }
      ]
    },
    {
      "cell_type": "markdown",
      "source": [
        "**Texts as Lists of Words**"
      ],
      "metadata": {
        "id": "eWg9s5Ny7vkm"
      }
    },
    {
      "cell_type": "code",
      "source": [
        "dummy1 = ['ऊ', 'हमरा', 'से', 'अतना', 'प्यार', 'करेला', '.']\n",
        "dummy1"
      ],
      "metadata": {
        "colab": {
          "base_uri": "https://localhost:8080/"
        },
        "id": "PrbjHvMy4wIt",
        "outputId": "b9ac381b-3989-446b-b261-c01c6c3d8d16"
      },
      "execution_count": 32,
      "outputs": [
        {
          "output_type": "execute_result",
          "data": {
            "text/plain": [
              "['ऊ', 'हमरा', 'से', 'अतना', 'प्यार', 'करेला', '.']"
            ]
          },
          "metadata": {},
          "execution_count": 32
        }
      ]
    },
    {
      "cell_type": "code",
      "source": [
        "len(dummy1)"
      ],
      "metadata": {
        "colab": {
          "base_uri": "https://localhost:8080/"
        },
        "id": "iniMOJKP8DKc",
        "outputId": "1f7940a9-8455-4f88-d44d-bf6145324749"
      },
      "execution_count": 33,
      "outputs": [
        {
          "output_type": "execute_result",
          "data": {
            "text/plain": [
              "7"
            ]
          },
          "metadata": {},
          "execution_count": 33
        }
      ]
    },
    {
      "cell_type": "code",
      "source": [
        "lexical_diversity(dummy1)"
      ],
      "metadata": {
        "colab": {
          "base_uri": "https://localhost:8080/"
        },
        "id": "OLYDZAEq8eRz",
        "outputId": "3b1306a3-0441-4f96-e9e4-74c8f2ded80e"
      },
      "execution_count": 34,
      "outputs": [
        {
          "output_type": "execute_result",
          "data": {
            "text/plain": [
              "1.0"
            ]
          },
          "metadata": {},
          "execution_count": 34
        }
      ]
    },
    {
      "cell_type": "code",
      "source": [
        "dummy2 = ['काहे', 'कि', 'उ', 'चाँदनी', 'के', 'रोशनी', 'रहे']\n",
        "dummy2"
      ],
      "metadata": {
        "colab": {
          "base_uri": "https://localhost:8080/"
        },
        "id": "92ljs9yw8CbK",
        "outputId": "bbc6146f-5707-43a9-eb05-b4525704032f"
      },
      "execution_count": 35,
      "outputs": [
        {
          "output_type": "execute_result",
          "data": {
            "text/plain": [
              "['काहे', 'कि', 'उ', 'चाँदनी', 'के', 'रोशनी', 'रहे']"
            ]
          },
          "metadata": {},
          "execution_count": 35
        }
      ]
    },
    {
      "cell_type": "code",
      "source": [
        "print(dummy1 + dummy2)"
      ],
      "metadata": {
        "colab": {
          "base_uri": "https://localhost:8080/"
        },
        "id": "3zKjoIo88J0J",
        "outputId": "d8cb9eb8-b9f0-4bc3-a5c9-030f3297cba4"
      },
      "execution_count": 36,
      "outputs": [
        {
          "output_type": "stream",
          "name": "stdout",
          "text": [
            "['ऊ', 'हमरा', 'से', 'अतना', 'प्यार', 'करेला', '.', 'काहे', 'कि', 'उ', 'चाँदनी', 'के', 'रोशनी', 'रहे']\n"
          ]
        }
      ]
    },
    {
      "cell_type": "code",
      "source": [
        "dummy1.append(\"कि\")\n",
        "dummy1"
      ],
      "metadata": {
        "colab": {
          "base_uri": "https://localhost:8080/"
        },
        "id": "QonNIMc78OMr",
        "outputId": "50293931-15ef-4eb9-e6de-19d5b877352c"
      },
      "execution_count": 37,
      "outputs": [
        {
          "output_type": "execute_result",
          "data": {
            "text/plain": [
              "['ऊ', 'हमरा', 'से', 'अतना', 'प्यार', 'करेला', '.', 'कि']"
            ]
          },
          "metadata": {},
          "execution_count": 37
        }
      ]
    },
    {
      "cell_type": "markdown",
      "source": [
        "**Indexing Lists**"
      ],
      "metadata": {
        "id": "pYzwNsSX8sXY"
      }
    },
    {
      "cell_type": "code",
      "source": [
        "print(\"Token at index 23:\", tokens[23])\n",
        "print(\"Index of 'गर्मी':\", tokens.index('गर्मी'))"
      ],
      "metadata": {
        "colab": {
          "base_uri": "https://localhost:8080/"
        },
        "id": "7HIuHgK68Tj-",
        "outputId": "c5578d69-8bed-4f8f-92db-8a39f6a15373"
      },
      "execution_count": 38,
      "outputs": [
        {
          "output_type": "stream",
          "name": "stdout",
          "text": [
            "Token at index 23: गर्मी\n",
            "Index of 'गर्मी': 23\n"
          ]
        }
      ]
    },
    {
      "cell_type": "code",
      "source": [
        "print(\"Token at index 2399:\", tokens[2399])\n",
        "print(\"Index of 'उनुका':\", tokens.index('उनुका'))"
      ],
      "metadata": {
        "colab": {
          "base_uri": "https://localhost:8080/"
        },
        "id": "JIIHj2zJ9oNF",
        "outputId": "6db93cab-f53a-4fe9-dd35-002ffdba52cb"
      },
      "execution_count": 39,
      "outputs": [
        {
          "output_type": "stream",
          "name": "stdout",
          "text": [
            "Token at index 2399: उनुका\n",
            "Index of 'उनुका': 2399\n"
          ]
        }
      ]
    },
    {
      "cell_type": "code",
      "source": [
        "print(\"Slice from index 1225 to 1535:\", tokens[1225:1535])"
      ],
      "metadata": {
        "colab": {
          "base_uri": "https://localhost:8080/"
        },
        "id": "1_L5XCSY9z9I",
        "outputId": "5f5e55fe-d19d-41f0-f044-3cec260e22eb"
      },
      "execution_count": 40,
      "outputs": [
        {
          "output_type": "stream",
          "name": "stdout",
          "text": [
            "Slice from index 1225 to 1535: ['से', 'एगो', 'लिखे', 'से', 'नफरत', 'बा', 'शब्द।', 'हमनी', 'के', 'इहाँ', 'दु', 'सप्ताह', 'हो', 'गईल', 'बा', ',', 'अवुरी', 'हमरा', 'पहिले', 'लिखे', 'के', 'मन', 'ना', 'भईल', 'रहे', ',', 'ओह', 'पहिला', 'दिन', 'से', 'ही।', 'हम', 'अब', 'खिड़की', 'के', 'लगे', 'बइठल', 'बानी', ',', 'ऊपर', 'एह', 'अत्याचारी', 'नर्सरी', 'में', ',', 'आ', 'उहाँ', 'के', 'कमी', 'के', 'छोड़', 'के', 'हमरा', 'लेखन', 'में', 'जेतना', 'बाधा', 'आवे', 'वाला', 'कवनो', 'बात', 'नइखे', 'जोर।', 'जॉन', 'दिन', 'भर', 'दूर', 'रहेले', ',', 'अवुरी', 'कुछ', 'रात', 'तक', 'जब', 'उनुकर', 'मामला', 'गंभीर', 'होखेला।', 'हमरा', 'खुशी', 'बा', 'कि', 'हमार', 'केस', 'गंभीर', 'नइखे', '!', 'बाकिर', 'ई', 'घबराहट', 'के', 'परेशानी', 'भयानक', 'निराशाजनक', 'होला', '.', 'जॉन', 'के', 'पता', 'नइखे', 'कि', 'हम', 'सचमुच', 'केतना', 'कष्ट', 'उठावत', 'बानी।', 'ऊ', 'जानत', 'बा', 'कि', 'कवनो', 'नइखे', 'दुख', 'उठावे', 'के', 'कारण', 'बा', ',', 'आ', 'ऊ', 'ओकरा', 'के', 'संतुष्ट', 'कर', 'देला', '.', 'बेशक', 'ई', 'खाली', 'घबराहट', 'ह', '.', 'ई', 'हमरा', 'पर', 'जरूर', 'तौलत', '\\u200b\\u200bबा', 'एहसे', 'हमार', 'ना', 'करे', 'के', 'कवनो', 'भी', 'तरह', 'से', 'कर्तव्य', '!', 'हमार', 'मतलब', 'रहे', 'कि', 'जॉन', 'खातिर', 'अतना', 'मदद', 'करीं', ',', 'अतना', 'असली', 'आराम', 'आ', 'आराम', ',', 'आ', '...', 'इहाँ', 'हम', 'पहिलहीं', 'से', 'तुलनात्मक', 'बोझ', 'बानी', '!', 'केहू', 'के', 'विश्वास', 'ना', 'होई', 'कि', 'हम', 'जवन', 'कम', 'बानी', 'ओकरा', 'के', 'करे', 'के', 'कतना', 'प्रयास', 'बा', 'सक्षम—सज-धज', 'के', 'आ', 'मनोरंजन', 'करे', ',', 'आ', 'चीजन', 'के', 'क्रमबद्ध', 'करे', 'में।', 'ई', 'सौभाग्य', 'बा', 'कि', 'मैरी', 'बच्चा', 'के', 'साथे', 'एतना', 'बढ़िया', 'बाड़ी।', 'अइसन', 'प्यारा', 'लइका', '!', 'आ', 'तबहियो', 'हम', 'ओकरा', 'साथे', 'नइखीं', 'रह', 'सकत', ',', 'एहसे', 'हमरा', 'अतना', 'घबराहट', 'हो', 'जाला', '.', 'हमरा', 'लागता', 'कि', 'जॉन', 'अपना', 'जीवन', 'में', 'कबो', 'घबराहट', 'में', 'ना', 'रहले।', 'ऊ', 'हमरा', 'पर', 'अतना', 'के', 'बारे', 'में', 'हँसेला', 'ई', 'वॉलपेपर', 'बा', '!', 'पहिले', 'त', 'उनकर', 'मतलब', 'रहे', 'कि', 'कमरा', 'के', 'कागज', 'फिर', 'से', 'बनावल', 'जाव', ',', 'लेकिन', 'बाद', 'में', 'उ', 'कहले', 'कि', 'हम', 'एकरा', 'के', 'हमरा', 'पर', 'हावी', 'होखे', 'देत', 'रहे', ',', 'आ', 'कि', 'एकरा', 'से', 'खराब', 'कुछुओ', 'ना', 'रहे', 'एगो', 'अइसन', 'आडंबर', 'के', 'राह', 'देबे', 'से', 'बेसी', 'घबराहट', 'वाला', 'मरीज', '.']\n"
          ]
        }
      ]
    },
    {
      "cell_type": "code",
      "source": [
        "print(\"Slice from index 0 to 10:\", text[0:10])"
      ],
      "metadata": {
        "colab": {
          "base_uri": "https://localhost:8080/"
        },
        "id": "Ns5HDnos_Zz3",
        "outputId": "3d89922f-033f-4ee3-bd14-5cdf398a3980"
      },
      "execution_count": 41,
      "outputs": [
        {
          "output_type": "stream",
          "name": "stdout",
          "text": [
            "Slice from index 0 to 10: पीला वॉलपे\n"
          ]
        }
      ]
    },
    {
      "cell_type": "markdown",
      "source": [
        "**Strings**"
      ],
      "metadata": {
        "id": "Pypjis96-3Gt"
      }
    },
    {
      "cell_type": "code",
      "source": [
        "noun = 'हमनी'\n",
        "noun[0]"
      ],
      "metadata": {
        "id": "aHwzkz7Y_dVL",
        "colab": {
          "base_uri": "https://localhost:8080/",
          "height": 36
        },
        "outputId": "9261095d-9983-4a8e-bdf2-99751062c0a4"
      },
      "execution_count": 42,
      "outputs": [
        {
          "output_type": "execute_result",
          "data": {
            "text/plain": [
              "'ह'"
            ],
            "application/vnd.google.colaboratory.intrinsic+json": {
              "type": "string"
            }
          },
          "metadata": {},
          "execution_count": 42
        }
      ]
    },
    {
      "cell_type": "code",
      "source": [
        "noun[:3]"
      ],
      "metadata": {
        "colab": {
          "base_uri": "https://localhost:8080/",
          "height": 36
        },
        "id": "NOBHR4pX_KDd",
        "outputId": "dda208a1-e86a-4796-ad28-57886084d72e"
      },
      "execution_count": 43,
      "outputs": [
        {
          "output_type": "execute_result",
          "data": {
            "text/plain": [
              "'हमन'"
            ],
            "application/vnd.google.colaboratory.intrinsic+json": {
              "type": "string"
            }
          },
          "metadata": {},
          "execution_count": 43
        }
      ]
    },
    {
      "cell_type": "code",
      "source": [
        "noun * 3"
      ],
      "metadata": {
        "colab": {
          "base_uri": "https://localhost:8080/",
          "height": 36
        },
        "id": "Xu_CfilH_SdO",
        "outputId": "4067b5b9-5934-4d88-bc0f-ccc0c5f4ba3c"
      },
      "execution_count": 44,
      "outputs": [
        {
          "output_type": "execute_result",
          "data": {
            "text/plain": [
              "'हमनीहमनीहमनी'"
            ],
            "application/vnd.google.colaboratory.intrinsic+json": {
              "type": "string"
            }
          },
          "metadata": {},
          "execution_count": 44
        }
      ]
    },
    {
      "cell_type": "code",
      "source": [
        "noun + '!'"
      ],
      "metadata": {
        "colab": {
          "base_uri": "https://localhost:8080/",
          "height": 36
        },
        "id": "01d6cwS5_apD",
        "outputId": "a264492d-5064-47c2-ae9d-37e01e221f8e"
      },
      "execution_count": 45,
      "outputs": [
        {
          "output_type": "execute_result",
          "data": {
            "text/plain": [
              "'हमनी!'"
            ],
            "application/vnd.google.colaboratory.intrinsic+json": {
              "type": "string"
            }
          },
          "metadata": {},
          "execution_count": 45
        }
      ]
    },
    {
      "cell_type": "code",
      "source": [
        "' '.join(['इहाँ', 'हमनी'])"
      ],
      "metadata": {
        "colab": {
          "base_uri": "https://localhost:8080/",
          "height": 36
        },
        "id": "ecGl72VY_eJa",
        "outputId": "939e8ed6-f35c-482b-b649-6b4b7322e570"
      },
      "execution_count": 46,
      "outputs": [
        {
          "output_type": "execute_result",
          "data": {
            "text/plain": [
              "'इहाँ हमनी'"
            ],
            "application/vnd.google.colaboratory.intrinsic+json": {
              "type": "string"
            }
          },
          "metadata": {},
          "execution_count": 46
        }
      ]
    },
    {
      "cell_type": "code",
      "source": [
        "'इहाँ हमनी'.split()"
      ],
      "metadata": {
        "colab": {
          "base_uri": "https://localhost:8080/"
        },
        "id": "--iwtbqb_xZH",
        "outputId": "ee4b9219-8ef8-44d1-aeb0-5278c719569c"
      },
      "execution_count": 47,
      "outputs": [
        {
          "output_type": "execute_result",
          "data": {
            "text/plain": [
              "['इहाँ', 'हमनी']"
            ]
          },
          "metadata": {},
          "execution_count": 47
        }
      ]
    },
    {
      "cell_type": "markdown",
      "source": [
        "**Frequency Distribution**"
      ],
      "metadata": {
        "id": "UU9FElCZBKtg"
      }
    },
    {
      "cell_type": "code",
      "source": [
        "fdist1 = FreqDist(text)\n",
        "print(fdist1)"
      ],
      "metadata": {
        "colab": {
          "base_uri": "https://localhost:8080/"
        },
        "id": "qf4XNsm7_3HJ",
        "outputId": "ddbcfdd7-45f3-4197-b2e3-a5665d391b69"
      },
      "execution_count": 48,
      "outputs": [
        {
          "output_type": "stream",
          "name": "stdout",
          "text": [
            "<FreqDist with 75 samples and 31769 outcomes>\n"
          ]
        }
      ]
    },
    {
      "cell_type": "code",
      "source": [
        "fdist2 = FreqDist(tokens)\n",
        "print(fdist2)"
      ],
      "metadata": {
        "colab": {
          "base_uri": "https://localhost:8080/"
        },
        "id": "YwWsMWkxCb6y",
        "outputId": "4c92ce16-1d36-4b12-9bc6-9e9c1f046365"
      },
      "execution_count": 49,
      "outputs": [
        {
          "output_type": "stream",
          "name": "stdout",
          "text": [
            "<FreqDist with 1510 samples and 7498 outcomes>\n"
          ]
        }
      ]
    },
    {
      "cell_type": "code",
      "source": [
        "fdist2.most_common(50)"
      ],
      "metadata": {
        "colab": {
          "base_uri": "https://localhost:8080/"
        },
        "id": "0CBxdBfqCpHL",
        "outputId": "e41287b4-9f50-4f14-feb7-793407d07a2c"
      },
      "execution_count": 50,
      "outputs": [
        {
          "output_type": "execute_result",
          "data": {
            "text/plain": [
              "[('के', 471),\n",
              " (',', 378),\n",
              " ('आ', 243),\n",
              " ('हम', 179),\n",
              " ('बा', 175),\n",
              " ('हमरा', 170),\n",
              " ('से', 159),\n",
              " ('कि', 158),\n",
              " ('में', 128),\n",
              " ('ना', 102),\n",
              " ('.', 92),\n",
              " ('!', 89),\n",
              " ('ऊ', 87),\n",
              " ('ई', 62),\n",
              " ('पर', 60),\n",
              " ('त', 59),\n",
              " ('बानी', 57),\n",
              " ('एगो', 56),\n",
              " ('...', 50),\n",
              " ('बाकिर', 46),\n",
              " ('जॉन', 43),\n",
              " ('ओकरा', 43),\n",
              " ('खातिर', 40),\n",
              " ('रहे', 40),\n",
              " ('हो', 39),\n",
              " ('कवनो', 35),\n",
              " ('करे', 35),\n",
              " ('बा।', 34),\n",
              " ('गइल', 32),\n",
              " ('एकरा', 32),\n",
              " ('बात', 31),\n",
              " ('कर', 31),\n",
              " ('ओह', 31),\n",
              " ('जाला', 30),\n",
              " ('जवन', 28),\n",
              " ('नीचे', 28),\n",
              " ('होखे', 27),\n",
              " ('कुछ', 27),\n",
              " ('एतना', 27),\n",
              " ('नइखे', 27),\n",
              " ('लोग', 25),\n",
              " ('“', 24),\n",
              " ('काहे', 23),\n",
              " ('”', 23),\n",
              " ('बढ़िया', 23),\n",
              " ('कमरा', 23),\n",
              " ('जब', 23),\n",
              " ('बारे', 22),\n",
              " ('अतना', 22),\n",
              " ('पैटर्न', 22)]"
            ]
          },
          "metadata": {},
          "execution_count": 50
        }
      ]
    },
    {
      "cell_type": "code",
      "source": [
        "fdist2['बानी']"
      ],
      "metadata": {
        "colab": {
          "base_uri": "https://localhost:8080/"
        },
        "id": "IK1_rTuhC3wF",
        "outputId": "2309efef-a8b9-4a01-a61e-a887cc86b6cb"
      },
      "execution_count": 51,
      "outputs": [
        {
          "output_type": "execute_result",
          "data": {
            "text/plain": [
              "57"
            ]
          },
          "metadata": {},
          "execution_count": 51
        }
      ]
    },
    {
      "cell_type": "code",
      "source": [
        "fdist2['tokens'] += 1\n",
        "print(fdist2)"
      ],
      "metadata": {
        "colab": {
          "base_uri": "https://localhost:8080/"
        },
        "id": "ZIGReJegDEV5",
        "outputId": "7f302132-2b65-4ae7-d260-6d4aa34bde7f"
      },
      "execution_count": 52,
      "outputs": [
        {
          "output_type": "stream",
          "name": "stdout",
          "text": [
            "<FreqDist with 1511 samples and 7499 outcomes>\n"
          ]
        }
      ]
    },
    {
      "cell_type": "code",
      "source": [
        "fdist2.freq('बानी')"
      ],
      "metadata": {
        "colab": {
          "base_uri": "https://localhost:8080/"
        },
        "id": "q6K0-B9fDZ5a",
        "outputId": "24779e58-5f7c-4a04-f78e-5136e582c79d"
      },
      "execution_count": 53,
      "outputs": [
        {
          "output_type": "execute_result",
          "data": {
            "text/plain": [
              "0.007601013468462462"
            ]
          },
          "metadata": {},
          "execution_count": 53
        }
      ]
    },
    {
      "cell_type": "code",
      "source": [
        "fdist2.freq('हमरा')"
      ],
      "metadata": {
        "colab": {
          "base_uri": "https://localhost:8080/"
        },
        "id": "TdvgIRAwDy-b",
        "outputId": "37dd1541-c74a-4614-c753-e66164044738"
      },
      "execution_count": 54,
      "outputs": [
        {
          "output_type": "execute_result",
          "data": {
            "text/plain": [
              "0.022669689291905586"
            ]
          },
          "metadata": {},
          "execution_count": 54
        }
      ]
    },
    {
      "cell_type": "code",
      "source": [
        "fdist2.N()"
      ],
      "metadata": {
        "colab": {
          "base_uri": "https://localhost:8080/"
        },
        "id": "pvuAqIntD7ru",
        "outputId": "b925101d-3476-4a2f-f1b4-48cdbb23db0f"
      },
      "execution_count": 55,
      "outputs": [
        {
          "output_type": "execute_result",
          "data": {
            "text/plain": [
              "7499"
            ]
          },
          "metadata": {},
          "execution_count": 55
        }
      ]
    },
    {
      "cell_type": "code",
      "source": [
        "fdist2.max()"
      ],
      "metadata": {
        "colab": {
          "base_uri": "https://localhost:8080/",
          "height": 36
        },
        "id": "J-4OV2AvEHoG",
        "outputId": "56ef167a-8d5e-4324-c1b4-21e3ed0fca13"
      },
      "execution_count": 56,
      "outputs": [
        {
          "output_type": "execute_result",
          "data": {
            "text/plain": [
              "'के'"
            ],
            "application/vnd.google.colaboratory.intrinsic+json": {
              "type": "string"
            }
          },
          "metadata": {},
          "execution_count": 56
        }
      ]
    },
    {
      "cell_type": "code",
      "source": [
        "fdist2.tabulate(10)"
      ],
      "metadata": {
        "colab": {
          "base_uri": "https://localhost:8080/"
        },
        "id": "Y51cXQyVETJG",
        "outputId": "3d545c5b-ff1a-4628-f32f-7151f09dbb59"
      },
      "execution_count": 57,
      "outputs": [
        {
          "output_type": "stream",
          "name": "stdout",
          "text": [
            "  के    ,    आ   हम   बा हमरा   से   कि  में   ना \n",
            " 471  378  243  179  175  170  159  158  128  102 \n"
          ]
        }
      ]
    },
    {
      "cell_type": "code",
      "source": [
        "fdist2.plot(20)"
      ],
      "metadata": {
        "colab": {
          "base_uri": "https://localhost:8080/",
          "height": 486
        },
        "id": "UKDQe6UVEYLV",
        "outputId": "62088a51-c926-4795-c434-43a39e75cbb6"
      },
      "execution_count": 58,
      "outputs": [
        {
          "output_type": "execute_result",
          "data": {
            "text/plain": [
              "<Axes: xlabel='Samples', ylabel='Counts'>"
            ]
          },
          "metadata": {},
          "execution_count": 58
        },
        {
          "output_type": "display_data",
          "data": {
            "text/plain": [
              "<Figure size 640x480 with 1 Axes>"
            ],
            "image/png": "[encoded data removed]"
          },
          "metadata": {}
        }
      ]
    },
    {
      "cell_type": "code",
      "source": [
        "fdist2.plot(30, cumulative=True)"
      ],
      "metadata": {
        "colab": {
          "base_uri": "https://localhost:8080/",
          "height": 489
        },
        "id": "-6S1ZVVmEn8V",
        "outputId": "aca62f9b-20bd-48dd-814d-8ab4e9c7b6a8"
      },
      "execution_count": 59,
      "outputs": [
        {
          "output_type": "execute_result",
          "data": {
            "text/plain": [
              "<Axes: xlabel='Samples', ylabel='Cumulative Counts'>"
            ]
          },
          "metadata": {},
          "execution_count": 59
        },
        {
          "output_type": "display_data",
          "data": {
            "text/plain": [
              "<Figure size 640x480 with 1 Axes>"
            ],
            "image/png": "[encoded data removed]"
          },
          "metadata": {}
        }
      ]
    },
    {
      "cell_type": "code",
      "source": [
        "fdist2.hapaxes()"
      ],
      "metadata": {
        "colab": {
          "base_uri": "https://localhost:8080/"
        },
        "id": "amHbtAQeGeTq",
        "outputId": "cd379994-ecc4-4df5-d9e1-bb6d22be96ae"
      },
      "execution_count": 60,
      "outputs": [
        {
          "output_type": "execute_result",
          "data": {
            "text/plain": [
              "['शार्लोट',\n",
              " 'पर्किन्स',\n",
              " 'गिलमैन',\n",
              " 'लिखल',\n",
              " 'गर्मी',\n",
              " 'पैतृक',\n",
              " 'औपनिवेशिक',\n",
              " 'हवेली',\n",
              " 'वंशानुगत',\n",
              " 'संपत्ति',\n",
              " 'भूतिया',\n",
              " 'रोमांटिक',\n",
              " 'फेलिसिटी',\n",
              " 'ऊंचाई',\n",
              " 'जाईं-लेकिन',\n",
              " 'ऊहो',\n",
              " 'पूछल',\n",
              " 'किस्मत',\n",
              " 'गर्व',\n",
              " 'सस्ता',\n",
              " 'किराये',\n",
              " 'हँसेले',\n",
              " 'बियाह',\n",
              " 'चरम',\n",
              " 'व्यावहारिक',\n",
              " 'धैर्य',\n",
              " 'अंधविश्वास',\n",
              " 'तीव्र',\n",
              " 'भयावहता',\n",
              " 'खुल',\n",
              " 'उड़ावेला',\n",
              " 'आंकड़ा',\n",
              " 'राखल',\n",
              " 'हवें',\n",
              " 'शायद—',\n",
              " '(',\n",
              " 'जिंदा',\n",
              " 'आत्मा',\n",
              " 'मरल',\n",
              " ')',\n",
              " '—शायद',\n",
              " 'होखेनी।',\n",
              " 'खुद',\n",
              " 'पति',\n",
              " 'दोस्तन',\n",
              " 'दिआवे',\n",
              " 'रिश्तेदारन',\n",
              " 'वास्तव',\n",
              " 'अस्थायी',\n",
              " 'तंत्रिका',\n",
              " 'अवसाद-',\n",
              " 'हल्का',\n",
              " 'हिस्टीरिकल',\n",
              " 'प्रवृत्ति-एक',\n",
              " 'फॉस्फेट',\n",
              " 'फॉस्फाइट',\n",
              " 'बानी-जवन',\n",
              " 'मना',\n",
              " 'ओ',\n",
              " 'असहमत',\n",
              " 'मानना',\n",
              " 'उत्साह',\n",
              " 'बदलाव',\n",
              " 'करीत।',\n",
              " 'लिखनी',\n",
              " 'सौदा—एह',\n",
              " 'भेंट',\n",
              " 'समाज',\n",
              " 'प्रोत्साहन-लेकिन',\n",
              " 'कबूल',\n",
              " 'करतानी',\n",
              " 'एहसास',\n",
              " 'होखेला',\n",
              " 'खराब।',\n",
              " 'करब।',\n",
              " 'गाँव',\n",
              " 'मील',\n",
              " 'दूर।',\n",
              " 'अंग्रेजी',\n",
              " 'पढ़त',\n",
              " 'हेज',\n",
              " 'माली',\n",
              " 'छोट-छोट',\n",
              " 'स्वादिष्ट',\n",
              " 'रहनी-बड़का',\n",
              " 'बक्सा',\n",
              " 'सीट',\n",
              " 'ग्रीनहाउस',\n",
              " 'टूट',\n",
              " 'कानूनी',\n",
              " 'वारिस',\n",
              " 'सह-वारिस',\n",
              " 'वइसे',\n",
              " 'बरिसन',\n",
              " 'भूत-प्रेत',\n",
              " 'बिगाड़',\n",
              " 'नइखे—उहाँ',\n",
              " 'बात—हम',\n",
              " 'ड्राफ्ट',\n",
              " 'संवेदनशील',\n",
              " 'ए',\n",
              " 'उपेक्षा',\n",
              " 'काबू',\n",
              " 'उठाईं',\n",
              " '—कम',\n",
              " '—आ',\n",
              " 'बनावेला',\n",
              " 'पियाज़ा',\n",
              " 'चिंट्ज',\n",
              " 'फांसी',\n",
              " 'शिकार',\n",
              " 'सुनले।',\n",
              " 'खाती',\n",
              " 'शायदे',\n",
              " 'हलचल',\n",
              " 'देसु',\n",
              " 'शेड्यूल',\n",
              " 'पर्चे',\n",
              " 'लेला',\n",
              " 'महत्व',\n",
              " 'बेसब्री',\n",
              " 'कृतघ्न',\n",
              " 'खाता',\n",
              " 'आईल',\n",
              " 'सोख',\n",
              " 'सकेनी.',\n",
              " 'मंजिल',\n",
              " 'करीब',\n",
              " 'भरमार।',\n",
              " 'खेल',\n",
              " 'व्यायामशाला',\n",
              " 'जज',\n",
              " 'देवालन',\n",
              " 'अंगूठी',\n",
              " 'लड़िकन',\n",
              " 'स्कूल',\n",
              " 'उतारल-कागज-हमार',\n",
              " 'बड़हन-बड़हन',\n",
              " 'पैच',\n",
              " 'कलात्मक',\n",
              " 'आडंबरपूर्ण',\n",
              " 'पाप',\n",
              " 'फॉलोइंग',\n",
              " 'उच्चारण',\n",
              " 'चिढ़ावत',\n",
              " 'पढ़ाई',\n",
              " 'भड़कावत',\n",
              " 'अनिश्चित',\n",
              " 'दूरी',\n",
              " 'आत्महत्या—अपमानजनक',\n",
              " 'कोण',\n",
              " 'डूब',\n",
              " 'तबाह',\n",
              " 'अनसुना',\n",
              " 'विरोधाभास',\n",
              " 'भगावे',\n",
              " 'विद्रोही',\n",
              " 'धधकत',\n",
              " 'अशुद्ध',\n",
              " 'गइल।',\n",
              " 'लूरिड',\n",
              " 'संतरा',\n",
              " 'बीमार',\n",
              " 'सल्फर',\n",
              " 'टिंट',\n",
              " '—उनुका',\n",
              " 'शब्द।',\n",
              " 'सप्ताह',\n",
              " 'ही।',\n",
              " 'बइठल',\n",
              " 'अत्याचारी',\n",
              " 'बाधा',\n",
              " 'जोर।',\n",
              " 'मामला',\n",
              " 'निराशाजनक',\n",
              " 'उठावत',\n",
              " 'दुख',\n",
              " 'उठावे',\n",
              " 'संतुष्ट',\n",
              " 'तौलत',\n",
              " 'कर्तव्य',\n",
              " 'पहिलहीं',\n",
              " 'तुलनात्मक',\n",
              " 'बोझ',\n",
              " 'सक्षम—सज-धज',\n",
              " 'क्रमबद्ध',\n",
              " 'सौभाग्य',\n",
              " 'मैरी',\n",
              " 'तबहियो',\n",
              " 'जीवन',\n",
              " 'हँसेला',\n",
              " 'फिर',\n",
              " 'हावी',\n",
              " 'राह',\n",
              " 'मरीज',\n",
              " 'बदलला',\n",
              " 'किराया',\n",
              " 'करीं.',\n",
              " 'ऊहाॅंं।',\n",
              " 'लेके',\n",
              " 'हंस',\n",
              " 'चाहब',\n",
              " 'कोठरी',\n",
              " 'उतर',\n",
              " 'सफेदी',\n",
              " 'करवा',\n",
              " 'दीहें',\n",
              " 'मोलभाव',\n",
              " 'बिछौना-खिड़की',\n",
              " 'सही',\n",
              " 'आरामदायक',\n",
              " 'जरूरत',\n",
              " 'मूर्ख',\n",
              " 'होखब',\n",
              " 'सनक',\n",
              " 'रहस्यमयी',\n",
              " 'गहिराह',\n",
              " 'उधम',\n",
              " 'मचावे',\n",
              " 'झाड़ी',\n",
              " 'पेड़।',\n",
              " 'खाड़ी',\n",
              " 'नजारा',\n",
              " 'मिलेला',\n",
              " 'एस्टेट',\n",
              " 'संबंधित',\n",
              " 'घाट',\n",
              " 'दौड़त',\n",
              " 'घुसत',\n",
              " 'असंख्य',\n",
              " 'चेतवले',\n",
              " 'तरीका।',\n",
              " 'कल्पनाशक्ति',\n",
              " 'कहानी',\n",
              " 'बनावे',\n",
              " 'जाइल',\n",
              " 'उत्साहित',\n",
              " 'इच्छा',\n",
              " 'प्रवृत्ति',\n",
              " 'जांच',\n",
              " 'भाव।',\n",
              " 'लेतीं',\n",
              " 'प्रेस',\n",
              " 'सलाह',\n",
              " 'साथी',\n",
              " 'होखल',\n",
              " 'हतोत्साहित',\n",
              " 'काम।',\n",
              " 'जाईब',\n",
              " 'पूछब',\n",
              " 'डाल',\n",
              " 'तकिया-केस',\n",
              " 'आतिशबाजी',\n",
              " 'उत्तेजक',\n",
              " 'अइसे',\n",
              " 'प्रभाव',\n",
              " 'टूटल',\n",
              " 'गर्दन',\n",
              " 'लोल',\n",
              " 'उल्टा',\n",
              " 'टकटकी',\n",
              " 'अभद्रता',\n",
              " 'सकारात्मक',\n",
              " 'अनन्तता',\n",
              " 'बगल',\n",
              " 'झपकत',\n",
              " 'मेल',\n",
              " 'निर्जीव',\n",
              " 'बचपन',\n",
              " 'लेटत',\n",
              " 'आतंक',\n",
              " 'खिलौना-स्टोर',\n",
              " 'इयाद',\n",
              " 'ब्यूरो',\n",
              " 'घुंडी',\n",
              " 'दयालुता',\n",
              " 'आँखि',\n",
              " 'मिचौनी',\n",
              " 'बाकी',\n",
              " 'भयंकर',\n",
              " 'हॉप',\n",
              " 'असमंजस',\n",
              " 'प्लेरूम',\n",
              " 'तबाही',\n",
              " 'लइका-लइकी',\n",
              " 'धब्बा-धब्बा',\n",
              " 'चिपकल',\n",
              " 'करीबी—उनका',\n",
              " 'दृढ़ता',\n",
              " 'साथे-साथे',\n",
              " 'खरोंच',\n",
              " 'गॉग',\n",
              " 'प्लास्टर',\n",
              " 'इहाँ-उहाँ',\n",
              " 'खोदल',\n",
              " 'युद्धन',\n",
              " 'गुजरल',\n",
              " 'होखे।',\n",
              " 'नइखे-सिर्फ',\n",
              " 'आवेले।',\n",
              " 'लइकी',\n",
              " 'लिखत',\n",
              " 'मिले',\n",
              " 'उत्साही',\n",
              " 'हाउसकीपर',\n",
              " 'उमेद',\n",
              " 'पेशा।',\n",
              " 'बनवले',\n",
              " 'होखीहें',\n",
              " 'आज्ञा',\n",
              " 'घुमावदार',\n",
              " 'डालत',\n",
              " 'एल्म',\n",
              " 'मखमली',\n",
              " 'घास',\n",
              " 'भरल।',\n",
              " 'अलग',\n",
              " 'अतने',\n",
              " 'निराकार',\n",
              " 'उभरत',\n",
              " 'सुलग।',\n",
              " 'खैर',\n",
              " 'चौथा',\n",
              " 'जुलाई',\n",
              " 'जनता',\n",
              " 'बहरी।',\n",
              " 'कंपनी',\n",
              " 'माई',\n",
              " 'नेल्ली',\n",
              " 'दिहलसि',\n",
              " 'उठाईब',\n",
              " 'वेयर',\n",
              " 'मिशेल',\n",
              " 'भेज',\n",
              " 'दिहे',\n",
              " 'गिरावट',\n",
              " 'ओहिजा',\n",
              " 'जे',\n",
              " 'कहेले',\n",
              " 'उपक्रम',\n",
              " 'पलटला',\n",
              " 'लायक',\n",
              " 'भयावह',\n",
              " 'चिंतित',\n",
              " 'रोवेनी',\n",
              " 'रोवेनी।',\n",
              " 'बलुक',\n",
              " 'अकेले।',\n",
              " 'सौदा',\n",
              " 'रखल',\n",
              " 'द्वारा',\n",
              " 'मामिला',\n",
              " 'चलत',\n",
              " 'बरामदा',\n",
              " 'चलते।',\n",
              " 'बसल',\n",
              " 'अचल',\n",
              " 'बानी-ई',\n",
              " 'बा-आ',\n",
              " 'हिसाब',\n",
              " 'जिमनास्टिक',\n",
              " 'दिआवत',\n",
              " 'ओवर',\n",
              " 'छूवल',\n",
              " 'हजारवाँ',\n",
              " 'बेमतलब',\n",
              " 'अंतिम',\n",
              " 'बात।',\n",
              " 'सिद्धांत',\n",
              " 'चीज़',\n",
              " 'बारी-बारी',\n",
              " 'दोहराव',\n",
              " 'नियम',\n",
              " 'व्यवस्था',\n",
              " 'समरूपता',\n",
              " 'दोहरावल',\n",
              " 'फूलल',\n",
              " 'पनपेला-प्रलाप',\n",
              " 'ट्रेमेंस',\n",
              " 'नीच',\n",
              " 'रोमनस्क्यू',\n",
              " '-जा',\n",
              " 'फूहड़पन',\n",
              " 'अलग-थलग',\n",
              " 'स्तंभ',\n",
              " 'लहरात।',\n",
              " 'जुड़',\n",
              " 'रूपरेखा',\n",
              " 'ऑप्टिक',\n",
              " 'हॉरर',\n",
              " 'लहरन',\n",
              " 'पीछा',\n",
              " 'समुद्री',\n",
              " 'शैवाल।',\n",
              " 'चलेला',\n",
              " 'ओहमें',\n",
              " 'भेद',\n",
              " 'फ्रीज',\n",
              " 'जोड़',\n",
              " 'अद्भुत',\n",
              " 'भ्रम',\n",
              " 'पैदा',\n",
              " 'छोर',\n",
              " 'बरकरार',\n",
              " 'क्रॉस-लाइट',\n",
              " 'सीधे',\n",
              " '—अंतहीन',\n",
              " 'विचित्रता',\n",
              " 'केंद्र',\n",
              " 'आसपास',\n",
              " 'डुबकी',\n",
              " 'विकर्षण',\n",
              " 'झपकी',\n",
              " 'लेब',\n",
              " 'अनुमान',\n",
              " 'चाहत।',\n",
              " 'सक्षम',\n",
              " 'सोचीं—ई',\n",
              " '\\u200b\\u200bहम',\n",
              " 'आलसी',\n",
              " 'गँवावे',\n",
              " 'कॉड-लिवर',\n",
              " 'ऑयल',\n",
              " 'लेबे',\n",
              " 'सारा',\n",
              " 'एले',\n",
              " 'शराब',\n",
              " 'दुर्लभ',\n",
              " 'मांस।',\n",
              " 'पिछला',\n",
              " 'दिने',\n",
              " 'बतावे',\n",
              " 'दौरा',\n",
              " 'करसु',\n",
              " 'नाम',\n",
              " 'जानल',\n",
              " 'मिलला',\n",
              " 'ऊहाॅंं',\n",
              " 'बनवनी',\n",
              " 'सोचीं',\n",
              " 'लागता।',\n",
              " 'बटोर',\n",
              " 'गइले',\n",
              " 'पढ़ले',\n",
              " 'दिहलस',\n",
              " 'कपार।',\n",
              " 'हईं',\n",
              " 'ख्याल',\n",
              " 'सके',\n",
              " 'इच्छाशक्ति',\n",
              " 'भागे',\n",
              " 'जरूरी',\n",
              " 'कब्जा',\n",
              " 'लीं।',\n",
              " 'करित',\n",
              " 'बचि',\n",
              " 'गयिल',\n",
              " 'प्रभावशाली',\n",
              " 'दुनिया',\n",
              " 'सोचले',\n",
              " 'आखिर',\n",
              " 'आसानी',\n",
              " 'सकतानी',\n",
              " 'देखतानी।',\n",
              " 'जिक्र',\n",
              " 'राखीं',\n",
              " 'रोज',\n",
              " 'आकार',\n",
              " 'संख्या',\n",
              " 'झुक',\n",
              " 'बिया',\n",
              " 'परकार।',\n",
              " 'नीक',\n",
              " 'सोचत',\n",
              " 'बानी—हम',\n",
              " 'लगनी—हम',\n",
              " 'जास',\n",
              " 'कईल',\n",
              " 'मुश्किल',\n",
              " 'काल्हु',\n",
              " 'आजमा',\n",
              " 'चमकेला।',\n",
              " 'लहरदार',\n",
              " 'खौफनाक',\n",
              " 'हिलल',\n",
              " 'अइनी',\n",
              " 'छोटकी',\n",
              " 'बच्ची',\n",
              " 'कहले।',\n",
              " 'कि—रउरा',\n",
              " 'ठंडा',\n",
              " 'जाई।',\n",
              " 'जास।',\n",
              " 'डार्लिंग',\n",
              " 'पट्टा',\n",
              " 'छोड़ल',\n",
              " 'होखत',\n",
              " 'नईखी',\n",
              " 'अभी-अभी।',\n",
              " 'खतरा',\n",
              " 'चाहे',\n",
              " 'डाक्टर',\n",
              " 'मांस-रंग',\n",
              " 'बा.',\n",
              " 'वजन',\n",
              " 'ओतना',\n",
              " 'होखबऽ.',\n",
              " 'छोटका',\n",
              " 'दिल',\n",
              " 'आशीर्वाद',\n",
              " 'गले',\n",
              " 'चलीं',\n",
              " 'चमकत',\n",
              " 'घड़ी',\n",
              " 'सुधारल',\n",
              " 'सुतऽ',\n",
              " 'बतियाईं',\n",
              " 'जइबऽ',\n",
              " 'उदास',\n",
              " 'पूछनी।',\n",
              " 'जबकि',\n",
              " 'तइयार।',\n",
              " 'शरीर',\n",
              " 'कठोर',\n",
              " 'निंदा',\n",
              " 'देखलस',\n",
              " 'शब्द',\n",
              " 'कह',\n",
              " 'पवले',\n",
              " 'निहोरा',\n",
              " 'खतरनाक',\n",
              " 'आकर्षक',\n",
              " 'राउर',\n",
              " 'स्वभाव',\n",
              " 'झूठ',\n",
              " 'फैंसी।',\n",
              " 'वैद्य',\n",
              " 'स्कोर',\n",
              " 'लाम।',\n",
              " 'हिलत-डुलत',\n",
              " 'कानून',\n",
              " 'अवहेलना',\n",
              " 'सामान्य',\n",
              " 'घिनौना',\n",
              " 'अविश्वसनीय',\n",
              " 'यातना',\n",
              " 'महारत',\n",
              " 'हासिल',\n",
              " 'ओइसहीं',\n",
              " 'फॉलो',\n",
              " 'बैक',\n",
              " 'समरसाल्ट',\n",
              " 'घुमावेला',\n",
              " 'थप्पड़',\n",
              " 'मारत',\n",
              " 'चेहरा',\n",
              " 'गिरा',\n",
              " 'रौंद',\n",
              " 'सपना।',\n",
              " 'फूलदार',\n",
              " 'अरबेस्क',\n",
              " 'कवक',\n",
              " 'याद',\n",
              " 'दिला',\n",
              " 'जोड़न',\n",
              " 'कल्पना',\n",
              " 'तार',\n",
              " 'घुमाव',\n",
              " '—काहे',\n",
              " 'अइसने',\n",
              " 'पेपर',\n",
              " 'चिन्हित',\n",
              " 'विशिष्टता',\n",
              " 'जइसे-जइसे',\n",
              " 'ओइसे-ओइसे',\n",
              " 'पूरब',\n",
              " 'गोली',\n",
              " 'मार',\n",
              " 'आवेला-हम',\n",
              " 'राखेनी',\n",
              " 'किरण-ई',\n",
              " 'रहेनी।',\n",
              " 'से—चाँद',\n",
              " 'होला—हम',\n",
              " 'ह।',\n",
              " 'गोधूलि',\n",
              " 'बेला',\n",
              " 'मोमबत्ती',\n",
              " 'दीया',\n",
              " 'बुझाइल',\n",
              " 'देखावत',\n",
              " '—ऊ',\n",
              " 'हई।',\n",
              " 'वश',\n",
              " 'जाली',\n",
              " 'चुपचाप।',\n",
              " 'राखेला',\n",
              " 'अबहियों',\n",
              " 'दर',\n",
              " 'करावेला।',\n",
              " 'शुरुआत',\n",
              " 'लेटवा',\n",
              " 'भोजन',\n",
              " 'बतावल',\n",
              " 'खेती',\n",
              " 'कहेनी',\n",
              " '—अरे',\n",
              " 'असल',\n",
              " 'देखीं।',\n",
              " 'बीच-बीच',\n",
              " 'वैज्ञानिक',\n",
              " 'परिकल्पना',\n",
              " 'बहाना',\n",
              " 'बना',\n",
              " 'लेहनी',\n",
              " 'पूछनी',\n",
              " 'संयमित',\n",
              " 'चोरी',\n",
              " 'लउकल—हमरा',\n",
              " 'पूछलस',\n",
              " 'डेरावे',\n",
              " 'दाग',\n",
              " 'अध्ययन',\n",
              " 'मिली',\n",
              " 'रोमांचक',\n",
              " 'सुधारत',\n",
              " 'हँसले',\n",
              " 'पनपत',\n",
              " 'हँसत-हँसत',\n",
              " 'दिहनी।',\n",
              " 'इरादा',\n",
              " 'बताईं',\n",
              " 'वजह',\n",
              " 'से—उ',\n",
              " 'उड़ावत',\n",
              " 'तबले',\n",
              " 'विकास',\n",
              " 'दिलचस्प',\n",
              " 'सुतत',\n",
              " 'थकाऊ',\n",
              " 'अंकुर',\n",
              " 'गिनती',\n",
              " 'कर्तव्यनिष्ठा',\n",
              " 'रहनी-बटरकप',\n",
              " 'गंदा',\n",
              " 'बा-',\n",
              " 'नईखे।',\n",
              " 'कोहरा',\n",
              " 'बरखा',\n",
              " 'डाइनिंग-रूम',\n",
              " 'मंडरा',\n",
              " 'पार्लर',\n",
              " 'स्कुलिंग',\n",
              " 'लुकाइल',\n",
              " 'पड़ल।',\n",
              " 'बाल',\n",
              " 'सवारी',\n",
              " 'गइला',\n",
              " 'घुमा',\n",
              " 'आश्चर्यचकित',\n",
              " 'ऊ—उहाँ',\n",
              " 'विश्लेषण',\n",
              " 'बिता',\n",
              " 'कइसन',\n",
              " 'खोजे',\n",
              " 'नइखे-पहिले',\n",
              " 'सूक्ष्म',\n",
              " 'स्थायी',\n",
              " 'नम',\n",
              " 'मौसम',\n",
              " 'जाग',\n",
              " 'लेनी',\n",
              " 'लटकल',\n",
              " 'परेशान',\n",
              " 'सोचनी',\n",
              " 'जरा',\n",
              " 'घर—गंध',\n",
              " 'पहुँचे',\n",
              " 'सोच',\n",
              " 'मोपबोर्ड',\n",
              " 'निशान',\n",
              " 'लकीर',\n",
              " 'चलेला।',\n",
              " 'चिकना',\n",
              " 'रगड़ल',\n",
              " 'कइलसि',\n",
              " 'कवना',\n",
              " 'गोल-गोल-गोल-गोल-गोल-गोल-चक्कर',\n",
              " 'देखला',\n",
              " 'हिलेला-आ',\n",
              " 'इधर-उधर',\n",
              " 'ऊपर।',\n",
              " 'चमकदार',\n",
              " 'स्पॉट',\n",
              " 'जोर',\n",
              " 'देले।',\n",
              " 'चढ़े',\n",
              " 'चढ़',\n",
              " 'पावल',\n",
              " 'से—ई',\n",
              " 'गुजर',\n",
              " 'उल्टा-पुल्टा',\n",
              " 'गोर',\n",
              " 'जाले',\n",
              " 'बताइब',\n",
              " 'काहे—निजी',\n",
              " 'पर—हम',\n",
              " 'करिया',\n",
              " 'पेड़न',\n",
              " 'रेंगत-रेंगत',\n",
              " 'गाड़ी',\n",
              " 'ब्लैकबेरी',\n",
              " 'बेल',\n",
              " 'लुका',\n",
              " 'जाले।',\n",
              " 'दोष',\n",
              " 'अपमानजनक',\n",
              " 'रेंगला',\n",
              " 'शक',\n",
              " 'चिढ़ावल',\n",
              " 'अक्सर',\n",
              " 'सोचेनी',\n",
              " 'सभ',\n",
              " 'सकेली',\n",
              " 'पलट',\n",
              " 'खुला',\n",
              " 'तेज',\n",
              " 'बादल',\n",
              " 'छाया',\n",
              " 'तेज।',\n",
              " 'टॉप',\n",
              " 'अंडर',\n",
              " 'वन',\n",
              " 'उतरल',\n",
              " 'आजमावे',\n",
              " 'धीरे-धीरे।',\n",
              " 'अबकी',\n",
              " 'बताईब',\n",
              " 'जादा',\n",
              " 'अबहीं',\n",
              " 'लुक',\n",
              " 'प्रोफेशनल',\n",
              " 'पूछत',\n",
              " 'रिपोर्ट',\n",
              " 'तरह-तरह',\n",
              " 'पूछले',\n",
              " 'नाटक',\n",
              " 'कईले',\n",
              " 'दयालु।',\n",
              " 'रुचि',\n",
              " 'गुप्त',\n",
              " 'प्रभावित',\n",
              " 'हुर्राह',\n",
              " 'आखिरी',\n",
              " 'आजु',\n",
              " 'निकली',\n",
              " 'रहली-',\n",
              " 'निस्संदेह',\n",
              " 'चतुराई',\n",
              " 'बेचारा',\n",
              " 'हिलावे',\n",
              " 'दौड़ल।',\n",
              " 'खींचनी',\n",
              " 'खींचली',\n",
              " 'गज',\n",
              " 'छिलका',\n",
              " 'पट्टी',\n",
              " 'ओर।',\n",
              " 'घाम',\n",
              " 'आइल',\n",
              " 'हँसे',\n",
              " 'देखली',\n",
              " 'शुद्ध',\n",
              " 'द्वेष',\n",
              " 'हँस',\n",
              " 'छूवेला-जीवित',\n",
              " 'कइली-ई',\n",
              " 'पेटेंट',\n",
              " 'के—हम',\n",
              " 'नौकर-चाकर',\n",
              " 'सामान',\n",
              " 'रहि',\n",
              " 'सिवाय',\n",
              " 'कैनवास',\n",
              " 'गद्दा',\n",
              " 'सुतब',\n",
              " 'नाव',\n",
              " 'घरे',\n",
              " 'जाइब।',\n",
              " 'नंगा',\n",
              " 'फाड़',\n",
              " 'दिहले',\n",
              " 'चीराइल',\n",
              " 'लागे',\n",
              " 'फेंक',\n",
              " 'आवेला।',\n",
              " 'डालल',\n",
              " 'बान्ह',\n",
              " 'भूला',\n",
              " 'पहुंच',\n",
              " 'पाई',\n",
              " 'उठा',\n",
              " 'धकेले',\n",
              " 'कईनी',\n",
              " 'तनी-मनी',\n",
              " 'काट',\n",
              " 'दिहलस—लेकिन',\n",
              " 'दाँत',\n",
              " 'दर्द',\n",
              " 'भइल।',\n",
              " 'छील',\n",
              " 'चिपक',\n",
              " 'बढ़ती',\n",
              " 'चिल्लात',\n",
              " 'उड़ावल',\n",
              " 'हताश',\n",
              " 'कूद',\n",
              " 'निकले',\n",
              " 'सराहनीय',\n",
              " 'करित।',\n",
              " 'कदम',\n",
              " 'अनुचित',\n",
              " 'गलतफहमी',\n",
              " 'नइखे—ओह',\n",
              " 'रहेली।',\n",
              " 'छिपल',\n",
              " 'जकड़ल',\n",
              " 'बानी—रउरा',\n",
              " 'कठिन',\n",
              " 'घूमल',\n",
              " 'सुखद',\n",
              " 'कृप्या',\n",
              " 'करत।',\n",
              " 'कहे।',\n",
              " 'जमीन',\n",
              " 'पड़ेला',\n",
              " 'हरियर',\n",
              " 'सुचारू',\n",
              " 'फिट',\n",
              " 'भटक',\n",
              " 'जवान',\n",
              " 'खोलल',\n",
              " 'पाउंड',\n",
              " 'कुल्हाड़ी',\n",
              " 'तोड़',\n",
              " 'लाज',\n",
              " 'डियर',\n",
              " 'चाबी',\n",
              " 'पत्ता',\n",
              " 'करा',\n",
              " 'कहलस—बहुत',\n",
              " 'खोलऽ',\n",
              " 'पतई',\n",
              " 'जाके',\n",
              " 'देर',\n",
              " 'भगवान',\n",
              " 'देखनी।',\n",
              " 'जेन',\n",
              " 'खींच',\n",
              " 'लिहलस',\n",
              " 'बेहोश',\n",
              " 'कइलन',\n",
              " 'पार',\n",
              " 'किनारे',\n",
              " 'पड़े',\n",
              " 'tokens']"
            ]
          },
          "metadata": {},
          "execution_count": 60
        }
      ]
    },
    {
      "cell_type": "code",
      "source": [
        "hapaxes = fdist2.hapaxes()\n",
        "len(hapaxes)"
      ],
      "metadata": {
        "colab": {
          "base_uri": "https://localhost:8080/"
        },
        "id": "wzOGoV0KGmro",
        "outputId": "7a612426-37b1-46ff-d296-058d8ade2cc6"
      },
      "execution_count": 61,
      "outputs": [
        {
          "output_type": "execute_result",
          "data": {
            "text/plain": [
              "866"
            ]
          },
          "metadata": {},
          "execution_count": 61
        }
      ]
    },
    {
      "cell_type": "markdown",
      "source": [
        "**Conditional Operators**\n",
        "\n",
        "\n"
      ],
      "metadata": {
        "id": "CbBrKBCOGS-Q"
      }
    },
    {
      "cell_type": "code",
      "source": [
        "long_words = [w for w in set(tokens) if len(w) > 15]\n",
        "print(\"Long words (more than 15 characters):\", sorted(long_words))"
      ],
      "metadata": {
        "colab": {
          "base_uri": "https://localhost:8080/"
        },
        "id": "xtIdEKPhFXdi",
        "outputId": "c410245d-36f4-4dd6-8549-68cd693e7f44"
      },
      "execution_count": 62,
      "outputs": [
        {
          "output_type": "stream",
          "name": "stdout",
          "text": [
            "Long words (more than 15 characters): ['आत्महत्या—अपमानजनक', 'गोल-गोल-गोल-गोल-गोल-गोल-चक्कर', 'प्रोत्साहन-लेकिन']\n"
          ]
        }
      ]
    },
    {
      "cell_type": "code",
      "source": [
        "short_words = [w for w in set(tokens) if len(w) <= 4]\n",
        "print(\"Short words (less than 4 characters):\", sorted(short_words))"
      ],
      "metadata": {
        "colab": {
          "base_uri": "https://localhost:8080/"
        },
        "id": "OHIBl2RuHfg8",
        "outputId": "7b626be9-f999-46b6-f85e-7bcc3602946d"
      },
      "execution_count": 63,
      "outputs": [
        {
          "output_type": "stream",
          "name": "stdout",
          "text": [
            "Short words (less than 4 characters): ['!', \"''\", '(', ')', ',', '-जा', '.', '...', ';', '?', 'अंडर', 'अंदर', 'अइनी', 'अइसन', 'अइसे', 'अउरी', 'अगर', 'अचरज', 'अचल', 'अजीब', 'अतना', 'अतने', 'अपना', 'अब', 'अबकी', 'अभी', 'अलग', 'असल', 'असली', 'आ', 'आँख', 'आँखि', 'आइल', 'आई', 'आईल', 'आकार', 'आखिर', 'आज', 'आजमा', 'आजु', 'आतंक', 'आदत', 'आदमी', 'आधा', 'आपके', 'आपन', 'आम', 'आराम', 'आलसी', 'आवत', 'आवाज', 'आवे', 'इ', 'इयाद', 'इहाँ', 'इहे', 'ई', 'उ', 'उचित', 'उच्च', 'उठ', 'उठा', 'उतर', 'उतरल', 'उदास', 'उधम', 'उनकर', 'उनका', 'उभरत', 'उमेद', 'उहाँ', 'उहे', 'उहो', 'ऊ', 'ऊँच', 'ऊपर', 'ऊपर।', 'ऊहो', 'ए', 'एक', 'एकर', 'एकरा', 'एके', 'एगो', 'एतना', 'एले', 'एल्म', 'एह', 'एहसे', 'एही', 'ऑयल', 'ओ', 'ओकर', 'ओकरा', 'ओतना', 'ओतने', 'ओर', 'ओर।', 'ओवर', 'ओसही', 'ओह', 'क', 'कंधा', 'कइनी', 'कइल', 'कइलन', 'कइला', 'कइले', 'कइसन', 'कइसे', 'कई', 'कईनी', 'कईल', 'कईले', 'कठिन', 'कठोर', 'कतना', 'कदम', 'कबूल', 'कबो', 'कम', 'कमरा', 'कमी', 'कर', 'करत', 'करत।', 'करब', 'करब।', 'करवा', 'करसु', 'करा', 'करित', 'करीं', 'करीब', 'करे', 'कवक', 'कवना', 'कवनो', 'कष्ट', 'कह', 'कहत', 'कहनी', 'कहब', 'कहल', 'कहलस', 'कहली', 'कहले', 'कहे।', 'का', 'कागज', 'काट', 'काफी', 'काबू', 'काम', 'काम।', 'कारण', 'काश', 'काहे', 'कि', 'कील', 'कुछ', 'कूद', 'के', 'केला', 'केस', 'केहू', 'के।', 'कोण', 'कोना', 'कोमल', 'कोरा', 'क्रम', 'खड़ा', 'खतम', 'खतरा', 'खराब', 'खात', 'खाता', 'खाती', 'खाना', 'खाली', 'खास', 'खींच', 'खुद', 'खुदे', 'खुल', 'खुलल', 'खुला', 'खुश', 'खुशी', 'खेती', 'खेल', 'खैर', 'खोजे', 'खोदल', 'खोलल', 'खोलऽ', 'गंदा', 'गंध', 'गइनी', 'गइल', 'गइलन', 'गइला', 'गइले', 'गइल।', 'गईनी', 'गईल', 'गईल।', 'गज', 'गयिल', 'गर्व', 'गला', 'गले', 'गाँव', 'गिरा', 'गुजर', 'गेट', 'गॉग', 'गो', 'गोर', 'गोली', 'घंटन', 'घंटा', 'घड़ी', 'घर', 'घरे', 'घाट', 'घाम', 'घास', 'घुमा', 'घुस', 'घुसत', 'घूमत', 'घूमल', 'चढ़', 'चढ़े', 'चमकत', 'चरम', 'चल', 'चलत', 'चलीं', 'चाँद', 'चाबी', 'चाभी', 'चारो', 'चाहत', 'चाहब', 'चाहे', 'चिपक', 'चीज', 'चीजन', 'चीज़', 'चुप', 'चोरी', 'चौथा', 'छाया', 'छिपल', 'छील', 'छूवल', 'छोट', 'छोड़', 'छोर', 'जइबऽ', 'जइसन', 'जइसे', 'जगह', 'जगहन', 'जज', 'जतना', 'जनता', 'जब', 'जबकि', 'जबले', 'जमीन', 'जरा', 'जरूर', 'जवन', 'जवना', 'जवान', 'जहाँ', 'जा', 'जांच', 'जाइब', 'जाइल', 'जाई', 'जाईं', 'जाईब', 'जाई।', 'जाए', 'जाके', 'जाग', 'जागल', 'जादा', 'जानत', 'जानल', 'जानी', 'जाला', 'जाली', 'जाले', 'जाव', 'जास', 'जास।', 'जा।', 'जीवन', 'जुड़', 'जे', 'जेन', 'जेनी', 'जॉन', 'जोड़', 'जोर', 'जोर।', 'झपकत', 'झपकी', 'झुक', 'झूठ', 'टिंट', 'टूट', 'टूटल', 'टॉप', 'ठंडा', 'ठीक', 'ठोकल', 'डर', 'डाल', 'डालत', 'डालल', 'डियर', 'डूब', 'ढंकल', 'ढेर', 'त', 'तक', 'तनी', 'तब', 'तबले', 'तबाह', 'तबो', 'तय', 'तरह', 'तहरा', 'ताकत', 'तार', 'ताला', 'तीन', 'तू', 'तेज', 'तेजी', 'तेज।', 'तोड़', 'तौर', 'तौलत', 'थक', 'थका', 'थकाऊ', 'दर', 'दर्द', 'दाँत', 'दाग', 'दिन', 'दिने', 'दिल', 'दिला', 'दिहल', 'दिहे', 'दीं', 'दीया', 'दु', 'दुआर', 'दुख', 'दू', 'दूर', 'दूरी', 'दूर।', 'देख', 'देखत', 'देखल', 'देखे', 'देत', 'देब', 'देबे', 'देर', 'देला', 'देले', 'देवे', 'देश', 'देसु', 'दोष', 'दोसर', 'दौरा', 'धधकत', 'धन्य', 'धीरे', 'धूप', 'धोखा', 'नंगा', 'नइखी', 'नइखे', 'नईखी', 'नईखे', 'नजर', 'नफरत', 'नम', 'नया', 'ना', 'नाटक', 'नाम', 'नाव', 'ना।', 'निकल', 'निजी', 'नियम', 'नियर', 'निहन', 'नींद', 'नीक', 'नीच', 'नीचे', 'नीरस', 'प', 'पकड़', 'पड़', 'पड़ल', 'पड़ी', 'पड़े', 'पढ़त', 'पतई', 'पता', 'पति', 'पद', 'पनपत', 'पर', 'पल', 'पलट', 'पवनी', 'पवले', 'पसंद', 'पा', 'पाई', 'पाप', 'पार', 'पालन', 'पावल', 'पीछा', 'पीछे', 'पीयर', 'पीला', 'पूछत', 'पूछब', 'पूछल', 'पूरब', 'पूरा', 'पेपर', 'पैच', 'पैदा', 'फंगस', 'फइलल', 'फर्श', 'फाटल', 'फाड़', 'फिट', 'फिर', 'फीका', 'फूल', 'फूलल', 'फेंक', 'फेर', 'फेरु', 'फॉलो', 'फोन', 'बंद', 'बइठ', 'बइठल', 'बगल', 'बचपन', 'बचि', 'बटोर', 'बदल', 'बदलत', 'बन', 'बना', 'बरखा', 'बलुक', 'बल्ब', 'बस', 'बसल', 'बहिन', 'बहुत', 'बा', 'बा-', 'बा-आ', 'बा.', 'बाकी', 'बात', 'बात।', 'बाद', 'बादल', 'बाधा', 'बानी', 'बार', 'बारे', 'बाल', 'बाहर', 'बा।', 'बिता', 'बिना', 'बिया', 'बुरा', 'बेर', 'बेल', 'बेला', 'बेशक', 'बेसी', 'बैक', 'बोझ', 'भइल', 'भइल।', 'भईल', 'भटक', 'भर', 'भरल', 'भरल।', 'भलाई', 'भले', 'भा', 'भाई', 'भाग', 'भागे', 'भारी', 'भाव', 'भाव।', 'भी', 'भीतर', 'भी।', 'भूख', 'भूला', 'भेंट', 'भेज', 'भेद', 'भोजन', 'भ्रम', 'मंद', 'मजा', 'मजाक', 'मत', 'मतलब', 'मदद', 'मन', 'मना', 'मरल', 'मरीज', 'महान', 'माई', 'माथा', 'माने', 'मार', 'मारत', 'माली', 'मिल', 'मिलत', 'मिलल', 'मिली', 'मिले', 'मील', 'मुड़', 'में', 'में।', 'मेल', 'मैरी', 'मौसम', 'याद', 'रंग', 'रउआ', 'रउरा', 'रख', 'रखल', 'रखले', 'रह', 'रहनी', 'रहल', 'रहली', 'रहले', 'रहि', 'रहित', 'रहीं', 'रहे', 'रहे।', 'राउर', 'राखल', 'राखे', 'रात', 'राह', 'राहत', 'रुक', 'रुचि', 'रूप', 'रेंग', 'रेत', 'रोज', 'रोवत', 'रौंद', 'लंबा', 'लइकन', 'लइका', 'लइकी', 'लउकत', 'लकीर', 'लगभग', 'लगा', 'लगे', 'लटकल', 'लमहर', 'लहरन', 'लाइन', 'लागत', 'लागल', 'लागी', 'लागे', 'लाज', 'लाम।', 'लायक', 'लिख', 'लिखत', 'लिखल', 'लिखे', 'लीं।', 'लुक', 'लुका', 'ले', 'लेके', 'लेखन', 'लेट', 'लेटत', 'लेत', 'लेन', 'लेनी', 'लेब', 'लेबे', 'लेला', 'लेले', 'लोग', 'लोल', 'वइसे', 'वजन', 'वजह', 'वन', 'वश', 'वापस', 'वाला', 'वेयर', 'शक', 'शब्द', 'शराब', 'शरीर', 'शहर', 'शांत', 'शायद', 'शुरू', 'शेड', 'शौक', 'सँ', 'संगे', 'सकत', 'सकीं', 'सके', 'सड़क', 'सनक', 'सब', 'सबसे', 'सभ', 'समय', 'समाज', 'सलाख', 'सलाह', 'सवाल', 'सहज', 'सही', 'साँझ', 'साथ', 'साथी', 'साथे', 'सादा', 'साफ', 'सारा', 'सिर', 'सीट', 'सीधा', 'सीधे', 'सीमा', 'सुखद', 'सुत', 'सुतत', 'सुतब', 'सुतल', 'सुतऽ', 'सुते', 'सूरज', 'से', 'से—ई', 'से—उ', 'सोख', 'सोच', 'सोचत', 'सोचे', 'सौदा', 'ह', 'हँस', 'हँसे', 'हंस', 'हई', 'हईं', 'हई।', 'हताश', 'हम', 'हमनी', 'हमरा', 'हमार', 'हर', 'हलचल', 'हवा', 'हवें', 'हाथ', 'हालत', 'हावी', 'हिल', 'हिलल', 'हिला', 'ही', 'ही।', 'हेज', 'हॉप', 'हॉरर', 'हॉल', 'हो', 'होई', 'होके', 'होखत', 'होखब', 'होखल', 'होखी', 'होखे', 'होला', 'ह।', '\\u200b\\u200bबा', '\\u200b\\u200bहम', '—अरे', '—आ', '—ऊ', '—कम', '—हम', '“', '”']\n"
          ]
        }
      ]
    },
    {
      "cell_type": "code",
      "source": [
        "len(short_words)"
      ],
      "metadata": {
        "colab": {
          "base_uri": "https://localhost:8080/"
        },
        "id": "k9rGLHCoIPGT",
        "outputId": "695e2d18-360e-40f8-ae4f-c40283f496a3"
      },
      "execution_count": 64,
      "outputs": [
        {
          "output_type": "execute_result",
          "data": {
            "text/plain": [
              "752"
            ]
          },
          "metadata": {},
          "execution_count": 64
        }
      ]
    },
    {
      "cell_type": "code",
      "source": [
        "equal_length_words = [w for w in set(tokens) if len(w) == 4]\n",
        "print(\"Equal length words (equal to 4 characters):\", sorted(equal_length_words))"
      ],
      "metadata": {
        "colab": {
          "base_uri": "https://localhost:8080/"
        },
        "id": "4joqtkuBIgks",
        "outputId": "f13437d4-d655-46ab-8838-e0b65d828f51"
      },
      "execution_count": 65,
      "outputs": [
        {
          "output_type": "stream",
          "name": "stdout",
          "text": [
            "Equal length words (equal to 4 characters): ['अंडर', 'अंदर', 'अइनी', 'अइसन', 'अइसे', 'अउरी', 'अचरज', 'अजीब', 'अतना', 'अतने', 'अपना', 'अबकी', 'असली', 'आँखि', 'आकार', 'आखिर', 'आजमा', 'आतंक', 'आदमी', 'आपके', 'आराम', 'आलसी', 'आवाज', 'इयाद', 'इहाँ', 'उचित', 'उच्च', 'उतरल', 'उदास', 'उनकर', 'उनका', 'उभरत', 'उमेद', 'उहाँ', 'ऊपर।', 'एकरा', 'एतना', 'एल्म', 'एहसे', 'ओकरा', 'ओतना', 'ओतने', 'ओसही', 'कंधा', 'कइनी', 'कइलन', 'कइला', 'कइले', 'कइसन', 'कइसे', 'कईनी', 'कईले', 'कठिन', 'कठोर', 'कतना', 'कबूल', 'कमरा', 'करत।', 'करब।', 'करवा', 'करसु', 'करित', 'करीं', 'करीब', 'कवना', 'कवनो', 'कष्ट', 'कहनी', 'कहलस', 'कहली', 'कहले', 'कहे।', 'कागज', 'काफी', 'काबू', 'काम।', 'कारण', 'काहे', 'केला', 'केहू', 'कोना', 'कोमल', 'कोरा', 'क्रम', 'खड़ा', 'खतरा', 'खराब', 'खाता', 'खाती', 'खाना', 'खाली', 'खींच', 'खुदे', 'खुलल', 'खुला', 'खुशी', 'खेती', 'खोजे', 'खोदल', 'खोलल', 'खोलऽ', 'गंदा', 'गइनी', 'गइलन', 'गइला', 'गइले', 'गइल।', 'गईनी', 'गईल।', 'गयिल', 'गर्व', 'गाँव', 'गिरा', 'गुजर', 'गोली', 'घंटन', 'घंटा', 'घड़ी', 'घुमा', 'घुसत', 'घूमत', 'घूमल', 'चढ़े', 'चमकत', 'चलीं', 'चाँद', 'चाबी', 'चाभी', 'चारो', 'चाहत', 'चाहब', 'चाहे', 'चिपक', 'चीजन', 'चीज़', 'चोरी', 'चौथा', 'छाया', 'छिपल', 'छूवल', 'छोड़', 'जइबऽ', 'जइसन', 'जइसे', 'जगहन', 'जतना', 'जनता', 'जबकि', 'जबले', 'जमीन', 'जरूर', 'जवना', 'जवान', 'जहाँ', 'जांच', 'जाइब', 'जाइल', 'जाईं', 'जाईब', 'जाई।', 'जाके', 'जागल', 'जादा', 'जानत', 'जानल', 'जानी', 'जाला', 'जाली', 'जाले', 'जास।', 'जीवन', 'जुड़', 'जेनी', 'जोड़', 'जोर।', 'झपकत', 'झपकी', 'टिंट', 'टूटल', 'ठंडा', 'ठोकल', 'डालत', 'डालल', 'डियर', 'ढंकल', 'तबले', 'तबाह', 'तहरा', 'ताकत', 'ताला', 'तेजी', 'तेज।', 'तोड़', 'तौलत', 'थकाऊ', 'दर्द', 'दाँत', 'दिने', 'दिला', 'दिहल', 'दिहे', 'दीया', 'दुआर', 'दूरी', 'दूर।', 'देखत', 'देखल', 'देखे', 'देबे', 'देला', 'देले', 'देवे', 'देसु', 'दोसर', 'दौरा', 'धधकत', 'धन्य', 'धीरे', 'धोखा', 'नंगा', 'नइखी', 'नइखे', 'नईखी', 'नईखे', 'नफरत', 'नाटक', 'निकल', 'निजी', 'नियम', 'नियर', 'निहन', 'नींद', 'नीचे', 'नीरस', 'पकड़', 'पड़ल', 'पड़ी', 'पड़े', 'पढ़त', 'पनपत', 'पवनी', 'पवले', 'पसंद', 'पालन', 'पावल', 'पीछा', 'पीछे', 'पीयर', 'पीला', 'पूछत', 'पूछब', 'पूछल', 'पूरब', 'पूरा', 'पेपर', 'पैदा', 'फंगस', 'फइलल', 'फर्श', 'फाटल', 'फाड़', 'फीका', 'फूलल', 'फेंक', 'फेरु', 'फॉलो', 'बइठल', 'बचपन', 'बटोर', 'बदलत', 'बरखा', 'बलुक', 'बल्ब', 'बहिन', 'बहुत', 'बा-आ', 'बाकी', 'बात।', 'बादल', 'बाधा', 'बानी', 'बारे', 'बाहर', 'बिता', 'बिना', 'बिया', 'बुरा', 'बेला', 'बेशक', 'बेसी', 'भइल।', 'भरल।', 'भलाई', 'भागे', 'भारी', 'भाव।', 'भीतर', 'भूला', 'भेंट', 'भोजन', 'भ्रम', 'मजाक', 'मतलब', 'मरीज', 'महान', 'माथा', 'माने', 'मारत', 'माली', 'मिलत', 'मिलल', 'मिली', 'मिले', 'मुड़', 'में।', 'मैरी', 'मौसम', 'रउरा', 'रखले', 'रहनी', 'रहली', 'रहले', 'रहित', 'रहीं', 'रहे।', 'राउर', 'राखल', 'राखे', 'राहत', 'रुचि', 'रेंग', 'रोवत', 'रौंद', 'लंबा', 'लइकन', 'लइका', 'लइकी', 'लउकत', 'लकीर', 'लगभग', 'लटकल', 'लमहर', 'लहरन', 'लाइन', 'लागत', 'लागल', 'लागी', 'लागे', 'लाम।', 'लायक', 'लिखत', 'लिखल', 'लिखे', 'लीं।', 'लुका', 'लेके', 'लेखन', 'लेटत', 'लेनी', 'लेबे', 'लेला', 'लेले', 'वइसे', 'वापस', 'वाला', 'वेयर', 'शब्द', 'शराब', 'शरीर', 'शांत', 'शायद', 'शुरू', 'संगे', 'सकीं', 'सड़क', 'सबसे', 'समाज', 'सलाख', 'सलाह', 'सवाल', 'साँझ', 'साथी', 'साथे', 'सादा', 'सारा', 'सीधा', 'सीधे', 'सीमा', 'सुखद', 'सुतत', 'सुतब', 'सुतल', 'सुतऽ', 'सुते', 'सूरज', 'से—ई', 'से—उ', 'सोचत', 'सोचे', 'सौदा', 'हँसे', 'हताश', 'हमनी', 'हमरा', 'हमार', 'हलचल', 'हवें', 'हालत', 'हावी', 'हिलल', 'हिला', 'हॉरर', 'होके', 'होखत', 'होखब', 'होखल', 'होखी', 'होखे', 'होला', '\\u200b\\u200bबा', '\\u200b\\u200bहम', '—अरे']\n"
          ]
        }
      ]
    },
    {
      "cell_type": "code",
      "source": [
        "len(equal_length_words)"
      ],
      "metadata": {
        "colab": {
          "base_uri": "https://localhost:8080/"
        },
        "id": "23gC3M_lI12_",
        "outputId": "e058464f-8e58-4270-995c-2a7e67b3838a"
      },
      "execution_count": 66,
      "outputs": [
        {
          "output_type": "execute_result",
          "data": {
            "text/plain": [
              "422"
            ]
          },
          "metadata": {},
          "execution_count": 66
        }
      ]
    },
    {
      "cell_type": "markdown",
      "source": [
        " **Collocations and Bigrams**"
      ],
      "metadata": {
        "id": "pRhl8LQWJACa"
      }
    },
    {
      "cell_type": "code",
      "source": [
        "print(\"Collocations:\")\n",
        "text_nltk.collocations()"
      ],
      "metadata": {
        "colab": {
          "base_uri": "https://localhost:8080/"
        },
        "id": "kXVeQb0pI6G2",
        "outputId": "dd4d86db-2de4-4c33-aead-34e618cfd859"
      },
      "execution_count": 67,
      "outputs": [
        {
          "output_type": "stream",
          "name": "stdout",
          "text": [
            "Collocations:\n",
            "बारे में; कहत बाड़न; गला रेत; कवनो आश्चर्य; देखत बानी; ठीक ओसही; बाहर\n",
            "निकाले; कील ठोकल; बल्ब नियर; रात में; पीला रंग; करत बानी; कमरा में;\n",
            "बाहरी पैटर्न; देखत बाड़ऽ; पसंद नइखे।; हमरा लागता; हमार मतलब; पुरान\n",
            "जमाना; पूरा भरोसा\n"
          ]
        }
      ]
    },
    {
      "cell_type": "code",
      "source": [
        "bigram_list = list(bigrams([\"देवाल\", \"घर\", \"जॉन\", \"पीला\", \"कइल\", \"बच्चा\", \"खुशी\", \"सड़क\", \"भइल\", \"प्यार\"]))\n",
        "print(\"Bigrams example: \\n\", bigram_list)"
      ],
      "metadata": {
        "colab": {
          "base_uri": "https://localhost:8080/"
        },
        "id": "pveE01h2JiT1",
        "outputId": "f4bb9250-94f4-40a7-fc18-257f1468515e"
      },
      "execution_count": 68,
      "outputs": [
        {
          "output_type": "stream",
          "name": "stdout",
          "text": [
            "Bigrams example: \n",
            " [('देवाल', 'घर'), ('घर', 'जॉन'), ('जॉन', 'पीला'), ('पीला', 'कइल'), ('कइल', 'बच्चा'), ('बच्चा', 'खुशी'), ('खुशी', 'सड़क'), ('सड़क', 'भइल'), ('भइल', 'प्यार')]\n"
          ]
        }
      ]
    },
    {
      "cell_type": "markdown",
      "source": [
        "**Word Comaprison Operator**"
      ],
      "metadata": {
        "id": "TCQWQqkJK_CQ"
      }
    },
    {
      "cell_type": "code",
      "source": [
        "sorted(w for w in set(tokens) if w.startswith('कइल'))"
      ],
      "metadata": {
        "colab": {
          "base_uri": "https://localhost:8080/"
        },
        "id": "NUFuYK7IL0kk",
        "outputId": "2187003a-5488-4e64-f50a-596a7efbafb4"
      },
      "execution_count": 69,
      "outputs": [
        {
          "output_type": "execute_result",
          "data": {
            "text/plain": [
              "['कइल', 'कइलन', 'कइलसि', 'कइला', 'कइली-ई', 'कइले']"
            ]
          },
          "metadata": {},
          "execution_count": 69
        }
      ]
    },
    {
      "cell_type": "code",
      "source": [
        "print(sorted(w for w in set(tokens) if w.endswith('ला')))"
      ],
      "metadata": {
        "colab": {
          "base_uri": "https://localhost:8080/"
        },
        "id": "ZO2YwWCsKGM4",
        "outputId": "fa50e1b4-7623-4cc0-d811-863088b9a459"
      },
      "execution_count": 70,
      "outputs": [
        {
          "output_type": "stream",
          "name": "stdout",
          "text": [
            "['आवेला', 'उजाला', 'उड़ावेला', 'कइला', 'करेला', 'केला', 'खुला', 'गइला', 'गला', 'घुमावेला', 'चमकेला', 'चलेला', 'जाला', 'ताला', 'दिला', 'देखला', 'देला', 'पड़ेला', 'पलटला', 'पहिला', 'पिछला', 'पीला', 'बदलला', 'बनावेला', 'बेला', 'भूला', 'मामला', 'मामिला', 'मिलला', 'मिलेला', 'रहेला', 'राखेला', 'रेंगला', 'लागेला', 'लेला', 'वाला', 'व्यायामशाला', 'सकेला', 'हँसेला', 'हिला', 'होखेला', 'होला']\n"
          ]
        }
      ]
    },
    {
      "cell_type": "code",
      "source": [
        "print(sorted(w for w in set(tokens) if w.isalpha()))"
      ],
      "metadata": {
        "colab": {
          "base_uri": "https://localhost:8080/"
        },
        "id": "8wl6lnsdMpyN",
        "outputId": "15024c8a-6fd2-4c1a-d9f6-cf5c72ba3a9c"
      },
      "execution_count": 71,
      "outputs": [
        {
          "output_type": "stream",
          "name": "stdout",
          "text": [
            "['अइसन', 'अगर', 'अचरज', 'अचल', 'अब', 'अलग', 'असल', 'असहमत', 'आ', 'आइल', 'आई', 'आईल', 'आज', 'आदत', 'आपन', 'आम', 'आवत', 'इ', 'ई', 'उ', 'उठ', 'उतर', 'उतरल', 'उधम', 'उनकर', 'उभरत', 'ऊ', 'ऊपर', 'ए', 'एक', 'एकर', 'एह', 'ऑयल', 'ओ', 'ओकर', 'ओर', 'ओवर', 'ओह', 'क', 'कइल', 'कइलन', 'कइसन', 'कई', 'कईल', 'कदम', 'कम', 'कर', 'करत', 'करब', 'कवक', 'कह', 'कहत', 'कहब', 'कहल', 'कहलस', 'खतम', 'गइल', 'गइलन', 'गईल', 'गज', 'घर', 'चमकत', 'चरम', 'चल', 'चलत', 'जइबऽ', 'जइसन', 'जगह', 'जगहन', 'जज', 'जब', 'जवन', 'झपकत', 'डर', 'त', 'तक', 'तब', 'तय', 'तरह', 'थक', 'दर', 'धधकत', 'नजर', 'नफरत', 'नम', 'प', 'पतई', 'पद', 'पनपत', 'पर', 'पल', 'पलट', 'फइलल', 'बइठ', 'बइठल', 'बगल', 'बचपन', 'बदल', 'बदलत', 'बन', 'बस', 'बसल', 'भइल', 'भईल', 'भटक', 'भर', 'भरल', 'मत', 'मतलब', 'मदद', 'मन', 'मरल', 'रउआ', 'रख', 'रखल', 'रह', 'रहल', 'लइकन', 'लउकत', 'लगभग', 'लटकल', 'लमहर', 'लहरन', 'वजन', 'वजह', 'वन', 'वश', 'शक', 'शहर', 'सकत', 'सनक', 'सब', 'सभ', 'समय', 'सहज', 'ह', 'हई', 'हम', 'हर', 'हलचल']\n"
          ]
        }
      ]
    },
    {
      "cell_type": "markdown",
      "source": [
        "**Conditional Frequency Distribution**"
      ],
      "metadata": {
        "id": "-lQchJSVte2E"
      }
    },
    {
      "cell_type": "code",
      "source": [
        "# Word Length as Condition\n",
        "length_pairs = [(len(token), token) for token in tokens if token.isalpha()]\n",
        "cfd_length = ConditionalFreqDist(length_pairs)\n",
        "print(\"Conditions based on word length:\", cfd_length.conditions())"
      ],
      "metadata": {
        "colab": {
          "base_uri": "https://localhost:8080/"
        },
        "id": "uvHG4joZA9zc",
        "outputId": "b848b1f6-b631-4b07-fdb4-c8b72130caa5"
      },
      "execution_count": 72,
      "outputs": [
        {
          "output_type": "stream",
          "name": "stdout",
          "text": [
            "Conditions based on word length: [1, 2, 4, 3, 5]\n"
          ]
        }
      ]
    },
    {
      "cell_type": "code",
      "source": [
        "cfd_length.tabulate()"
      ],
      "metadata": {
        "colab": {
          "base_uri": "https://localhost:8080/"
        },
        "id": "VPgBUhB0v_Oi",
        "outputId": "f9a35bf6-4bf4-4130-9ae3-bac6a342a05d"
      },
      "execution_count": 73,
      "outputs": [
        {
          "output_type": "stream",
          "name": "stdout",
          "text": [
            "   अइसन   अगर  अचरज   अचल    अब   अलग   असल असहमत     आ   आइल    आई   आईल    आज   आदत   आपन    आम   आवत     इ     ई     उ    उठ   उतर  उतरल   उधम  उनकर  उभरत     ऊ   ऊपर     ए    एक   एकर    एह   ऑयल     ओ   ओकर    ओर   ओवर    ओह     क   कइल  कइलन  कइसन    कई   कईल   कदम    कम    कर   करत   करब   कवक    कह   कहत   कहब   कहल  कहलस   खतम   गइल  गइलन   गईल    गज    घर  चमकत   चरम    चल   चलत  जइबऽ  जइसन   जगह  जगहन    जज    जब   जवन  झपकत    डर     त    तक    तब    तय   तरह    थक    दर  धधकत   नजर  नफरत    नम     प   पतई    पद  पनपत    पर    पल   पलट  फइलल   बइठ  बइठल   बगल  बचपन   बदल  बदलत    बन    बस   बसल   भइल   भईल   भटक    भर   भरल    मत  मतलब   मदद    मन   मरल   रउआ    रख   रखल    रह   रहल  लइकन  लउकत  लगभग  लटकल  लमहर  लहरन   वजन   वजह    वन    वश    शक   शहर   सकत   सनक    सब    सभ   समय   सहज     ह    हई    हम    हर  हलचल \n",
            "1     0     0     0     0     0     0     0     0   243     0     0     0     0     0     0     0     0     5    62    21     0     0     0     0     0     0    87     0     1     0     0     0     0     1     0     0     0     0     7     0     0     0     0     0     0     0     0     0     0     0     0     0     0     0     0     0     0     0     0     0     0     0     0     0     0     0     0     0     0     0     0     0     0     0    59     0     0     0     0     0     0     0     0     0     0     3     0     0     0     0     0     0     0     0     0     0     0     0     0     0     0     0     0     0     0     0     0     0     0     0     0     0     0     0     0     0     0     0     0     0     0     0     0     0     0     0     0     0     0     0     0     0     0     0     0    11     0     0     0     0 \n",
            "2     0     0     0     0    20     0     0     0     0     0     2     0     2     0     0     2     0     0     0     0     3     0     0     0     0     0     0     0     0    21     0    13     0     0     0    11     0    31     0     0     0     0     3     0     0     9    31     0     0     0     1     0     0     0     0     0     0     0     0     1    10     0     0    10     0     0     0     0     0     1    23     0     0     2     0    12     7     4     0     5     1     0     0     0     1     0     0     2     0    60     3     0     0     0     0     0     0     0     0     2    10     0     0     0     0     6     0     2     0     0     6     0     0     2     0     2     0     0     0     0     0     0     0     0     0     1     1     1     0     0     0    20     1     0     0     0     2   179    13     0 \n",
            "3     0    14     0     1     0     1     1     0     0     1     0     1     0     4     7     0     2     0     0     0     0     1     0     1     0     0     0    14     0     0    13     0     1     0     2     0     1     0     0     6     0     0     0     1     1     0     0    18     7     1     0    11     5     2     0     5    32     0     7     0     0     0     1     0     1     0     0    11     0     0     0    28     0     0     0     0     0     0    11     0     0     0     5     0     0     0     1     0     0     0     0     1     0     3     0     1     0     3     0     0     0     1     4     3     1     0     2     0     0     3     0     1     2     0     1     0    10     0     0     0     0     0     0     1     1     0     0     0     3    14     1     0     0     9     2     0     0     0     0     0 \n",
            "4    17     0     3     0     0     0     0     0     0     0     0     0     0     0     0     0     0     0     0     0     0     0     1     0     6     1     0     0     0     0     0     0     0     0     0     0     0     0     0     0     1     1     0     0     0     0     0     0     0     0     0     0     0     0     2     0     0     3     0     0     0     1     0     0     0     1    15     0     3     0     0     0     1     0     0     0     0     0     0     0     0     1     0     7     0     0     0     0     1     0     0     0     2     0     1     0     1     0     2     0     0     0     0     0     0     0     0     0     4     0     0     0     0     0     0     0     0     3     3     6     1     6     1     0     0     0     0     0     0     0     0     0     0     0     0     0     0     0     0     1 \n",
            "5     0     0     0     0     0     0     0     1     0     0     0     0     0     0     0     0     0     0     0     0     0     0     0     0     0     0     0     0     0     0     0     0     0     0     0     0     0     0     0     0     0     0     0     0     0     0     0     0     0     0     0     0     0     0     0     0     0     0     0     0     0     0     0     0     0     0     0     0     0     0     0     0     0     0     0     0     0     0     0     0     0     0     0     0     0     0     0     0     0     0     0     0     0     0     0     0     0     0     0     0     0     0     0     0     0     0     0     0     0     0     0     0     0     0     0     0     0     0     0     0     0     0     0     0     0     0     0     0     0     0     0     0     0     0     0     0     0     0     0     0 \n"
          ]
        }
      ]
    },
    {
      "cell_type": "code",
      "source": [
        "cfd_length.plot(title='Conditional Frequency Distribution Based on Word Length')"
      ],
      "metadata": {
        "colab": {
          "base_uri": "https://localhost:8080/",
          "height": 519
        },
        "id": "7bRy7f0ZDMzw",
        "outputId": "406bd231-125d-4c37-8820-4fad30fa82bb"
      },
      "execution_count": 74,
      "outputs": [
        {
          "output_type": "execute_result",
          "data": {
            "text/plain": [
              "<Axes: title={'center': 'Conditional Frequency Distribution Based on Word Length'}, xlabel='Samples', ylabel='Counts'>"
            ]
          },
          "metadata": {},
          "execution_count": 74
        },
        {
          "output_type": "display_data",
          "data": {
            "text/plain": [
              "<Figure size 640x480 with 1 Axes>"
            ],
            "image/png": "[encoded data removed]"
          },
          "metadata": {}
        }
      ]
    },
    {
      "cell_type": "code",
      "source": [
        "# First Character and lenghth as Condition\n",
        "first_char_pairs = [(token[0], token) for token in tokens if  len(token) >= 12]\n",
        "cfd_first_char = ConditionalFreqDist(first_char_pairs)\n",
        "print(\"Conditions based on first character:\", cfd_first_char.conditions())"
      ],
      "metadata": {
        "colab": {
          "base_uri": "https://localhost:8080/"
        },
        "id": "KyPOAecHDRsf",
        "outputId": "1a09d5ee-5c49-4f63-babd-fcbc6d6c0857"
      },
      "execution_count": 75,
      "outputs": [
        {
          "output_type": "stream",
          "name": "stdout",
          "text": [
            "Conditions based on first character: ['प', 'उ', 'आ', 'ब', 'ख', 'म', 'क', 'ग', 'छ']\n"
          ]
        }
      ]
    },
    {
      "cell_type": "code",
      "source": [
        "cfd_first_char.tabulate()"
      ],
      "metadata": {
        "colab": {
          "base_uri": "https://localhost:8080/"
        },
        "id": "5rseZ-A1kiCo",
        "outputId": "c0318704-ac90-4be3-c29b-3b1d0123d6d7"
      },
      "execution_count": 76,
      "outputs": [
        {
          "output_type": "stream",
          "name": "stdout",
          "text": [
            "             आत्महत्या—अपमानजनक               उतारल-कागज-हमार                  उल्टा-पुल्टा                 कर्तव्यनिष्ठा                  खिलौना-स्टोर गोल-गोल-गोल-गोल-गोल-गोल-चक्कर                  छूवेला-जीवित                 पनपेला-प्रलाप                  प्रवृत्ति-एक              प्रोत्साहन-लेकिन                 बिछौना-खिड़की                  मूर्खतापूर्ण \n",
            "आ                             1                             0                             0                             0                             0                             0                             0                             0                             0                             0                             0                             0 \n",
            "उ                             0                             1                             1                             0                             0                             0                             0                             0                             0                             0                             0                             0 \n",
            "क                             0                             0                             0                             1                             0                             0                             0                             0                             0                             0                             0                             0 \n",
            "ख                             0                             0                             0                             0                             1                             0                             0                             0                             0                             0                             0                             0 \n",
            "ग                             0                             0                             0                             0                             0                             1                             0                             0                             0                             0                             0                             0 \n",
            "छ                             0                             0                             0                             0                             0                             0                             1                             0                             0                             0                             0                             0 \n",
            "प                             0                             0                             0                             0                             0                             0                             0                             1                             1                             1                             0                             0 \n",
            "ब                             0                             0                             0                             0                             0                             0                             0                             0                             0                             0                             1                             0 \n",
            "म                             0                             0                             0                             0                             0                             0                             0                             0                             0                             0                             0                             3 \n"
          ]
        }
      ]
    },
    {
      "cell_type": "code",
      "source": [
        "cfd_first_char.plot(title='Conditional Frequency Distribution Based on First Character & length')"
      ],
      "metadata": {
        "colab": {
          "base_uri": "https://localhost:8080/",
          "height": 664
        },
        "id": "8-okLtSoDfHb",
        "outputId": "6e3b8eee-c8b2-4e4b-9b82-2edfe11fa89c"
      },
      "execution_count": 77,
      "outputs": [
        {
          "output_type": "execute_result",
          "data": {
            "text/plain": [
              "<Axes: title={'center': 'Conditional Frequency Distribution Based on First Character & length'}, xlabel='Samples', ylabel='Counts'>"
            ]
          },
          "metadata": {},
          "execution_count": 77
        },
        {
          "output_type": "display_data",
          "data": {
            "text/plain": [
              "<Figure size 640x480 with 1 Axes>"
            ],
            "image/png": "[encoded data removed]"
          },
          "metadata": {}
        }
      ]
    },
    {
      "cell_type": "code",
      "source": [
        "# Vowel Count as Condition\n",
        "vowel_count_pairs = [(sum(1 for char in token if char in 'अआइईउऊएऐओऔअंअः'), token) for token in tokens if token.isalpha()]\n",
        "cfd_vowel_count = ConditionalFreqDist(vowel_count_pairs)\n",
        "print(\"Conditions based on vowel count:\", cfd_vowel_count.conditions())\n"
      ],
      "metadata": {
        "colab": {
          "base_uri": "https://localhost:8080/"
        },
        "id": "Rw8ukwnwDyGr",
        "outputId": "832b2e12-44d7-45f4-a58c-a7c74a9571a9"
      },
      "execution_count": 78,
      "outputs": [
        {
          "output_type": "stream",
          "name": "stdout",
          "text": [
            "Conditions based on vowel count: [0, 1, 2]\n"
          ]
        }
      ]
    },
    {
      "cell_type": "code",
      "source": [
        "cfd_vowel_count.tabulate()"
      ],
      "metadata": {
        "colab": {
          "base_uri": "https://localhost:8080/"
        },
        "id": "PbiSMhIpnran",
        "outputId": "e1b90bef-ae62-49c6-8c31-8dc7b96fee59"
      },
      "execution_count": 79,
      "outputs": [
        {
          "output_type": "stream",
          "name": "stdout",
          "text": [
            "   अइसन   अगर  अचरज   अचल    अब   अलग   असल असहमत     आ   आइल    आई   आईल    आज   आदत   आपन    आम   आवत     इ     ई     उ    उठ   उतर  उतरल   उधम  उनकर  उभरत     ऊ   ऊपर     ए    एक   एकर    एह   ऑयल     ओ   ओकर    ओर   ओवर    ओह     क   कइल  कइलन  कइसन    कई   कईल   कदम    कम    कर   करत   करब   कवक    कह   कहत   कहब   कहल  कहलस   खतम   गइल  गइलन   गईल    गज    घर  चमकत   चरम    चल   चलत  जइबऽ  जइसन   जगह  जगहन    जज    जब   जवन  झपकत    डर     त    तक    तब    तय   तरह    थक    दर  धधकत   नजर  नफरत    नम     प   पतई    पद  पनपत    पर    पल   पलट  फइलल   बइठ  बइठल   बगल  बचपन   बदल  बदलत    बन    बस   बसल   भइल   भईल   भटक    भर   भरल    मत  मतलब   मदद    मन   मरल   रउआ    रख   रखल    रह   रहल  लइकन  लउकत  लगभग  लटकल  लमहर  लहरन   वजन   वजह    वन    वश    शक   शहर   सकत   सनक    सब    सभ   समय   सहज     ह    हई    हम    हर  हलचल \n",
            "0     0     0     0     0     0     0     0     0     0     0     0     0     0     0     0     0     0     0     0     0     0     0     0     0     0     0     0     0     0     0     0     0     1     0     0     0     0     0     7     0     0     0     0     0     1     9    31    18     7     1     1    11     5     2     2     5     0     0     0     1    10     1     1    10     1     0     0    11     3     1    23    28     1     2    59    12     7     4    11     5     1     1     5     7     1     3     0     2     1    60     3     1     0     0     0     1     1     3     2     2    10     1     0     0     1     6     2     2     4     3     6     1     0     2     1     2    10     0     0     6     1     6     1     1     1     1     1     1     3    14     1    20     1     9     2    11     0   179    13     1 \n",
            "1     0    14     3     1    20     1     1     1   243     0     0     0     2     4     7     2     2     5    62    21     3     1     1     1     6     1    87    14     1    21    13    13     0     1     2    11     1    31     0     6     1     1     3     1     0     0     0     0     0     0     0     0     0     0     0     0    32     3     7     0     0     0     0     0     0     1    15     0     0     0     0     0     0     0     0     0     0     0     0     0     0     0     0     0     0     0     1     0     0     0     0     0     2     3     1     0     0     0     0     0     0     0     4     3     0     0     0     0     0     0     0     0     0     0     0     0     0     3     3     0     0     0     0     0     0     0     0     0     0     0     0     0     0     0     0     0     2     0     0     0 \n",
            "2    17     0     0     0     0     0     0     0     0     1     2     1     0     0     0     0     0     0     0     0     0     0     0     0     0     0     0     0     0     0     0     0     0     0     0     0     0     0     0     0     0     0     0     0     0     0     0     0     0     0     0     0     0     0     0     0     0     0     0     0     0     0     0     0     0     0     0     0     0     0     0     0     0     0     0     0     0     0     0     0     0     0     0     0     0     0     0     0     0     0     0     0     0     0     0     0     0     0     0     0     0     0     0     0     0     0     0     0     0     0     0     0     2     0     0     0     0     0     0     0     0     0     0     0     0     0     0     0     0     0     0     0     0     0     0     0     0     0     0     0 \n"
          ]
        }
      ]
    },
    {
      "cell_type": "code",
      "source": [
        "cfd_vowel_count.plot(title=\"Conditions based on vowel count\")"
      ],
      "metadata": {
        "colab": {
          "base_uri": "https://localhost:8080/",
          "height": 519
        },
        "id": "JYlhTSw9FOW2",
        "outputId": "aeccbd17-dab6-4512-dabe-299a4b27411b"
      },
      "execution_count": 80,
      "outputs": [
        {
          "output_type": "execute_result",
          "data": {
            "text/plain": [
              "<Axes: title={'center': 'Conditions based on vowel count'}, xlabel='Samples', ylabel='Counts'>"
            ]
          },
          "metadata": {},
          "execution_count": 80
        },
        {
          "output_type": "display_data",
          "data": {
            "text/plain": [
              "<Figure size 640x480 with 1 Axes>"
            ],
            "image/png": "[encoded data removed]"
          },
          "metadata": {}
        }
      ]
    },
    {
      "cell_type": "markdown",
      "source": [
        "**Stopwords**"
      ],
      "metadata": {
        "id": "WXJokSOsZFQX"
      }
    },
    {
      "cell_type": "code",
      "source": [
        "!pip install stopwordsiso"
      ],
      "metadata": {
        "colab": {
          "base_uri": "https://localhost:8080/"
        },
        "id": "NWSMLsbqLBJr",
        "outputId": "5704ea2f-11af-4476-caa9-09794f201272"
      },
      "execution_count": 81,
      "outputs": [
        {
          "output_type": "stream",
          "name": "stdout",
          "text": [
            "Collecting stopwordsiso\n",
            "  Downloading stopwordsiso-0.6.1-py3-none-any.whl.metadata (2.5 kB)\n",
            "Downloading stopwordsiso-0.6.1-py3-none-any.whl (73 kB)\n",
            "\u001b[?25l   \u001b[90m━━━━━━━━━━━━━━━━━━━━━━━━━━━━━━━━━━━━━━━━\u001b[0m \u001b[32m0.0/73.5 kB\u001b[0m \u001b[31m?\u001b[0m eta \u001b[36m-:--:--\u001b[0m\r\u001b[2K   \u001b[90m━━━━━━━━━━━━━━━━━━━━━━━━━━━━━━━━━━━━━━━━\u001b[0m \u001b[32m73.5/73.5 kB\u001b[0m \u001b[31m3.0 MB/s\u001b[0m eta \u001b[36m0:00:00\u001b[0m\n",
            "\u001b[?25hInstalling collected packages: stopwordsiso\n",
            "Successfully installed stopwordsiso-0.6.1\n"
          ]
        }
      ]
    },
    {
      "cell_type": "code",
      "source": [
        "# Python\n",
        "import stopwordsiso as stopwords\n",
        "from collections import Counter\n",
        "stopwords.has_lang(\"hi\")"
      ],
      "metadata": {
        "colab": {
          "base_uri": "https://localhost:8080/"
        },
        "id": "wOd0iKkJJqiN",
        "outputId": "dfb93082-ab75-433b-afca-3c88b7902050"
      },
      "execution_count": 82,
      "outputs": [
        {
          "output_type": "execute_result",
          "data": {
            "text/plain": [
              "True"
            ]
          },
          "metadata": {},
          "execution_count": 82
        }
      ]
    },
    {
      "cell_type": "code",
      "source": [
        "# Get Hindi stopwords using stopwordsiso\n",
        "hindi_stopwords = stopwords.stopwords(\"hi\")\n",
        "print(hindi_stopwords)"
      ],
      "metadata": {
        "colab": {
          "base_uri": "https://localhost:8080/"
        },
        "id": "8SpJ0DxuTneD",
        "outputId": "338dff73-8a35-441b-9e1e-ea58f86924bf"
      },
      "execution_count": 83,
      "outputs": [
        {
          "output_type": "stream",
          "name": "stdout",
          "text": [
            "{'इंहें', 'बनि', 'आप', 'एस', 'नहिं', 'दबारा', 'किंहें', 'होता', 'कोन', 'इनका', 'जिंहें', 'इसकी', 'होना', 'पूरा', 'थि', 'किसि', 'अपनी', 'कौनसा', 'इसि', 'वर्ग', 'इन्हों', 'जिन्हें', 'दुसरा', 'वहीं', 'तरह', 'पर', 'हुअ', 'सभि', 'एक', 'होते', 'पे', 'उस', 'तो', 'भि', 'अदि', 'सबसे', 'उंहिं', 'कोइ', 'उनकी', 'की', 'तिसे', 'इसके', 'और', 'था', 'किन्हों', 'गया', 'जो', 'सारा', 'किसी', 'साबुत', 'अपना', 'उन्हें', 'बाद', 'निहायत', 'व', 'इन्हें', 'उसी', 'ऱ्वासा', 'उनके', 'जिसे', 'एसे', 'अभि', 'हुआ', 'यही', 'साभ', 'बाला', 'कर', 'तिन', 'वरग', 'हि', 'जिधर', 'आदि', 'उनको', 'कि', 'होने', 'कहा', 'कई', 'बहुत', 'कोई', 'तिस', 'इसी', 'से', 'लिए', 'वग़ैरह', 'दो', 'कितना', 'फिर', 'किर', 'यहि', 'को', 'है', 'वहां', 'वे', 'रहे', 'करें', 'अपने', 'सकते', 'तक', 'हें', 'दूसरे', 'अप', 'इस', 'करता', 'तिंहें', 'तिंहों', 'निचे', 'वुह', 'ही', 'हुई', 'उंहों', 'यहां', 'जहां', 'पहले', 'के', 'उनकि', 'ये', 'न', 'वहिं', 'नीचे', 'सो', 'का', 'हुए', 'उन्हीं', 'जिंहों', 'इन्हीं', 'रखें', 'किसे', 'यह', 'करने', 'जिन', 'जा', 'जैसे', 'भी', 'अभी', 'ऐसे', 'करना', 'किंहों', 'जीधर', 'यिह', 'बिलकुल', 'बहि', 'सभी', 'वगेरह', 'नहीं', 'सकता', 'कोनसा', 'उनका', 'एवं', 'जेसे', 'ओर', 'थी', 'थे', 'मे', 'यहाँ', 'अपनि', 'मानो', 'रवासा', 'होती', 'अंदर', 'होति', 'इसमें', 'हो', 'जब', 'लिये', 'किन्हें', 'बनी', 'पुरा', 'हैं', 'अत', 'इन', 'मगर', 'यदि', 'वहाँ', 'वाले', 'कुल', 'तिन्हों', 'हुइ', 'द्वारा', 'कौन', 'इतयादि', 'कइ', 'ने', 'इंहों', 'में', 'घर', 'उंहें', 'दुसरे', 'इसकि', 'उसे', 'इंहिं', 'भितर', 'जितना', 'दिया', 'भीतर', 'वह', 'किस', 'उसके', 'बही', 'या', 'जैसा', 'इसका', 'उन', 'इत्यादि', 'कहते', 'तब', 'संग', 'कुछ', 'जेसा', 'तिन्हें', 'ना', 'इसे', 'करते', 'जिन्हों', 'काफि', 'काफ़ी', 'दवारा', 'जहाँ', 'साथ', 'हे', 'लेकिन', 'उसि', 'किया', 'जिस', 'रहा', 'उन्हों'}\n"
          ]
        }
      ]
    },
    {
      "cell_type": "code",
      "source": [
        "len(hindi_stopwords)"
      ],
      "metadata": {
        "colab": {
          "base_uri": "https://localhost:8080/"
        },
        "id": "hdAN49rVT0XE",
        "outputId": "e004648a-9987-4b0c-d630-681efd36396c"
      },
      "execution_count": 84,
      "outputs": [
        {
          "output_type": "execute_result",
          "data": {
            "text/plain": [
              "225"
            ]
          },
          "metadata": {},
          "execution_count": 84
        }
      ]
    },
    {
      "cell_type": "code",
      "source": [
        "# Filter tokens to find stopwords and non-stopwords\n",
        "filtered_tokens = [word for word in tokens if word not in hindi_stopwords]\n",
        "filtered_stopwords = [word for word in tokens if word in hindi_stopwords]\n",
        "\n",
        "# Count unique stopwords and total number of stopwords\n",
        "stopword_counts = Counter(filtered_stopwords)\n",
        "total_stopwords = len(filtered_stopwords)\n",
        "\n",
        "# Length of total text without stopwords\n",
        "len_without_stopwords = len(filtered_tokens)\n",
        "\n",
        "# Output results\n",
        "print(\"Total Number of Tokens Present in Text:\", len(tokens))\n",
        "print(\"All Stopwords Present in Text:\", stopword_counts)\n",
        "print(\"Total Number of Stopwords:\", total_stopwords)\n",
        "print(\"\\nLength of Total Text Without Stopwords:\", len_without_stopwords)"
      ],
      "metadata": {
        "colab": {
          "base_uri": "https://localhost:8080/"
        },
        "id": "h_RMjd2wTuYv",
        "outputId": "08a0b4d0-feb8-4e4b-af7e-5c99404550fe"
      },
      "execution_count": 85,
      "outputs": [
        {
          "output_type": "stream",
          "name": "stdout",
          "text": [
            "Total Number of Tokens Present in Text: 7498\n",
            "All Stopwords Present in Text: Counter({'के': 471, 'से': 159, 'कि': 158, 'में': 128, 'ना': 102, 'पर': 60, 'रहे': 40, 'हो': 39, 'कर': 31, 'नीचे': 28, 'कुछ': 27, 'जब': 23, 'एक': 21, 'भी': 20, 'लेकिन': 18, 'बहुत': 16, 'अपना': 16, 'का': 14, 'तक': 12, 'ओर': 11, 'तरह': 11, 'घर': 10, 'पूरा': 10, 'जा': 8, 'सबसे': 7, 'तब': 7, 'साथ': 6, 'जहाँ': 6, 'बाद': 5, 'भीतर': 5, 'ही': 3, 'अभी': 3, 'उनका': 3, 'कई': 3, 'अंदर': 2, 'फिर': 1, 'द्वारा': 1, 'सारा': 1})\n",
            "Total Number of Stopwords: 1486\n",
            "\n",
            "Length of Total Text Without Stopwords: 6012\n"
          ]
        }
      ]
    },
    {
      "cell_type": "markdown",
      "source": [
        "**Regular Expressions**"
      ],
      "metadata": {
        "id": "PDv4qPDGh_Il"
      }
    },
    {
      "cell_type": "code",
      "source": [
        "unique_tokenwords = sorted(set(tokens))\n",
        "print(\"Sorted unique words:\", unique_tokenwords)"
      ],
      "metadata": {
        "colab": {
          "base_uri": "https://localhost:8080/"
        },
        "id": "I41DPsBZkijQ",
        "outputId": "f879929e-a320-4cfb-c072-6bfe8be70af3"
      },
      "execution_count": 86,
      "outputs": [
        {
          "output_type": "stream",
          "name": "stdout",
          "text": [
            "Sorted unique words: ['!', \"''\", '(', ')', ',', '-जा', '.', '...', ';', '?', 'अंकुर', 'अंकुरित', 'अंगूठी', 'अंगूर', 'अंग्रेजी', 'अंडर', 'अंतहीन', 'अंतिम', 'अंदर', 'अंधविश्वास', 'अइनी', 'अइसन', 'अइसने', 'अइसे', 'अउरी', 'अकेले', 'अकेले।', 'अक्सर', 'अगर', 'अचरज', 'अचल', 'अचानक', 'अजीब', 'अतना', 'अतने', 'अत्याचारी', 'अद्भुत', 'अधिकतर', 'अधिका', 'अध्ययन', 'अनन्तता', 'अनसुना', 'अनिश्चित', 'अनुचित', 'अनुमान', 'अपना', 'अपमानजनक', 'अब', 'अबकी', 'अबहियों', 'अबहीं', 'अभद्रता', 'अभिव्यक्ति', 'अभी', 'अभी-अभी।', 'अयीसन', 'अरबेस्क', 'अलग', 'अलग-अलग', 'अलग-थलग', 'अलावे', 'अवसाद-', 'अवहेलना', 'अविश्वसनीय', 'अवुरी', 'अशुद्ध', 'असंख्य', 'असमंजस', 'असल', 'असली', 'असहमत', 'अस्थायी', 'आ', 'आँख', 'आँखि', 'आंकड़ा', 'आइल', 'आई', 'आईल', 'आकर्षक', 'आकार', 'आकृति', 'आखिर', 'आखिरकार', 'आखिरी', 'आज', 'आजमा', 'आजमावे', 'आजु', 'आज्ञा', 'आडंबर', 'आडंबरपूर्ण', 'आतंक', 'आतिशबाजी', 'आत्मसंयम', 'आत्महत्या—अपमानजनक', 'आत्मा', 'आदत', 'आदमी', 'आधा', 'आपके', 'आपन', 'आम', 'आराम', 'आरामदायक', 'आर्बर', 'आलसी', 'आवत', 'आवाज', 'आवे', 'आवेला', 'आवेला-हम', 'आवेला।', 'आवेले।', 'आशीर्वाद', 'आश्चर्य', 'आश्चर्यचकित', 'आसपास', 'आसानी', 'इ', 'इंतजार', 'इच्छा', 'इच्छाशक्ति', 'इधर-उधर', 'इयाद', 'इरादा', 'इस्तेमाल', 'इहाँ', 'इहाँ-उहाँ', 'इहे', 'ई', 'उ', 'उचित', 'उच्च', 'उच्चारण', 'उजाला', 'उठ', 'उठा', 'उठाईं', 'उठाईब', 'उठावत', 'उठावे', 'उड़ावत', 'उड़ावल', 'उड़ावेला', 'उतर', 'उतरल', 'उतारल', 'उतारल-कागज-हमार', 'उत्तेजक', 'उत्साह', 'उत्साहित', 'उत्साही', 'उदास', 'उधम', 'उनकर', 'उनका', 'उनुकर', 'उनुका', 'उप-पैटर्न', 'उपक्रम', 'उपेक्षा', 'उभरत', 'उमेद', 'उम्मीद', 'उल्टा', 'उल्टा-पुल्टा', 'उहाँ', 'उहे', 'उहो', 'ऊ', 'ऊँच', 'ऊंचाई', 'ऊपर', 'ऊपर।', 'ऊहाॅंं', 'ऊहाॅंं।', 'ऊहो', 'ऊ—उहाँ', 'ए', 'एक', 'एकर', 'एकरा', 'एके', 'एगो', 'एतना', 'एले', 'एल्म', 'एस्टेट', 'एह', 'एहमें', 'एहसास', 'एहसे', 'एहिजा', 'एही', 'ऑप्टिक', 'ऑयल', 'ओ', 'ओइसहीं', 'ओइसे-ओइसे', 'ओकर', 'ओकरा', 'ओतना', 'ओतने', 'ओर', 'ओर।', 'ओवर', 'ओसही', 'ओह', 'ओहमें', 'ओहिजा', 'औपनिवेशिक', 'क', 'कंधा', 'कंपनी', 'कइनी', 'कइनी।', 'कइल', 'कइलन', 'कइलसि', 'कइला', 'कइली-ई', 'कइले', 'कइसन', 'कइसे', 'कई', 'कईनी', 'कईल', 'कईले', 'कठिन', 'कठोर', 'कतना', 'कदम', 'कपड़ा', 'कपार।', 'कबूल', 'कबो', 'कबो-कबो', 'कब्जा', 'कम', 'कमजोरी', 'कमरा', 'कमी', 'कर', 'करत', 'करतानी', 'करत।', 'करब', 'करब।', 'करवा', 'करसु', 'करा', 'करावेला।', 'करित', 'करित।', 'करिया', 'करीं', 'करीं.', 'करीं।', 'करीत।', 'करीब', 'करीबी—उनका', 'करे', 'करेनी', 'करेला', 'कर्तव्य', 'कर्तव्यनिष्ठा', 'कलात्मक', 'कल्पना', 'कल्पनाशक्ति', 'कवक', 'कवना', 'कवनो', 'कष्ट', 'कह', 'कहत', 'कहतारे', 'कहनी', 'कहब', 'कहल', 'कहलस', 'कहलस—बहुत', 'कहली', 'कहले', 'कहले।', 'कहानी', 'कहेनी', 'कहेले', 'कहे।', 'का', 'कागज', 'कागज।', 'काट', 'कानून', 'कानूनी', 'काफी', 'काबू', 'काम', 'कामना', 'काम।', 'कारण', 'काल्ह', 'काल्हु', 'काश', 'काहे', 'काहे—निजी', 'कि', 'किनारे', 'किरण-ई', 'किराया', 'किराये', 'किस्मत', 'कि—रउरा', 'कील', 'कुछ', 'कुछुओ', 'कुर्सी', 'कुल्हाड़ी', 'कूद', 'कृतघ्न', 'कृप्या', 'के', 'केंद्र', 'केतना', 'केला', 'केस', 'केहू', 'के।', 'के—हम', 'कैनवास', 'कॉड-लिवर', 'कोठरी', 'कोण', 'कोना', 'कोमल', 'कोरा', 'कोशिश', 'कोहरा', 'क्रम', 'क्रमबद्ध', 'क्रॉस-लाइट', 'क्वीयर', 'क्षैतिज', 'खड़ा', 'खतम', 'खतरनाक', 'खतरा', 'खराब', 'खराब।', 'खरोंच', 'खाड़ी', 'खात', 'खाता', 'खातिर', 'खातिर।', 'खाती', 'खाना', 'खाली', 'खास', 'खिड़की', 'खिलौना-स्टोर', 'खिसिया', 'खिसियाइल', 'खींच', 'खींचनी', 'खींचली', 'खुद', 'खुदे', 'खुल', 'खुलल', 'खुला', 'खुश', 'खुशी', 'खेती', 'खेल', 'खैर', 'खोजे', 'खोदल', 'खोलल', 'खोलऽ', 'खौफनाक', 'ख्याल', 'गँवावे', 'गंदा', 'गंध', 'गंभीर', 'गंभीरता', 'गइनी', 'गइल', 'गइलन', 'गइला', 'गइले', 'गइल।', 'गईनी', 'गईल', 'गईल।', 'गज', 'गद्दा', 'गयिल', 'गर्दन', 'गर्मी', 'गर्व', 'गलतफहमी', 'गला', 'गले', 'गहिराह', 'गाँव', 'गाड़ी', 'गिनती', 'गिरा', 'गिरावट', 'गिलमैन', 'गुजर', 'गुजरल', 'गुप्त', 'गुलाब', 'गेट', 'गॉग', 'गो', 'गोधूलि', 'गोर', 'गोल-गोल-गोल-गोल-गोल-गोल-चक्कर', 'गोली', 'ग्रीनहाउस', 'घंटन', 'घंटा', 'घड़ी', 'घबराहट', 'घर', 'घरे', 'घर—गंध', 'घाट', 'घाम', 'घास', 'घिनौना', 'घुंडी', 'घुमा', 'घुमाव', 'घुमावदार', 'घुमावेला', 'घुस', 'घुसत', 'घूमत', 'घूमल', 'घोषणा', 'चचेरा', 'चढ़', 'चढ़े', 'चतुराई', 'चमकत', 'चमकदार', 'चमकेला', 'चमकेला।', 'चरम', 'चल', 'चलत', 'चलते।', 'चलीं', 'चलेला', 'चलेला।', 'चाँद', 'चाँदनी', 'चाबी', 'चाभी', 'चारो', 'चारों', 'चाहत', 'चाहत।', 'चाहब', 'चाहीं', 'चाहीं।', 'चाहे', 'चिंट्ज', 'चिंतित', 'चिकना', 'चिकित्सक', 'चिढ़ावत', 'चिढ़ावल', 'चिढ़ावे', 'चिन्हित', 'चिपक', 'चिपकल', 'चिल्लात', 'चीज', 'चीजन', 'चीज़', 'चीराइल', 'चुप', 'चुपचाप', 'चुपचाप।', 'चेतवले', 'चेहरा', 'चोरी', 'चौड़ाई', 'चौथा', 'छाया', 'छायादार', 'छिपल', 'छिलका', 'छील', 'छूवल', 'छूवेला-जीवित', 'छोट', 'छोट-छोट', 'छोटका', 'छोटकी', 'छोड़', 'छोड़ल', 'छोर', 'जइबऽ', 'जइसन', 'जइसहीं', 'जइसे', 'जइसे-जइसे', 'जइहें', 'जकड़ल', 'जगह', 'जगहन', 'जगावे', 'जज', 'जतना', 'जनता', 'जब', 'जबकि', 'जबले', 'जमाना', 'जमीन', 'जरा', 'जरूर', 'जरूरत', 'जरूरी', 'जल्दी', 'जवन', 'जवना', 'जवान', 'जहाँ', 'जा', 'जांच', 'जाइब', 'जाइब।', 'जाइल', 'जाई', 'जाईं', 'जाईं-लेकिन', 'जाईब', 'जाई।', 'जाए', 'जाके', 'जाग', 'जागल', 'जादा', 'जानत', 'जानल', 'जानी', 'जानी।', 'जाला', 'जाला।', 'जाली', 'जाले', 'जाले।', 'जाव', 'जास', 'जास।', 'जा।', 'जिंदा', 'जिक्र', 'जिनिगी', 'जिमनास्टिक', 'जीवन', 'जुड़', 'जुलाई', 'जूलिया', 'जे', 'जेतना', 'जेन', 'जेनी', 'जॉन', 'जोड़', 'जोड़न', 'जोर', 'जोर।', 'झपकत', 'झपकी', 'झाड़ी', 'झुक', 'झूठ', 'टकटकी', 'टिंट', 'टुकड़ा', 'टूट', 'टूटल', 'टॉडस्टूल', 'टॉनिक', 'टॉप', 'ट्रेमेंस', 'ठंडा', 'ठीक', 'ठोकल', 'डर', 'डाइनिंग-रूम', 'डाक्टर', 'डार्लिंग', 'डाल', 'डालत', 'डालल', 'डिजाइन', 'डियर', 'डुबकी', 'डूब', 'डेरावे', 'ड्राफ्ट', 'ढंकल', 'ढेर', 'त', 'तंत्रिका', 'तइयार।', 'तक', 'तकिया-केस', 'तनी', 'तनी-मनी', 'तब', 'तबले', 'तबहियो', 'तबाह', 'तबाही', 'तबो', 'तय', 'तरह', 'तरह-तरह', 'तरीका', 'तरीका।', 'तहरा', 'ताकत', 'तार', 'ताला', 'तिरछा', 'तीन', 'तीव्र', 'तुलनात्मक', 'तू', 'तेज', 'तेजी', 'तेज।', 'तोड़', 'तोहरा', 'तोहार', 'तौर', 'तौलत', 'थक', 'थका', 'थकाऊ', 'थप्पड़', 'दयालुता', 'दयालु।', 'दर', 'दरवाजा', 'दर्द', 'दाँत', 'दाग', 'दिआवत', 'दिआवे', 'दिक्कत', 'दिन', 'दिने', 'दिमाग', 'दिल', 'दिलचस्प', 'दिला', 'दिशा।', 'दिहनी।', 'दिहल', 'दिहलस', 'दिहलसि', 'दिहलस।', 'दिहलस—लेकिन', 'दिहले', 'दिहे', 'दीं', 'दीया', 'दीहें', 'दु', 'दुआर', 'दुख', 'दुनिया', 'दुर्लभ', 'दू', 'दूर', 'दूरी', 'दूर।', 'दूसरा', 'दृढ़ता', 'देख', 'देखत', 'देखतानी।', 'देखनी', 'देखनी।', 'देखल', 'देखलस', 'देखला', 'देखली', 'देखले', 'देखावत', 'देखीं।', 'देखे', 'देत', 'देनी।', 'देब', 'देबे', 'देर', 'देला', 'देला।', 'देले', 'देले।', 'देवाल', 'देवालन', 'देवे', 'देश', 'देसु', 'दोष', 'दोसर', 'दोसरा', 'दोस्त', 'दोस्तन', 'दोहराव', 'दोहरावल', 'दौड़त', 'दौड़ल।', 'दौरा', 'द्वारा', 'द्वेष', 'धकेले', 'धधकत', 'धन्य', 'धब्बा-धब्बा', 'धीरे', 'धीरे-धीरे', 'धीरे-धीरे।', 'धूप', 'धूर्त', 'धैर्य', 'धोखा', 'नंगा', 'नइखी', 'नइखीं', 'नइखे', 'नइखे-पहिले', 'नइखे-सिर्फ', 'नइखे।', 'नइखे—उहाँ', 'नइखे—ओह', 'नईखी', 'नईखे', 'नईखे।', 'नजर', 'नजारा', 'नफरत', 'नम', 'नया', 'नर्सरी', 'ना', 'नाटक', 'नाम', 'नाराज', 'नाव', 'ना।', 'निंदा', 'निकल', 'निकलल', 'निकली', 'निकले', 'निकाले', 'निजी', 'नियम', 'नियर', 'निराकार', 'निराशाजनक', 'निर्जीव', 'निशान', 'निस्संदेह', 'निहन', 'निहोरा', 'नींद', 'नीक', 'नीच', 'नीचे', 'नीरस', 'नेल्ली', 'नोटिस', 'नौकर-चाकर', 'प', 'पकड़', 'पकड़ल', 'पट्टा', 'पट्टी', 'पड़', 'पड़ल', 'पड़ल।', 'पड़ी', 'पड़े', 'पड़ेला', 'पढ़त', 'पढ़ले', 'पढ़ाई', 'पतई', 'पता', 'पति', 'पत्ता', 'पद', 'पनपत', 'पनपेला-प्रलाप', 'पर', 'परकार।', 'परफेक्ट', 'परवाह', 'परिकल्पना', 'परेशान', 'परेशानी', 'पर्किन्स', 'पर्चे', 'पर—हम', 'पल', 'पलट', 'पलटला', 'पवनी', 'पवले', 'पसंद', 'पहिलहीं', 'पहिला', 'पहिले', 'पहुँच', 'पहुँचे', 'पहुंच', 'पा', 'पाई', 'पाउंड', 'पाप', 'पार', 'पार्लर', 'पालन', 'पावल', 'पिछला', 'पियाज़ा', 'पीछा', 'पीछे', 'पीयर', 'पीला', 'पुरान', 'पूछत', 'पूछनी', 'पूछनी।', 'पूछब', 'पूछल', 'पूछलस', 'पूछले', 'पूरब', 'पूरा', 'पेटेंट', 'पेड़न', 'पेड़।', 'पेपर', 'पेशा।', 'पैच', 'पैटर्न', 'पैतृक', 'पैदा', 'प्यार', 'प्यारा', 'प्रतिबद्ध', 'प्रभाव', 'प्रभावशाली', 'प्रभावित', 'प्रयास', 'प्रवृत्ति', 'प्रवृत्ति-एक', 'प्रिय', 'प्रियतम', 'प्रेस', 'प्रोत्साहन-लेकिन', 'प्रोफेशनल', 'प्लास्टर', 'प्लेरूम', 'फंगस', 'फइलल', 'फर्नीचर', 'फर्श', 'फांसी', 'फाटल', 'फाड़', 'फायदा', 'फिट', 'फिर', 'फीका', 'फूल', 'फूलदार', 'फूलल', 'फूहड़पन', 'फेंक', 'फेर', 'फेरु', 'फेलिसिटी', 'फैंसी', 'फैंसी।', 'फॉलो', 'फॉलोइंग', 'फॉस्फाइट', 'फॉस्फेट', 'फोन', 'फ्रीज', 'बंद', 'बइठ', 'बइठल', 'बक्सा', 'बगइचा', 'बगल', 'बचपन', 'बचि', 'बच्चा', 'बच्ची', 'बटोर', 'बड़का', 'बड़हन', 'बड़हन-बड़हन', 'बढ़ती', 'बढ़िया', 'बताइब', 'बताईं', 'बताईब', 'बतावल', 'बतावे', 'बतियाईं', 'बदल', 'बदलत', 'बदलला', 'बदलाव', 'बन', 'बनवनी', 'बनवले', 'बना', 'बनावल', 'बनावे', 'बनावेला', 'बरकरार', 'बरखा', 'बराबर', 'बरामदा', 'बरिसन', 'बर्दाश्त', 'बलुक', 'बल्ब', 'बस', 'बसल', 'बहरी।', 'बहाना', 'बहिन', 'बहुत', 'बहुते', 'बा', 'बा-', 'बा-आ', 'बा.', 'बाकिर', 'बाकी', 'बाड़न', 'बाड़ऽ', 'बाड़ी', 'बाड़ी।', 'बाड़ू', 'बाड़े', 'बाड़े।', 'बात', 'बात।', 'बात—हम', 'बाद', 'बादल', 'बाधा', 'बानी', 'बानी-ई', 'बानी-जवन', 'बानी।', 'बानी—रउरा', 'बानी—हम', 'बान्ह', 'बार', 'बार-बार', 'बारी-बारी', 'बारे', 'बाल', 'बावजूद', 'बाहर', 'बाहरी', 'बा।', 'बिगाड़', 'बिछौना', 'बिछौना-खिड़की', 'बिता', 'बिना', 'बिया', 'बियाह', 'बिल्कुल', 'बिस्तर', 'बीच-बीच', 'बीमार', 'बुझाइल', 'बुद्धिमान', 'बुरा', 'बेचारा', 'बेडस्टेड', 'बेतुका', 'बेमतलब', 'बेमार', 'बेर', 'बेल', 'बेला', 'बेवजह', 'बेशक', 'बेसब्री', 'बेसी', 'बेहतर', 'बेहोश', 'बैक', 'बोझ', 'ब्यूरो', 'ब्लैकबेरी', 'भइल', 'भइल।', 'भईल', 'भगवान', 'भगावे', 'भटक', 'भड़काऊ', 'भड़कावत', 'भयंकर', 'भयानक', 'भयावह', 'भयावहता', 'भर', 'भरमार।', 'भरल', 'भरल।', 'भरोसा', 'भलाई', 'भले', 'भा', 'भाई', 'भाग', 'भागे', 'भाग्यशाली', 'भारी', 'भाव', 'भाव।', 'भी', 'भीतर', 'भी।', 'भूख', 'भूत-प्रेत', 'भूतिया', 'भूला', 'भेंट', 'भेज', 'भेद', 'भोजन', 'भ्रम', 'भ्रमित', 'मंजिल', 'मंडरा', 'मंद', 'मखमली', 'मचावे', 'मजबूत', 'मजबूर', 'मजा', 'मजाक', 'मजेदार', 'मत', 'मतलब', 'मदद', 'मद्धिम', 'मन', 'मना', 'मनोरंजन', 'मरम्मत', 'मरल', 'मरीज', 'महत्व', 'महसूस', 'महान', 'महारत', 'महीना', 'मांस-रंग', 'मांस।', 'माई', 'माथा', 'माध्यम', 'मानना', 'माने', 'मामला', 'मामिला', 'मार', 'मारत', 'माली', 'मालूम', 'मासूम', 'मिचौनी', 'मिल', 'मिलत', 'मिलल', 'मिलला', 'मिलल।', 'मिली', 'मिले', 'मिलेला', 'मिशेल', 'मील', 'मुड़', 'मुश्किल', 'मूर्ख', 'मूर्खतापूर्ण', 'में', 'में।', 'मेल', 'मेहरारू', 'मैदान', 'मैरी', 'मोपबोर्ड', 'मोमबत्ती', 'मोलभाव', 'मौसम', 'यातना', 'यात्रा', 'याद', 'युद्धन', 'यूहन्ना', 'रंग', 'रउआ', 'रउरा', 'रख', 'रखल', 'रखले', 'रगड़ल', 'रस्सी', 'रह', 'रहतीं', 'रहनी', 'रहनी-बटरकप', 'रहनी-बड़का', 'रहनी।', 'रहल', 'रहली', 'रहली-', 'रहले', 'रहले।', 'रहस्यमयी', 'रहि', 'रहित', 'रहीं', 'रहे', 'रहेनी', 'रहेनी।', 'रहेला', 'रहेला।', 'रहेली', 'रहेली।', 'रहेले', 'रहे।', 'राउर', 'राखल', 'राखीं', 'राखे', 'राखेनी', 'राखेला', 'रात', 'रास्ता', 'राह', 'राहत', 'रिपोर्ट', 'रिश्तेदारन', 'रुक', 'रुचि', 'रूप', 'रूपरेखा', 'रेंग', 'रेंगत', 'रेंगत-रेंगत', 'रेंगत।', 'रेंगला', 'रेत', 'रोज', 'रोमनस्क्यू', 'रोमांचक', 'रोमांटिक', 'रोवत', 'रोवेनी', 'रोवेनी।', 'रोशनी', 'रौंद', 'लंगड़ा', 'लंबा', 'लइकन', 'लइका', 'लइका-लइकी', 'लइकी', 'लउकत', 'लउकल—हमरा', 'लकीर', 'लगनी—हम', 'लगभग', 'लगा', 'लगातार', 'लगे', 'लटकल', 'लड़िकन', 'लमहर', 'लहरदार', 'लहरन', 'लहरात', 'लहरात।', 'लाइन', 'लागत', 'लागता', 'लागता।', 'लागल', 'लागी', 'लागे', 'लागेला', 'लाज', 'लाम।', 'लायक', 'लिख', 'लिखत', 'लिखनी', 'लिखल', 'लिखे', 'लिहलस', 'लिहले', 'लीं।', 'लुक', 'लुका', 'लुकाइल', 'लूरिड', 'ले', 'लेकिन', 'लेके', 'लेखन', 'लेट', 'लेटत', 'लेटवा', 'लेत', 'लेतीं', 'लेन', 'लेनी', 'लेब', 'लेबे', 'लेला', 'लेले', 'लेहनी', 'लोग', 'लोल', 'वंशानुगत', 'वइसे', 'वक्रता', 'वगैरह', 'वजन', 'वजह', 'वन', 'वश', 'वापस', 'वारिस', 'वाला', 'वास्तव', 'विकर्षण', 'विकास', 'विकिरण', 'विचार', 'विचित्रता', 'विद्रोही', 'विरोध', 'विरोधाभास', 'विशिष्टता', 'विश्लेषण', 'विश्वास', 'वेयर', 'वैज्ञानिक', 'वैद्य', 'वॉलपेपर', 'व्यवस्था', 'व्यायाम', 'व्यायामशाला', 'व्यावहारिक', 'शक', 'शब्द', 'शब्द।', 'शराब', 'शरीर', 'शहर', 'शांत', 'शातिर', 'शायद', 'शायदे', 'शायद—', 'शार्लोट', 'शिकार', 'शुद्ध', 'शुरुआत', 'शुरू', 'शेड', 'शेड्यूल', 'शैवाल।', 'शौक', 'सँ', 'संख्या', 'संगे', 'संतरा', 'संतुष्ट', 'संपत्ति', 'संबंधित', 'संयमित', 'संवेदनशील', 'सकत', 'सकतानी', 'सकारात्मक', 'सकीं', 'सकीलें', 'सकीले।', 'सके', 'सकेनी', 'सकेनी.', 'सकेनी।', 'सकेला', 'सकेली', 'सक्षम', 'सक्षम—सज-धज', 'सचमुच', 'सचहूँ', 'सचहूं', 'सड़क', 'सनक', 'सपना।', 'सप्ताह', 'सफेदी', 'सब', 'सबसे', 'सबेरे', 'सभ', 'समय', 'समरसाल्ट', 'समरूपता', 'समाज', 'समुद्री', 'सराहनीय', 'सलाख', 'सलाह', 'सल्फर', 'सवारी', 'सवाल', 'सस्ता', 'सह-वारिस', 'सहज', 'सही', 'साँचहू', 'साँझ', 'साथ', 'साथी', 'साथे', 'साथे-साथे', 'सादा', 'साफ', 'सामने', 'सामान', 'सामान्य', 'सारा', 'सावधान', 'सिद्धांत', 'सिर', 'सिर्फ', 'सिवाय', 'सीट', 'सीढ़ी', 'सीधा', 'सीधे', 'सीमा', 'सुंदर', 'सुखद', 'सुचारू', 'सुत', 'सुतत', 'सुतब', 'सुतल', 'सुतऽ', 'सुते', 'सुधारत', 'सुधारल', 'सुनले', 'सुनले।', 'सुन्दर', 'सुरक्षित', 'सुलग।', 'सूक्ष्म', 'सूरज', 'से', 'से—ई', 'से—उ', 'से—चाँद', 'सोख', 'सोच', 'सोचत', 'सोचतानी', 'सोचनी', 'सोचले', 'सोचीं', 'सोचीं—ई', 'सोचे', 'सोचेनी', 'सौदा', 'सौदा—एह', 'सौभाग्य', 'स्कुलिंग', 'स्कूल', 'स्कोर', 'स्तंभ', 'स्थायी', 'स्थिति', 'स्थिर', 'स्पॉट', 'स्मूच', 'स्वभाव', 'स्वादिष्ट', 'ह', 'हँस', 'हँसत-हँसत', 'हँसले', 'हँसे', 'हँसेला', 'हँसेले', 'हंस', 'हई', 'हईं', 'हई।', 'हउवें', 'हजारवाँ', 'हताश', 'हतोत्साहित', 'हफ्ता', 'हम', 'हमनी', 'हमरा', 'हमार', 'हमेशा', 'हर', 'हरियर', 'हलचल', 'हल्का', 'हवा', 'हवादार', 'हवें', 'हवेली', 'हाउसकीपर', 'हाथ', 'हालत', 'हालांकि', 'हावी', 'हासिल', 'हिल', 'हिलत-डुलत', 'हिलल', 'हिला', 'हिलावे', 'हिलेला-आ', 'हिसाब', 'हिस्टीरिकल', 'ही', 'ही।', 'हुर्राह', 'हेज', 'हेनरी', 'हॉप', 'हॉरर', 'हॉल', 'हो', 'होई', 'होके', 'होखत', 'होखब', 'होखबऽ.', 'होखल', 'होखी', 'होखीं', 'होखीहें', 'होखे', 'होखेनी।', 'होखेला', 'होखेला।', 'होखे।', 'होला', 'होला।', 'होला—हम', 'ह।', '\\u200b\\u200bबा', '\\u200b\\u200bहम', '—अंतहीन', '—अरे', '—आ', '—उनुका', '—ऊ', '—कम', '—काहे', '—लेकिन', '—शायद', '—हम', '“', '”']\n"
          ]
        }
      ]
    },
    {
      "cell_type": "code",
      "source": [
        "import re\n",
        "wordlist = unique_tokenwords"
      ],
      "metadata": {
        "id": "2N_hBaEHfHrd"
      },
      "execution_count": 87,
      "outputs": []
    },
    {
      "cell_type": "code",
      "source": [
        "[w for w in wordlist if re.search('इल$', w)]"
      ],
      "metadata": {
        "colab": {
          "base_uri": "https://localhost:8080/"
        },
        "id": "af_mcr4Ri4A2",
        "outputId": "5439a00b-9465-4671-e016-34edefa094cb"
      },
      "execution_count": 88,
      "outputs": [
        {
          "output_type": "execute_result",
          "data": {
            "text/plain": [
              "['आइल', 'कइल', 'खिसियाइल', 'गइल', 'चीराइल', 'जाइल', 'बुझाइल', 'भइल', 'लुकाइल']"
            ]
          },
          "metadata": {},
          "execution_count": 88
        }
      ]
    },
    {
      "cell_type": "code",
      "source": [
        "[w for w in wordlist if re.search('^अइ', w)]"
      ],
      "metadata": {
        "colab": {
          "base_uri": "https://localhost:8080/"
        },
        "id": "R-D5TktVjpBe",
        "outputId": "2da245f9-c61e-45aa-81f6-ce051a8bcceb"
      },
      "execution_count": 89,
      "outputs": [
        {
          "output_type": "execute_result",
          "data": {
            "text/plain": [
              "['अइनी', 'अइसन', 'अइसने', 'अइसे']"
            ]
          },
          "metadata": {},
          "execution_count": 89
        }
      ]
    },
    {
      "cell_type": "code",
      "source": [
        "[w for w in wordlist if re.search('^उ..व.$', w)]"
      ],
      "metadata": {
        "colab": {
          "base_uri": "https://localhost:8080/"
        },
        "id": "5L6plCWjk1GM",
        "outputId": "6918caa7-3bf1-4764-903e-a2cf3b93daa5"
      },
      "execution_count": 90,
      "outputs": [
        {
          "output_type": "execute_result",
          "data": {
            "text/plain": [
              "['उठावत', 'उठावे']"
            ]
          },
          "metadata": {},
          "execution_count": 90
        }
      ]
    },
    {
      "cell_type": "code",
      "source": [
        "[w for w in wordlist if re.search('^[अआइ][हमग]$', w)]"
      ],
      "metadata": {
        "colab": {
          "base_uri": "https://localhost:8080/"
        },
        "id": "GlPqUYN5lct6",
        "outputId": "9c6843a8-9f66-41a1-ebc3-f3125d2aa376"
      },
      "execution_count": 91,
      "outputs": [
        {
          "output_type": "execute_result",
          "data": {
            "text/plain": [
              "['आम']"
            ]
          },
          "metadata": {},
          "execution_count": 91
        }
      ]
    },
    {
      "cell_type": "code",
      "source": [
        "[w for w in wordlist if re.search('^बु+झा+इ+ल+$', w)]"
      ],
      "metadata": {
        "colab": {
          "base_uri": "https://localhost:8080/"
        },
        "id": "KBPs5FyWp2uP",
        "outputId": "88f47254-567c-4eb3-a551-214e1932445b"
      },
      "execution_count": 92,
      "outputs": [
        {
          "output_type": "execute_result",
          "data": {
            "text/plain": [
              "['बुझाइल']"
            ]
          },
          "metadata": {},
          "execution_count": 92
        }
      ]
    },
    {
      "cell_type": "code",
      "source": [
        "print([w for w in wordlist if re.search('^[अ-श्र]{4,7}$', w)])"
      ],
      "metadata": {
        "colab": {
          "base_uri": "https://localhost:8080/"
        },
        "id": "IndVjtvyoTL9",
        "outputId": "dbd8f30e-62d1-418d-934b-ca93c5961d5d"
      },
      "execution_count": 93,
      "outputs": [
        {
          "output_type": "stream",
          "name": "stdout",
          "text": [
            "['अचरज', 'अध्ययन', 'आर्बर', 'आश्चर्य', 'उच्च', 'उतरल', 'उनकर', 'उपक्रम', 'उभरत', 'एल्म', 'कइलन', 'कर्तव्य', 'क्रम', 'गइलन', 'गर्दन', 'गर्व', 'चमकत', 'झपकत', 'दर्द', 'धधकत', 'धन्य', 'नफरत', 'पनपत', 'फइलल', 'फर्श', 'बइठल', 'बचपन', 'बदलत', 'बल्ब', 'भ्रम', 'मतलब', 'मरम्मत', 'लइकन', 'लउकत', 'लगभग', 'लटकल', 'शब्द']\n"
          ]
        }
      ]
    },
    {
      "cell_type": "code",
      "source": [
        "[w for w in wordlist if re.search('^[अ-श्र]{3,}-[अ-श्र]{2,3}$', w)]"
      ],
      "metadata": {
        "colab": {
          "base_uri": "https://localhost:8080/"
        },
        "id": "OOxr3EX1qDAS",
        "outputId": "cda496e9-d35d-4eae-dc3f-d50f84bfb18b"
      },
      "execution_count": 94,
      "outputs": [
        {
          "output_type": "execute_result",
          "data": {
            "text/plain": [
              "['अलग-अलग', 'अलग-थलग', 'इधर-उधर']"
            ]
          },
          "metadata": {},
          "execution_count": 94
        }
      ]
    },
    {
      "cell_type": "code",
      "source": [
        "print([w for w in wordlist if re.search('(इल|लन)$', w)])"
      ],
      "metadata": {
        "colab": {
          "base_uri": "https://localhost:8080/"
        },
        "id": "GE3N5pPlskxQ",
        "outputId": "0401002f-b9b2-40ad-970c-48a407a341a0"
      },
      "execution_count": 95,
      "outputs": [
        {
          "output_type": "stream",
          "name": "stdout",
          "text": [
            "['आइल', 'कइल', 'कइलन', 'खिसियाइल', 'गइल', 'गइलन', 'चीराइल', 'जाइल', 'देवालन', 'पालन', 'बुझाइल', 'भइल', 'लुकाइल']\n"
          ]
        }
      ]
    },
    {
      "cell_type": "code",
      "source": [],
      "metadata": {
        "id": "9jsy22bR45uh"
      },
      "execution_count": 95,
      "outputs": []
    }
  ]
}